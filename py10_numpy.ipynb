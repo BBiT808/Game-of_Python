{
 "cells": [
  {
   "cell_type": "code",
   "execution_count": null,
   "metadata": {
    "id": "ays-i9GHjqEe"
   },
   "outputs": [],
   "source": [
    "# 20250225 첫 코랩 수업~~! (그치만 전체로는 17번째라는 . . . )"
   ]
  },
  {
   "cell_type": "code",
   "execution_count": 3,
   "metadata": {
    "id": "J-6UQyzTg__-"
   },
   "outputs": [],
   "source": [
    "with open('test.txt','w') as f :\n",
    "  data = f.write('반가워요')  # 저장이 가능하다. 저장경로는 /content/sample_data\n",
    "with open('./drive/MyDrive/ReadMe.md','w') as f :   # 저장경로를 지정해줬다 !\n",
    "  data = f.write('*반가워요')\n",
    "  print(\"저장되었습니다.\")"
   ]
  },
  {
   "cell_type": "code",
   "execution_count": 2,
   "metadata": {
    "colab": {
     "base_uri": "https://localhost:8080/"
    },
    "id": "HezC-nwxiEEP",
    "outputId": "a0712f6e-d38c-4af0-b833-e01f3ce0a089"
   },
   "outputs": [
    {
     "name": "stdout",
     "output_type": "stream",
     "text": [
      "저장되었습니다.\n"
     ]
    }
   ],
   "source": [
    "with open('./drive/MyDrive/ReadMe.md','w') as f :   # 저장경로를 지정해줬다 !\n",
    "  data = f.write('*반가워요')\n",
    "  print(\"저장되었습니다.\")"
   ]
  },
  {
   "cell_type": "markdown",
   "metadata": {
    "id": "kw1rlO6virM-"
   },
   "source": [
    "# 넘파이(numpy)"
   ]
  },
  {
   "cell_type": "markdown",
   "metadata": {
    "id": "ZWR_Bfp-jat-"
   },
   "source": [
    "- ndim : 축의 개수\n",
    "- shape : 배열의 차원정보\n",
    "- size : 배열 안에 있는 원소의 총 개수\n",
    "- dtype : 배열 원소의 자료형"
   ]
  },
  {
   "cell_type": "markdown",
   "metadata": {
    "id": "W7P2saXuulJz"
   },
   "source": [
    "## 1차원과 속성들"
   ]
  },
  {
   "cell_type": "code",
   "execution_count": 7,
   "metadata": {
    "colab": {
     "base_uri": "https://localhost:8080/"
    },
    "id": "p332xQMeix3g",
    "outputId": "e1c51c29-e974-4060-f4aa-9a8317b6e15c"
   },
   "outputs": [
    {
     "name": "stdout",
     "output_type": "stream",
     "text": [
      "[0 1 2 3 4]\n"
     ]
    }
   ],
   "source": [
    "# pip install numpy  : 설치를 하지 않았지만 이미 품고 있구만~\n",
    "import numpy as np\n",
    "narry = np.array(range(5))\n",
    "print(narry)  # 넘파이식의 어레이에는 콤마가 없다 (리스트가 아님)"
   ]
  },
  {
   "cell_type": "code",
   "execution_count": null,
   "metadata": {
    "id": "TRSkJ2cHi6bg"
   },
   "outputs": [],
   "source": [
    "# Shift + delete 하면 줄 전체를 통째로 날림~!"
   ]
  },
  {
   "cell_type": "code",
   "execution_count": 19,
   "metadata": {
    "colab": {
     "base_uri": "https://localhost:8080/"
    },
    "id": "oxlOKIhqj5zd",
    "outputId": "d1aa652d-38ef-4262-b78e-df246e706add"
   },
   "outputs": [
    {
     "name": "stdout",
     "output_type": "stream",
     "text": [
      "[0 1 2 3 4] <class 'numpy.ndarray'>\n",
      "1\n",
      "(5,)\n",
      "5\n",
      "int64\n",
      "3\n",
      "[2 3]\n"
     ]
    }
   ],
   "source": [
    "import numpy as np\n",
    "narry = np.array(range(5))\n",
    "print(narry,type(narry))\n",
    "print(narry.ndim)\n",
    "print(narry.shape)  # 그냥 5임\n",
    "print(narry.size)\n",
    "print(narry.dtype)  # 64bit?\n",
    "print(narry[3])     #  슬라이싱 하는 것 ~!\n",
    "print(narry[2:4])   #  <= x < (끝은 미만이라는 것을 기억해!)"
   ]
  },
  {
   "cell_type": "code",
   "execution_count": 20,
   "metadata": {
    "colab": {
     "base_uri": "https://localhost:8080/"
    },
    "id": "NnGnW88WkfSg",
    "outputId": "2d7c0f00-134d-48fc-abec-2f62e6648004"
   },
   "outputs": [
    {
     "name": "stdout",
     "output_type": "stream",
     "text": [
      "[1 2 3 4]\n",
      "['1' '2' 'a' 'b']\n"
     ]
    }
   ],
   "source": [
    "narr1 = np.array([1,2,3,4])   # int64\n",
    "narr2 = np.array([1,2,'a','b'])\n",
    "# narr3 = np.array([1,2,'a','b'],dtype='int') # 숫자가 있지만 문자가 들어가면 전부 문자처리 해벌임 !!\n",
    "print(narr1)\n",
    "print(narr2)\n",
    "# print(narr3)"
   ]
  },
  {
   "cell_type": "code",
   "execution_count": 21,
   "metadata": {
    "colab": {
     "base_uri": "https://localhost:8080/"
    },
    "id": "LsgyaeYml8wd",
    "outputId": "934c358b-62c9-4dc0-d811-c81c34f6c1c8"
   },
   "outputs": [
    {
     "name": "stdout",
     "output_type": "stream",
     "text": [
      "[1 2 3 4] int64\n",
      "['1' '2' 'a' 'b'] <U21\n",
      "['1' '2' '3' '4'] <U1\n"
     ]
    }
   ],
   "source": [
    "narr1 = np.array([1,2,3,4])\n",
    "narr2 = np.array([1,2,'a','b'])\n",
    "narr3 = np.array([1,2,3,4],dtype='str')\n",
    "print(narr1,narr1.dtype)\n",
    "print(narr2,narr2.dtype)\n",
    "print(narr3,narr3.dtype)"
   ]
  },
  {
   "cell_type": "code",
   "execution_count": 31,
   "metadata": {
    "colab": {
     "base_uri": "https://localhost:8080/"
    },
    "id": "RhYdtYr7qJL9",
    "outputId": "a30e11ce-99b9-4711-c68b-1f8bb369bbbb"
   },
   "outputs": [
    {
     "name": "stdout",
     "output_type": "stream",
     "text": [
      "[0. 0. 0. 0. 0. 0. 0. 0. 0. 0.]\n"
     ]
    }
   ],
   "source": [
    "narr4 = np.zeros(10)\n",
    "print(narr4)"
   ]
  },
  {
   "cell_type": "code",
   "execution_count": 29,
   "metadata": {
    "colab": {
     "base_uri": "https://localhost:8080/"
    },
    "id": "q2CaOlW_p2_N",
    "outputId": "780fcdb7-e853-4b00-c020-ba1e4ce02bfd"
   },
   "outputs": [
    {
     "name": "stdout",
     "output_type": "stream",
     "text": [
      "[0 0 0 0 0 0 0 0 0 0] <class 'numpy.ndarray'>\n"
     ]
    }
   ],
   "source": [
    "narr4 = np.zeros(10,dtype='int64')  # 0으로 채운다. 배열을 초기화할 때 !!\n",
    "print(narr4,type(narr4))  # .이 사라졌다!!"
   ]
  },
  {
   "cell_type": "code",
   "execution_count": 64,
   "metadata": {
    "colab": {
     "base_uri": "https://localhost:8080/"
    },
    "id": "1pB5nznNwqCs",
    "outputId": "e0e798bc-8a39-44a0-887d-74186a507af9"
   },
   "outputs": [
    {
     "name": "stdout",
     "output_type": "stream",
     "text": [
      "[['□' '□']\n",
      " ['□' '□']\n",
      " ['□' '□']\n",
      " ['□' '□']\n",
      " ['□' '□']\n",
      " ['□' '□']\n",
      " ['□' '□']\n",
      " ['□' '□']\n",
      " ['□' '□']\n",
      " ['□' '□']] 🌲🚶🌳🐈🌴\n"
     ]
    }
   ],
   "source": [
    "# cf)\n",
    "apt = np.full((10,2),'□')\n",
    "print(apt, '🌲🚶🌳🐈🌴')"
   ]
  },
  {
   "cell_type": "code",
   "execution_count": 105,
   "metadata": {
    "colab": {
     "base_uri": "https://localhost:8080/"
    },
    "id": "AqHC6yiqqXGw",
    "outputId": "11da2a10-b16a-46f3-cbe2-d09c4f40becb"
   },
   "outputs": [
    {
     "name": "stdout",
     "output_type": "stream",
     "text": [
      "narr4 :  [[0 0]\n",
      " [0 0]] 2 int64 (2, 2) 4 <class 'numpy.ndarray'> \n",
      "\n",
      "narr5 :  [[1. 1.]\n",
      " [1. 1.]] 2 float64 (2, 2) 4 <class 'numpy.ndarray'> \n",
      "\n",
      "narr6 :  [[3 3 3]\n",
      " [3 3 3]\n",
      " [3 3 3]] 2 int64 (3, 3) 9 <class 'numpy.ndarray'> \n",
      "\n",
      "narr7 :  [['number' 'number' 'number']\n",
      " ['number' 'number' 'number']\n",
      " ['number' 'number' 'number']] 2 <U6 (3, 3) 9 <class 'numpy.ndarray'> \n",
      "\n",
      "narr8 :  [[1. 0. 0.]\n",
      " [0. 1. 0.]\n",
      " [0. 0. 1.]] 2 float64 (3, 3) 9 <class 'numpy.ndarray'> \n",
      "\n",
      "narr9 :  [  0.  25.  50.  75. 100.] 1 float64 (5,) 5 <class 'numpy.ndarray'> \n",
      "\n",
      "narr9n :  [ 0 20 40 60 80] 1 int64 (5,) 5 <class 'numpy.ndarray'> \n",
      "\n",
      "narr10 :  [ 0 25 50 75] 1 int64 (4,) 4 <class 'numpy.ndarray'>\n"
     ]
    }
   ],
   "source": [
    "narr4 = np.zeros((2,2),dtype='int64')  # (2,2)를 넣어주면 모양을 넣어준 것과 같다!\n",
    "narr5 = np.ones((2,2))    # you still my No.1 ~ : float은 정확한 값을 주지는 못한다 . . . .\n",
    "narr6 = np.full((3,3),3)  # 배열 안을 3으로 덮어쓰겠다.\n",
    "narr7 = np.full((3,3),'number')\n",
    "narr8 = np.eye(3)\n",
    "narr9 = np.linspace(0,100,5)  # 0에서 \"100을 포함한 !!!\" 5개!!\n",
    "# cf)\n",
    "narr9n = np.linspace(0,100,5,endpoint=False,dtype='int64')\n",
    "narr10 = np.arange(0,100,25) # arange는 끝자리가 포함되지 않음 !!!!\n",
    "print(\"narr4 : \",narr4,narr4.ndim,narr4.dtype,narr4.shape,narr4.size,type(narr4),\"\\n\")  # 2 차 원 의 배 열\n",
    "print(\"narr5 : \",narr5,narr5.ndim,narr5.dtype,narr5.shape,narr5.size,type(narr5),\"\\n\")\n",
    "print(\"narr6 : \",narr6,narr6.ndim,narr6.dtype,narr6.shape,narr6.size,type(narr6),\"\\n\")\n",
    "print(\"narr7 : \",narr7,narr7.ndim,narr7.dtype,narr7.shape,narr7.size,type(narr7),\"\\n\") # little 기반 / bigindian 기반 . .(ft. 걸리버여행기)\n",
    "print(\"narr8 : \",narr8,narr8.ndim,narr8.dtype,narr8.shape,narr8.size,type(narr8),\"\\n\")\n",
    "print(\"narr9 : \",narr9,narr9.ndim,narr9.dtype,narr9.shape,narr9.size,type(narr9),\"\\n\")\n",
    "print(\"narr9n : \",narr9n,narr9n.ndim,narr9n.dtype,narr9n.shape,narr9n.size,type(narr9n),\"\\n\")\n",
    "print(\"narr10 : \",narr10,narr10.ndim,narr10.dtype,narr10.shape,narr10.size,type(narr10))"
   ]
  },
  {
   "cell_type": "markdown",
   "metadata": {
    "id": "7byaRnEEubFl"
   },
   "source": [
    "## 2차원 배열"
   ]
  },
  {
   "cell_type": "code",
   "execution_count": 51,
   "metadata": {
    "colab": {
     "base_uri": "https://localhost:8080/"
    },
    "id": "9d4LGjolvXK9",
    "outputId": "3446c149-a10c-4a64-96a1-4e52920d6c74"
   },
   "outputs": [
    {
     "name": "stdout",
     "output_type": "stream",
     "text": [
      "[2, 3, 4, 5, 6, 7, 8, 9]\n",
      "[2 3 4 5 6 7 8 9]\n"
     ]
    },
    {
     "data": {
      "text/plain": [
       "array([0, 1, 2, 3, 4, 5, 6, 7, 8, 9])"
      ]
     },
     "execution_count": 51,
     "metadata": {},
     "output_type": "execute_result"
    }
   ],
   "source": [
    "print(list(range(2,10)))\n",
    "print(np.arange(2,10))  # list로 감싸지 않아도 바로 생성됨!\n",
    "range(10)\n",
    "np.arange(10)"
   ]
  },
  {
   "cell_type": "code",
   "execution_count": 37,
   "metadata": {
    "colab": {
     "base_uri": "https://localhost:8080/"
    },
    "id": "1GzcPG65lZXw",
    "outputId": "baca214d-d66a-40b3-ebe7-4ff3e504cbea"
   },
   "outputs": [
    {
     "name": "stdout",
     "output_type": "stream",
     "text": [
      "[[0 0]\n",
      " [0 0]] 2 int64 (2, 2) 4 <class 'numpy.ndarray'>\n"
     ]
    }
   ],
   "source": [
    "arr1 = np.array([[0,0],[0,0]])\n",
    "print(arr1,arr1.ndim,arr1.dtype,arr1.shape,arr1.size, type(arr1))  # 배열 안의 배열 . . . 상자 속의 상자 ... 슈뢰딩거의 고양이 ..."
   ]
  },
  {
   "cell_type": "code",
   "execution_count": 74,
   "metadata": {
    "colab": {
     "base_uri": "https://localhost:8080/"
    },
    "id": "hi61zf9gpv-v",
    "outputId": "233cad30-e1ea-48b0-8b2d-499ac748ca28"
   },
   "outputs": [
    {
     "name": "stdout",
     "output_type": "stream",
     "text": [
      "차원: 2 데이터타입: int64 형태: (3, 3)  / 크기: 9 <class 'numpy.ndarray'> \n",
      " [[1 2 3]\n",
      " [4 5 6]\n",
      " [7 8 9]]\n",
      "차원: 2 데이터타입: int64 형태: (3, 3)  / 크기: 9 <class 'numpy.ndarray'> \n",
      " [[1 2 3]\n",
      " [4 5 6]\n",
      " [7 8 9]]\n",
      "차원: 2 데이터타입: int64 형태: (2, 5)  / 크기: 10 <class 'numpy.ndarray'> \n",
      " [[ 1  2  3  4  5]\n",
      " [ 6  7  8  9 10]]\n",
      "차원: 2 데이터타입: int64 형태: (5, 2)  / 크기: 10 <class 'numpy.ndarray'> \n",
      " [[ 1  2]\n",
      " [ 3  4]\n",
      " [ 5  6]\n",
      " [ 7  8]\n",
      " [ 9 10]]\n",
      "차원: 3 데이터타입: int64 형태: (3, 3, 3)  / 크기: 27 <class 'numpy.ndarray'> \n",
      " [[[ 1  2  3]\n",
      "  [ 4  5  6]\n",
      "  [ 7  8  9]]\n",
      "\n",
      " [[10 11 12]\n",
      "  [13 14 15]\n",
      "  [16 17 18]]\n",
      "\n",
      " [[19 20 21]\n",
      "  [22 23 24]\n",
      "  [25 26 27]]]\n"
     ]
    }
   ],
   "source": [
    "arr2 = np.array([1,2,3,4,5,6,7,8,9]).reshape(3,3)\n",
    "arr3 = np.arange(1,10).reshape(3,3)   # arr2와 구성은 똑같다 !\n",
    "arr4 = np.arange(1,11).reshape(2,5)\n",
    "arr5 = np.arange(1,11).reshape(5,2)\n",
    "arr6 = np.arange(1,28).reshape(3,3,3)\n",
    "print('차원:' ,arr2.ndim, '데이터타입:' ,arr2.dtype, '형태:' ,arr2.shape, ' / 크기:', arr2.size, type(arr2),'\\n',arr2)\n",
    "print('차원:' ,arr3.ndim, '데이터타입:' ,arr3.dtype, '형태:' ,arr3.shape, ' / 크기:', arr3.size, type(arr3),'\\n',arr3)\n",
    "print('차원:' ,arr4.ndim, '데이터타입:' ,arr4.dtype, '형태:' ,arr4.shape, ' / 크기:', arr4.size, type(arr4),'\\n',arr4)\n",
    "print('차원:' ,arr5.ndim, '데이터타입:' ,arr5.dtype, '형태:' ,arr5.shape, ' / 크기:', arr5.size, type(arr5),'\\n',arr5)\n",
    "print('차원:' ,arr6.ndim, '데이터타입:' ,arr6.dtype, '형태:' ,arr6.shape, ' / 크기:', arr6.size, type(arr6),'\\n',arr6)"
   ]
  },
  {
   "cell_type": "code",
   "execution_count": 99,
   "metadata": {
    "colab": {
     "base_uri": "https://localhost:8080/"
    },
    "id": "Lz_AvBy5vNru",
    "outputId": "07ca35c2-be16-431c-8596-36eaff5fc886"
   },
   "outputs": [
    {
     "name": "stdout",
     "output_type": "stream",
     "text": [
      "[[ 1  2  3  4  5  6  7]\n",
      " [ 8  9 10 11 12 13 14]\n",
      " [15 16 17 18 19 20 21]]\n",
      "=========================\n",
      "[[1]\n",
      " [2]\n",
      " [3]\n",
      " [4]\n",
      " [5]\n",
      " [6]\n",
      " [7]]\n",
      "=========================\n",
      "[[ 1  2]\n",
      " [ 3  4]\n",
      " [ 5  6]\n",
      " [ 7  8]\n",
      " [ 9 10]]\n",
      "=========================\n",
      "[[ 1  2  3  4  5  6  7]\n",
      " [ 8  9 10 11 12 13 14]\n",
      " [15 16 17 18 19 20 21]]\n",
      "=========================\n",
      "[[ 1]\n",
      " [ 2]\n",
      " [ 3]\n",
      " [ 0]\n",
      " [ 4]\n",
      " [ 5]\n",
      " [ 6]\n",
      " [ 0]\n",
      " [ 7]\n",
      " [ 8]\n",
      " [ 9]\n",
      " [ 0]\n",
      " [10]\n",
      " [11]\n",
      " [12]]\n",
      "=========================\n",
      "[[[ 1]\n",
      "  [ 2]\n",
      "  [ 3]]\n",
      "\n",
      " [[ 4]\n",
      "  [ 5]\n",
      "  [ 6]]\n",
      "\n",
      " [[ 7]\n",
      "  [ 8]\n",
      "  [ 9]]\n",
      "\n",
      " [[10]\n",
      "  [11]\n",
      "  [12]]]\n"
     ]
    }
   ],
   "source": [
    "# 간단한 테스트 !!\n",
    "test1 = np.arange(1,22).reshape(3,7)\n",
    "test2 = np.arange(1,8).reshape(7,1)\n",
    "test3 = np.arange(1,11).reshape(5,2)\n",
    "test4 = np.arange(1,22).reshape(3,7)\n",
    "test5 = np.array(([1],[2],[3],[0],[4],[5],[6],[0],[7],[8],[9],[0],[10],[11],[12]),dtype='int').reshape(15,1)\n",
    "test6= np.arange(1,13).reshape(4,3,1)  # test5 해설 !!!!!  : 전체 개수 3개가 4단위로 1개씩 !!!!\n",
    "print(test1,end='\\n=========================\\n')\n",
    "print(test2,end='\\n=========================\\n')\n",
    "print(test3,end='\\n=========================\\n')\n",
    "print(test4,end='\\n=========================\\n')\n",
    "print(test5,end='\\n=========================\\n')\n",
    "print(test6)  # arange를 3차원으로 표현한 것임 !!!!! 크아아아악"
   ]
  },
  {
   "cell_type": "code",
   "execution_count": 108,
   "metadata": {
    "colab": {
     "base_uri": "https://localhost:8080/"
    },
    "id": "y0bIAQ0s3N_M",
    "outputId": "e3951341-41cf-4b99-e59d-910b923ee7a0"
   },
   "outputs": [
    {
     "data": {
      "text/plain": [
       "array([10, 11, 12])"
      ]
     },
     "execution_count": 108,
     "metadata": {},
     "output_type": "execute_result"
    }
   ],
   "source": [
    "test1[1][2:5]   # 슬라이싱을 할 수 있다 !  : 필요한 값만 가져올 수 있다!"
   ]
  },
  {
   "cell_type": "code",
   "execution_count": 109,
   "metadata": {
    "colab": {
     "base_uri": "https://localhost:8080/"
    },
    "id": "pk51BDj9-zYL",
    "outputId": "36e1befc-3faa-4a60-fa66-75b5fe4da429"
   },
   "outputs": [
    {
     "data": {
      "text/plain": [
       "array([[ 1,  2,  3,  4,  5,  6,  7],\n",
       "       [ 8,  9, 10, 11, 12, 13, 14],\n",
       "       [15, 16, 17, 18, 19, 20, 21]])"
      ]
     },
     "execution_count": 109,
     "metadata": {},
     "output_type": "execute_result"
    }
   ],
   "source": [
    "test4"
   ]
  },
  {
   "cell_type": "code",
   "execution_count": 144,
   "metadata": {
    "colab": {
     "base_uri": "https://localhost:8080/"
    },
    "id": "hp2ExTG8_Pl7",
    "outputId": "bbd27335-4ba1-464c-fe08-8233d2307d81"
   },
   "outputs": [
    {
     "name": "stdout",
     "output_type": "stream",
     "text": [
      "[[ 4  5  6  7]\n",
      " [11 12 13 14]\n",
      " [18 19 20 21]]\n",
      "[[12 13]\n",
      " [19 20]]\n"
     ]
    }
   ],
   "source": [
    "print(test4[0:3,3:8])    # 슬라이싱 두 번 ~  : 처음 슬라이싱은 전체 배열에서 몇 행을 선택할 것인지, 두 번째 슬라이싱은 몇 열을 선택할 것인지!! )\n",
    "print(test4[1:3,4:6])"
   ]
  },
  {
   "cell_type": "code",
   "execution_count": 143,
   "metadata": {
    "colab": {
     "base_uri": "https://localhost:8080/"
    },
    "id": "IzepaeZ3EZ5a",
    "outputId": "cea548c6-3985-4e25-dc24-501427fddab6"
   },
   "outputs": [
    {
     "name": "stdout",
     "output_type": "stream",
     "text": [
      "[array([[False, False, False, False, False, False, False],\n",
      "       [False, False, False, False, False,  True,  True],\n",
      "       [ True,  True,  True,  True,  True,  True,  True]])]\n",
      "[array([[False,  True, False,  True, False,  True, False],\n",
      "       [ True, False,  True, False,  True, False,  True],\n",
      "       [False,  True, False,  True, False,  True, False]])]\n",
      "[13 14 15 16 17 18 19 20 21]\n",
      "[ 2  4  6  8 10 12 14 16 18 20]\n"
     ]
    }
   ],
   "source": [
    "print([test4>12])      # 조건이 맞을 때 True\n",
    "print([test4%2==0])\n",
    "print(test4[test4>12]) # 조건에 맞는 항을 출력하라\n",
    "print(test4[test4%2==0])"
   ]
  },
  {
   "cell_type": "code",
   "execution_count": 148,
   "metadata": {
    "colab": {
     "base_uri": "https://localhost:8080/"
    },
    "id": "rTMaC7xSGNiQ",
    "outputId": "413bcef5-7bf9-43c9-f847-3b05f68a1b8c"
   },
   "outputs": [
    {
     "name": "stdout",
     "output_type": "stream",
     "text": [
      "덧셈 :  [ 7  9 11 13 15]\n",
      "뺄셈 :  [5 5 5 5 5]\n",
      "곱셈 :  [ 6 14 24 36 50]\n",
      "나눗셈 :  [6.         3.5        2.66666667 2.25       2.        ]\n",
      "거듭제곱 :  [     6     49    512   6561 100000]\n"
     ]
    }
   ],
   "source": [
    "# np 배열 연산 // shape가 같을 경우 원소별 연산이 가능\n",
    "np1 = np.array([6,7,8,9,10])\n",
    "np2 = np.array([1,2,3,4,5])\n",
    "print(\"덧셈 : \", np1 + np2)\n",
    "print(\"뺄셈 : \", np1 - np2)\n",
    "print(\"곱셈 : \", np1 * np2)\n",
    "print(\"나눗셈 : \", np1 / np2)\n",
    "print(\"거듭제곱 : \", np1 ** np2)"
   ]
  },
  {
   "cell_type": "code",
   "execution_count": 146,
   "metadata": {
    "colab": {
     "base_uri": "https://localhost:8080/"
    },
    "id": "jDTjXUnEEujb",
    "outputId": "c15cd95d-0a65-4c4a-e73a-da7d101a39a0"
   },
   "outputs": [
    {
     "name": "stdout",
     "output_type": "stream",
     "text": [
      "덧셈 :  [ 7  9 11 13 15]\n",
      "뺄셈 :  [-5 -5 -5 -5 -5]\n",
      "곱셈 :  [ 6 14 24 36 50]\n",
      "나눗셈 :  [0.16666667 0.28571429 0.375      0.44444444 0.5       ]\n",
      "거듭제곱 :  [      1     128    6561  262144 9765625]\n"
     ]
    }
   ],
   "source": [
    "# np 배열 연산 참고\n",
    "np1 = np.array([1,2,3,4,5])\n",
    "np2 = np.array([6,7,8,9,10])\n",
    "print(\"덧셈 : \", np1 + np2)\n",
    "print(\"뺄셈 : \", np1 - np2)\n",
    "print(\"곱셈 : \", np1 * np2)\n",
    "print(\"나눗셈 : \", np1 / np2)\n",
    "print(\"거듭제곱 : \", np1 ** np2)"
   ]
  },
  {
   "cell_type": "code",
   "execution_count": 150,
   "metadata": {
    "colab": {
     "base_uri": "https://localhost:8080/"
    },
    "id": "TQByPAP8F_17",
    "outputId": "35c27334-622d-4da3-8cd6-8d07822da522"
   },
   "outputs": [
    {
     "name": "stdout",
     "output_type": "stream",
     "text": [
      "[16 17 18 19 20]\n"
     ]
    }
   ],
   "source": [
    "# 브로드캐스팅\n",
    "np3 = np1 + 10\n",
    "print(np3)"
   ]
  },
  {
   "cell_type": "code",
   "execution_count": 165,
   "metadata": {
    "colab": {
     "base_uri": "https://localhost:8080/"
    },
    "id": "EMjLzVFlG_G6",
    "outputId": "172f969d-0f67-446c-d6e3-dd671b087c8e"
   },
   "outputs": [
    {
     "name": "stdout",
     "output_type": "stream",
     "text": [
      "[[1 2 3]\n",
      " [4 5 6]\n",
      " [7 8 9]]\n",
      "[11 22 33]\n",
      "=+=+=+=+=+=+=+=스칼라와 연산=+=+=+=+=+=+=+=\n",
      "[[1 2 3]\n",
      " [4 5 6]\n",
      " [7 8 9]]\n",
      "[[ 4  5  6]\n",
      " [ 7  8  9]\n",
      " [10 11 12]]\n",
      "[[ 2  4  6]\n",
      " [ 8 10 12]\n",
      " [14 16 18]]\n",
      "=+=+=+=+=+=+=+=2D와 1D의 연산=+=+=+=+=+=+=+=\n",
      "[[12 24 36]\n",
      " [15 27 39]\n",
      " [18 30 42]]\n",
      "[[ 11  44  99]\n",
      " [ 44 110 198]\n",
      " [ 77 176 297]]\n"
     ]
    }
   ],
   "source": [
    "br1 = np.arange(1,10).reshape(3,3)\n",
    "br2 = np.array([11,22,33]) #.reshape(3,1)   주석처리했을 때와 안했을 때 어떤 점이 차이 나는지 잘 알아두자 !\n",
    "print(br1)\n",
    "print(br2)\n",
    "# 스칼라와 연산\n",
    "print(\"=+=+=+=+=+=+=+=스칼라와 연산=+=+=+=+=+=+=+=\")\n",
    "print(br1)\n",
    "print(br1+3)\n",
    "print(br1*2)\n",
    "# 2D 와 1D의 연산\n",
    "print(\"=+=+=+=+=+=+=+=2D와 1D의 연산=+=+=+=+=+=+=+=\")\n",
    "print(br1+br2)\n",
    "print(br1*br2)"
   ]
  },
  {
   "cell_type": "code",
   "execution_count": 169,
   "metadata": {
    "colab": {
     "base_uri": "https://localhost:8080/"
    },
    "id": "Cav_5c4-JN45",
    "outputId": "7ecd2230-819f-4a84-dcd6-06a67536ea67"
   },
   "outputs": [
    {
     "name": "stdout",
     "output_type": "stream",
     "text": [
      "[[1 2 3]\n",
      " [4 5 6]\n",
      " [7 8 9]]\n",
      "[1 2 3 4 5 6 7 8 9]\n",
      "[1 2 3 4 5 6 7 8 9]\n"
     ]
    }
   ],
   "source": [
    "# flatten 처리\n",
    "ff = np.arange(1,10).reshape(3,3)\n",
    "print(ff)\n",
    "print(ff.reshape(9))   # 굳이 1, 9 할 필요 없음~\n",
    "print(ff.flatten())   # 일자로 쫙 펴줌!!"
   ]
  }
 ],
 "metadata": {
  "colab": {
   "provenance": [],
   "toc_visible": true
  },
  "kernelspec": {
   "display_name": "Python 3 (ipykernel)",
   "language": "python",
   "name": "python3"
  },
  "language_info": {
   "codemirror_mode": {
    "name": "ipython",
    "version": 3
   },
   "file_extension": ".py",
   "mimetype": "text/x-python",
   "name": "python",
   "nbconvert_exporter": "python",
   "pygments_lexer": "ipython3",
   "version": "3.13.1"
  }
 },
 "nbformat": 4,
 "nbformat_minor": 4
}
