{
 "cells": [
  {
   "cell_type": "code",
   "execution_count": null,
   "id": "9a37380a-1c5c-4568-b8b1-2b879eb748fb",
   "metadata": {},
   "outputs": [],
   "source": [
    "# 안녕하세요 !"
   ]
  }
 ],
 "metadata": {
  "kernelspec": {
   "display_name": "Python 3 (ipykernel)",
   "language": "python",
   "name": "python3"
  },
  "language_info": {
   "codemirror_mode": {
    "name": "ipython",
    "version": 3
   },
   "file_extension": ".py",
   "mimetype": "text/x-python",
   "name": "python",
   "nbconvert_exporter": "python",
   "pygments_lexer": "ipython3",
   "version": "3.13.1"
  }
 },
 "nbformat": 4,
 "nbformat_minor": 5
}
