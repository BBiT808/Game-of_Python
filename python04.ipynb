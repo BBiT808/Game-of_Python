{
 "cells": [
  {
   "cell_type": "markdown",
   "id": "0b65b370-7964-417f-9883-cd7813969478",
   "metadata": {},
   "source": [
    "# 함수"
   ]
  },
  {
   "cell_type": "code",
   "execution_count": 2,
   "id": "63aff3da-ff7b-4411-b37a-bead277ddb34",
   "metadata": {},
   "outputs": [],
   "source": [
    "# 모든 명령어들은 (){} 와 같은 형식\n",
    "  # if (){}   ; 제어문        > if : 로 바뀜(파이썬에서) / 괄호 대신 들여쓰기로 구분한다.\n",
    "  # for(){}   ; 반복문        > for : 로 바뀜\n",
    "  # while(){} ; 반복문        > while : 로 바뀜\n",
    "  # function(){}                          New!\n",
    "  # def 이름():   ; :이 중괄호 역할       NeW!\n",
    "  #     내용"
   ]
  },
  {
   "cell_type": "code",
   "execution_count": 3,
   "id": "a0b679b8-6298-448d-963c-5d5eef868eb8",
   "metadata": {},
   "outputs": [],
   "source": [
    "def 덧셈(a,b):\n",
    "    return a + b     # 되돌려주다. enter와 비슷."
   ]
  },
  {
   "cell_type": "code",
   "execution_count": 7,
   "id": "9422f6cf-c611-40f5-b353-397f7dae4c92",
   "metadata": {},
   "outputs": [
    {
     "name": "stdout",
     "output_type": "stream",
     "text": [
      "7\n"
     ]
    }
   ],
   "source": [
    "c = 덧셈(3,4)\n",
    "print(c)"
   ]
  },
  {
   "cell_type": "code",
   "execution_count": null,
   "id": "c06685cf-a6a4-4090-b2c8-c46238a91d74",
   "metadata": {},
   "outputs": [],
   "source": [
    "# 드래그 후 탭 누르면 들여쓰기 쌉가능 ~"
   ]
  },
  {
   "cell_type": "code",
   "execution_count": 12,
   "id": "8dfff5fb-fb33-41c9-bb13-13bdf6a270e4",
   "metadata": {},
   "outputs": [
    {
     "name": "stdout",
     "output_type": "stream",
     "text": [
      "====2단====\n",
      "2 x 1 = 2\n",
      "2 x 2 = 4\n",
      "2 x 3 = 6\n",
      "2 x 4 = 8\n",
      "2 x 5 = 10\n",
      "2 x 6 = 12\n",
      "2 x 7 = 14\n",
      "2 x 8 = 16\n",
      "2 x 9 = 18\n",
      "None\n"
     ]
    }
   ],
   "source": [
    "def gugu(end = 9):\n",
    "    for j in range(2,end+1) :\n",
    "        print(f\"{str(j)+'단':=^10}\")\n",
    "        for k in range(1,10):\n",
    "            print(f'{j} x {k} = {j*k}')\n",
    "print(gugu(2)) # 보여만 준다."
   ]
  },
  {
   "cell_type": "code",
   "execution_count": 13,
   "id": "4f349d22-7ddc-4d86-a074-a2d64b6d9955",
   "metadata": {},
   "outputs": [
    {
     "name": "stdout",
     "output_type": "stream",
     "text": [
      "====2단====\n"
     ]
    },
    {
     "data": {
      "text/plain": [
       "'2 x 1 = 2'"
      ]
     },
     "execution_count": 13,
     "metadata": {},
     "output_type": "execute_result"
    }
   ],
   "source": [
    "def gugu(end = 9):\n",
    "    for j in range(2,end+1) :\n",
    "        print(f\"{str(j)+'단':=^10}\")\n",
    "        for k in range(1,10):\n",
    "            return(f'{j} x {k} = {j*k}')    # for 안에 return이 들어가는 것은 주의해야함 !\n",
    "gugu(2)"
   ]
  },
  {
   "cell_type": "code",
   "execution_count": 17,
   "id": "b2a7be26-651e-45a5-b746-6cb2ecd33f47",
   "metadata": {},
   "outputs": [
    {
     "name": "stdout",
     "output_type": "stream",
     "text": [
      "====2단====\n",
      "2 x 1 = 2\n",
      "2 x 2 = 4\n",
      "2 x 3 = 6\n",
      "2 x 4 = 8\n",
      "2 x 5 = 10\n",
      "2 x 6 = 12\n",
      "2 x 7 = 14\n",
      "2 x 8 = 16\n",
      "2 x 9 = 18\n",
      "\n"
     ]
    }
   ],
   "source": [
    "def gugu(end = 9):\n",
    "    data =''\n",
    "    for j in range(2,end+1) :\n",
    "        print(f\"{str(j)+'단':=^10}\")\n",
    "        for k in range(1,10):\n",
    "            data += (f'{j} x {k} = {j*k}') + '\\n'\n",
    "    return data\n",
    "print(gugu(2))"
   ]
  },
  {
   "cell_type": "markdown",
   "id": "8c1df04a-f14f-4fe1-b57a-5e4642033f5d",
   "metadata": {},
   "source": [
    "## 입력값과 리턴값에 따른 함수의 형태"
   ]
  },
  {
   "cell_type": "markdown",
   "id": "fc0cbe6a-8c4b-407c-8996-9edb269e9ff7",
   "metadata": {},
   "source": [
    "### 일반적인 함수"
   ]
  },
  {
   "cell_type": "code",
   "execution_count": 18,
   "id": "cc86f813-eb0d-4b4b-9db8-dff0e6709468",
   "metadata": {},
   "outputs": [],
   "source": [
    "# 일반적인 함수\n",
    "def add(a,b):    # scope(범위)를 잘 알아야 함 !\n",
    "    result = a+b\n",
    "    return result"
   ]
  },
  {
   "cell_type": "code",
   "execution_count": 20,
   "id": "88dcd15a-edd3-4820-940e-3bf865e7ccc2",
   "metadata": {},
   "outputs": [
    {
     "name": "stdout",
     "output_type": "stream",
     "text": [
      "87\n"
     ]
    }
   ],
   "source": [
    "a = add(77,10)\n",
    "print(a)"
   ]
  },
  {
   "cell_type": "code",
   "execution_count": 21,
   "id": "54d9206d-642d-4bdc-91a6-2202da10465f",
   "metadata": {},
   "outputs": [],
   "source": [
    "# 입력값이 없는 함수\n",
    "def say():\n",
    "    return '안녕'"
   ]
  },
  {
   "cell_type": "code",
   "execution_count": 24,
   "id": "79213b2c-8121-4400-a520-d9c616b21841",
   "metadata": {},
   "outputs": [
    {
     "name": "stdout",
     "output_type": "stream",
     "text": [
      "안녕\n"
     ]
    }
   ],
   "source": [
    "a = say()\n",
    "print(a)"
   ]
  },
  {
   "cell_type": "code",
   "execution_count": 25,
   "id": "8d3a3b5b-2220-406c-8f4f-167040ba8467",
   "metadata": {},
   "outputs": [],
   "source": [
    "# 리턴값이 없는 함수\n",
    "def add(a,b):\n",
    "    print('%d, %d의 합은 %d 입니다.' %(a,b,a+b))"
   ]
  },
  {
   "cell_type": "code",
   "execution_count": 26,
   "id": "bef2007d-9c53-45b8-9def-7840b340e77a",
   "metadata": {},
   "outputs": [
    {
     "name": "stdout",
     "output_type": "stream",
     "text": [
      "11, 33의 합은 44 입니다.\n"
     ]
    }
   ],
   "source": [
    "add(11,33)"
   ]
  },
  {
   "cell_type": "code",
   "execution_count": 27,
   "id": "a89fb0c4-1658-46be-8f98-7daf3bb3136b",
   "metadata": {},
   "outputs": [],
   "source": [
    "# 입력값과 리턴값이 없는 함수 ; 보여만 준다.\n",
    "def say():\n",
    "    print(\"안녕\")\n",
    "    print(\"전 입력값과 리턴값이 없어요.\")\n",
    "    print(\"빠이~\")"
   ]
  },
  {
   "cell_type": "code",
   "execution_count": 28,
   "id": "1f6c6d06-16da-4f3e-859c-ead89716f642",
   "metadata": {},
   "outputs": [
    {
     "name": "stdout",
     "output_type": "stream",
     "text": [
      "안녕\n",
      "전 입력값과 리턴값이 없어요.\n",
      "빠이~\n"
     ]
    }
   ],
   "source": [
    "say()"
   ]
  },
  {
   "cell_type": "code",
   "execution_count": 34,
   "id": "919d6cd6-a7e0-4697-93d8-0523a4023114",
   "metadata": {},
   "outputs": [],
   "source": [
    "# 테스트\n",
    "import time as t\n",
    "def disp():\n",
    "    print(\"안녕!\\r\",end=\"\")\n",
    "    t.sleep(2)\n",
    "    print(\"전 입력값과 리턴값이 없어요.\\r\",end=\"\")\n",
    "    t.sleep(2)\n",
    "    print(\"빠이~                       \\r\",end=\"\")\n",
    "    t.sleep(2)"
   ]
  },
  {
   "cell_type": "code",
   "execution_count": 33,
   "id": "c4687d82-6db4-46af-b2a1-a64c84c8bb0a",
   "metadata": {},
   "outputs": [
    {
     "name": "stdout",
     "output_type": "stream",
     "text": [
      "빠이~                       "
     ]
    }
   ],
   "source": [
    "disp()"
   ]
  },
  {
   "cell_type": "code",
   "execution_count": 35,
   "id": "6eceea68-6d63-43ef-b703-67ce997c3f66",
   "metadata": {},
   "outputs": [
    {
     "name": "stdout",
     "output_type": "stream",
     "text": [
      "44\n"
     ]
    }
   ],
   "source": [
    "# 예제  ; 가장 큰 수\n",
    "li = [33,11,22,44]\n",
    "sw=0\n",
    "for x in range(4):\n",
    "    if sw <li[x]:\n",
    "        sw=li[x]\n",
    "print(sw)"
   ]
  },
  {
   "cell_type": "code",
   "execution_count": 36,
   "id": "e8dab837-397c-4528-a505-e0bd7ab8e7af",
   "metadata": {},
   "outputs": [
    {
     "name": "stdout",
     "output_type": "stream",
     "text": [
      "44\n"
     ]
    }
   ],
   "source": [
    "# max()  // \n",
    "def bs(li=[33,11,22,44]):\n",
    "    sw=0\n",
    "    for x in range(len(li)):\n",
    "        if sw<li[x]:\n",
    "            sw = li[x]\n",
    "    return sw\n",
    "print(bs())"
   ]
  },
  {
   "cell_type": "code",
   "execution_count": 37,
   "id": "0a85968f-dcef-4e69-8bb6-11a50df0b3f4",
   "metadata": {},
   "outputs": [
    {
     "name": "stdout",
     "output_type": "stream",
     "text": [
      "33\n"
     ]
    }
   ],
   "source": [
    "print(bs([7,6,5,4,11,22,33]))"
   ]
  },
  {
   "cell_type": "code",
   "execution_count": 47,
   "id": "81b9ca0d-2fe8-4a9d-8e5c-4dc246829d7d",
   "metadata": {},
   "outputs": [
    {
     "name": "stdout",
     "output_type": "stream",
     "text": [
      "[33, 11, 22, 44] 중 가장 큰 요소는 44 입니다.\n"
     ]
    }
   ],
   "source": [
    "d=[33,11,22,44]\n",
    "if d[0]>(d[1] and d[2] and d[3]):\n",
    "    print(f'{d} 중 가장 큰 요소는 {d[0]} 입니다.')\n",
    "if d[1]>(d[0] and d[2] and d[3]):\n",
    "    print(f'{d} 중 가장 큰 요소는 {d[1]} 입니다.')\n",
    "if d[2]>(d[0] and d[1] and d[3]):\n",
    "    print(f'{d} 중 가장 큰 요소는 {d[2]} 입니다.')\n",
    "else: print(f'{d} 중 가장 큰 요소는 {d[3]} 입니다.')"
   ]
  },
  {
   "cell_type": "code",
   "execution_count": 48,
   "id": "10b1ddb2-7990-4cd1-a480-1dcd8e7cc073",
   "metadata": {},
   "outputs": [
    {
     "name": "stdout",
     "output_type": "stream",
     "text": [
      "[33, 11, 22, 44] 중 가장 큰 요소는 44 입니다.\n",
      "None\n"
     ]
    }
   ],
   "source": [
    "def eh(d=[33,11,22,44]):\n",
    "    if d[0]>(d[1] and d[2] and d[3]):\n",
    "        print(f'{d} 중 가장 큰 요소는 {d[0]} 입니다.')\n",
    "    if d[1]>(d[0] and d[2] and d[3]):\n",
    "        print(f'{d} 중 가장 큰 요소는 {d[1]} 입니다.')\n",
    "    if d[2]>(d[0] and d[1] and d[3]):\n",
    "        print(f'{d} 중 가장 큰 요소는 {d[2]} 입니다.')\n",
    "    else: print(f'{d} 중 가장 큰 요소는 {d[3]} 입니다.')\n",
    "print(eh())"
   ]
  },
  {
   "cell_type": "code",
   "execution_count": 54,
   "id": "529185fe-f7cc-4e4c-b142-caa588340ad7",
   "metadata": {},
   "outputs": [],
   "source": [
    "# 매개변수를 지정하여 호출하기\n",
    "def sub(a,b):\n",
    "    return a-b"
   ]
  },
  {
   "cell_type": "code",
   "execution_count": 55,
   "id": "38c26b07-4729-438b-9d6f-58e431468a23",
   "metadata": {},
   "outputs": [
    {
     "name": "stdout",
     "output_type": "stream",
     "text": [
      "4\n"
     ]
    }
   ],
   "source": [
    "# result = sub(a=7,b=3)\n",
    "result = sub(b=3,a=7)     # 변수의 이름과 값을 지정해두면 입력할 때의 순서는 상관 없다.\n",
    "print(result)"
   ]
  },
  {
   "cell_type": "code",
   "execution_count": null,
   "id": "9eef08bd-feb8-4210-b9a4-f65b730bb4f1",
   "metadata": {},
   "outputs": [],
   "source": [
    "#!pip install matplotlib"
   ]
  },
  {
   "cell_type": "code",
   "execution_count": 93,
   "id": "ff570930-fd11-4457-a41e-dcdc6ed0d22d",
   "metadata": {},
   "outputs": [],
   "source": [
    "# 테스트 : 함수 random 주사위   ; 코드를 다시 쓰기 쉽게 정렬해 주는 것을 리팩토룸? \n",
    "import random as r\n",
    "import matplotlib.pyplot as plt\n",
    "def dice(target = 250000):\n",
    "    box = []\n",
    "    num = 0\n",
    "    results = {}\n",
    "    while num < target:\n",
    "        num = num + 1\n",
    "        ran = r.randint(1,6)\n",
    "        box.append(ran)\n",
    "    if target == len(box):\n",
    "        print(f'{target}번 회 정상 진행되었습니다')\n",
    "    else:\n",
    "        print(f'검증 결과 횟수 이상이 있습니다. \\n⚠️ : {target}회 목표로 동작하였으나, {len(box)}으로 측정되었습니다.\\n')\n",
    "\n",
    "    for n in range(1,7):\n",
    "        results[n] = box.count(n)\n",
    "        print(f'{n}은 {box.count(n)}번({(box.count(n)/target*100):.2f})% 나왔습니다.')\n",
    "    print(results)\n",
    "    color = [\"lavender\",\"pink\",\"lavender\",\"pink\",\"lavender\",\"pink\"]\n",
    "    plt.bar(results.keys(),results.values(),color=color)    # x축과 y축\n",
    "    plt.show()    # bar chart로 보여줘"
   ]
  },
  {
   "cell_type": "code",
   "execution_count": null,
   "id": "2eea5188-2b7b-49cf-aa29-77baf0cf33f4",
   "metadata": {},
   "outputs": [],
   "source": [
    "# 제일 큰 그래프만 색깔 변경 가능하다 ~! 나중에 한 번 해보기 ^_^"
   ]
  },
  {
   "cell_type": "code",
   "execution_count": 94,
   "id": "d60b50ca-5f50-460b-8d2b-a66781e27d4c",
   "metadata": {},
   "outputs": [
    {
     "name": "stdout",
     "output_type": "stream",
     "text": [
      "250000번 회 정상 진행되었습니다\n",
      "1은 41797번(16.72)% 나왔습니다.\n",
      "2은 41813번(16.73)% 나왔습니다.\n",
      "3은 41612번(16.64)% 나왔습니다.\n",
      "4은 41367번(16.55)% 나왔습니다.\n",
      "5은 41681번(16.67)% 나왔습니다.\n",
      "6은 41730번(16.69)% 나왔습니다.\n",
      "{1: 41797, 2: 41813, 3: 41612, 4: 41367, 5: 41681, 6: 41730}\n"
     ]
    },
    {
     "data": {
      "image/png": "[encoded data removed]",
      "text/plain": [
       "<Figure size 640x480 with 1 Axes>"
      ]
     },
     "metadata": {},
     "output_type": "display_data"
    }
   ],
   "source": [
    "dice()"
   ]
  },
  {
   "cell_type": "code",
   "execution_count": 113,
   "id": "d462c793-18f9-4e2a-b32a-2f39d30bbc3e",
   "metadata": {},
   "outputs": [],
   "source": [
    "# 테스트 : 함수 random 주사위   ; 그래프 색 바꿔보기 ~!\n",
    "import random as r\n",
    "import matplotlib.pyplot as plt\n",
    "def dice(target = 250000):\n",
    "    box = []\n",
    "    num = 0\n",
    "    results = {}\n",
    "    while num < target:\n",
    "        num = num + 1\n",
    "        ran = r.randint(1,6)\n",
    "        box.append(ran)\n",
    "    if target == len(box):\n",
    "        print(f'{target}번 회 정상 진행되었습니다')\n",
    "    else:\n",
    "        print(f'검증 결과 횟수 이상이 있습니다. \\n⚠️ : {target}회 목표로 동작하였으나, {len(box)}으로 측정되었습니다.\\n')\n",
    "\n",
    "    for n in range(1,7):\n",
    "        results[n] = box.count(n)\n",
    "        print(f'{n}은 {box.count(n)}번({(box.count(n)/target*100):.2f})% 나왔습니다.')\n",
    "    print(results)\n",
    "    color = [\"lavender\",\"pink\",\"lavender\",\"pink\",\"lavender\",\"pink\"]\n",
    "    if max(box.count(n)) == results.values():\n",
    "        plt.bar(results.keys(),results.values(),color=\"orange\")\n",
    "    plt.bar(results.keys(),results.values(),color=color)    # x축과 y축\n",
    "    plt.show()    # bar chart로 보여줘"
   ]
  },
  {
   "cell_type": "code",
   "execution_count": 114,
   "id": "62af784e-de6a-4028-ab20-e2ca7400eca1",
   "metadata": {},
   "outputs": [
    {
     "name": "stdout",
     "output_type": "stream",
     "text": [
      "250000번 회 정상 진행되었습니다\n",
      "1은 41761번(16.70)% 나왔습니다.\n",
      "2은 41838번(16.74)% 나왔습니다.\n",
      "3은 41756번(16.70)% 나왔습니다.\n",
      "4은 41640번(16.66)% 나왔습니다.\n",
      "5은 41505번(16.60)% 나왔습니다.\n",
      "6은 41500번(16.60)% 나왔습니다.\n",
      "{1: 41761, 2: 41838, 3: 41756, 4: 41640, 5: 41505, 6: 41500}\n"
     ]
    },
    {
     "ename": "TypeError",
     "evalue": "'int' object is not iterable",
     "output_type": "error",
     "traceback": [
      "\u001b[1;31m---------------------------------------------------------------------------\u001b[0m",
      "\u001b[1;31mTypeError\u001b[0m                                 Traceback (most recent call last)",
      "Cell \u001b[1;32mIn[114], line 1\u001b[0m\n\u001b[1;32m----> 1\u001b[0m \u001b[43mdice\u001b[49m\u001b[43m(\u001b[49m\u001b[43m)\u001b[49m\n",
      "Cell \u001b[1;32mIn[113], line 22\u001b[0m, in \u001b[0;36mdice\u001b[1;34m(target)\u001b[0m\n\u001b[0;32m     20\u001b[0m \u001b[38;5;28mprint\u001b[39m(results)\n\u001b[0;32m     21\u001b[0m color \u001b[38;5;241m=\u001b[39m [\u001b[38;5;124m\"\u001b[39m\u001b[38;5;124mlavender\u001b[39m\u001b[38;5;124m\"\u001b[39m,\u001b[38;5;124m\"\u001b[39m\u001b[38;5;124mpink\u001b[39m\u001b[38;5;124m\"\u001b[39m,\u001b[38;5;124m\"\u001b[39m\u001b[38;5;124mlavender\u001b[39m\u001b[38;5;124m\"\u001b[39m,\u001b[38;5;124m\"\u001b[39m\u001b[38;5;124mpink\u001b[39m\u001b[38;5;124m\"\u001b[39m,\u001b[38;5;124m\"\u001b[39m\u001b[38;5;124mlavender\u001b[39m\u001b[38;5;124m\"\u001b[39m,\u001b[38;5;124m\"\u001b[39m\u001b[38;5;124mpink\u001b[39m\u001b[38;5;124m\"\u001b[39m]\n\u001b[1;32m---> 22\u001b[0m \u001b[38;5;28;01mif\u001b[39;00m \u001b[38;5;28;43mmax\u001b[39;49m\u001b[43m(\u001b[49m\u001b[43mbox\u001b[49m\u001b[38;5;241;43m.\u001b[39;49m\u001b[43mcount\u001b[49m\u001b[43m(\u001b[49m\u001b[43mn\u001b[49m\u001b[43m)\u001b[49m\u001b[43m)\u001b[49m \u001b[38;5;241m==\u001b[39m results\u001b[38;5;241m.\u001b[39mvalues():\n\u001b[0;32m     23\u001b[0m     plt\u001b[38;5;241m.\u001b[39mbar(results\u001b[38;5;241m.\u001b[39mkeys(),results\u001b[38;5;241m.\u001b[39mvalues(),color\u001b[38;5;241m=\u001b[39m\u001b[38;5;124m\"\u001b[39m\u001b[38;5;124morange\u001b[39m\u001b[38;5;124m\"\u001b[39m)\n\u001b[0;32m     24\u001b[0m plt\u001b[38;5;241m.\u001b[39mbar(results\u001b[38;5;241m.\u001b[39mkeys(),results\u001b[38;5;241m.\u001b[39mvalues(),color\u001b[38;5;241m=\u001b[39mcolor)    \u001b[38;5;66;03m# x축과 y축\u001b[39;00m\n",
      "\u001b[1;31mTypeError\u001b[0m: 'int' object is not iterable"
     ]
    }
   ],
   "source": [
    "dice()"
   ]
  },
  {
   "cell_type": "code",
   "execution_count": 111,
   "id": "45ded668-30d0-44aa-9ee2-df62c31c5cf3",
   "metadata": {},
   "outputs": [],
   "source": [
    "# 여러개의 입려값을 받는 함수 만들기\n",
    "def add_many(args):\n",
    "    result = 0\n",
    "    for i in args:\n",
    "        result = result + i\n",
    "    return result"
   ]
  },
  {
   "cell_type": "code",
   "execution_count": 112,
   "id": "fbb757c1-35be-4175-8857-8fdd4764659c",
   "metadata": {},
   "outputs": [
    {
     "name": "stdout",
     "output_type": "stream",
     "text": [
      "14\n"
     ]
    }
   ],
   "source": [
    "res = add_many((1,4,3,1,5))\n",
    "print(res)"
   ]
  },
  {
   "cell_type": "code",
   "execution_count": 116,
   "id": "ee651905-b460-4b3f-abc3-303840c4d376",
   "metadata": {},
   "outputs": [],
   "source": [
    "def add_mul(choice, *args) :  # *를 치면 튜플 형식으로 바꿔준다.\n",
    "    if choice == \"add\":\n",
    "        result = 0\n",
    "        for i in args:\n",
    "            result = result + i\n",
    "    elif choice == \"mul\":\n",
    "        result = 1\n",
    "        for i in args:\n",
    "            result = result * i\n",
    "        return result"
   ]
  },
  {
   "cell_type": "code",
   "execution_count": null,
   "id": "50893feb-6ec9-44cb-b0a3-b25329d9c91c",
   "metadata": {},
   "outputs": [],
   "source": [
    "# print(\"하고자 하는 연산을 넣어주세요.\")\n",
    " # 덧셈 : add / 뺄셈 : sub / 곱셈 : mul / 나눗셈 : div\n",
    " # add, mul, sub, div, 정확한 명령어를 넣어주세요.\n",
    "\n",
    " # ex ) add_mul('add',1,2,3,4,5)\n",
    " #      add_mul('mul',2,3,4,)\n",
    " #      add_mul('sub',7,4,1,1)\n",
    " #      add_mul('div',300,3,10)"
   ]
  },
  {
   "cell_type": "code",
   "execution_count": 126,
   "id": "b7b1b7f5-ff65-485e-b680-22d59280b6d8",
   "metadata": {},
   "outputs": [],
   "source": [
    "def add_mul(input, *args) :\n",
    "    if input == \"add\":\n",
    "        result = 0\n",
    "        for i in args:\n",
    "            result = result + i\n",
    "    elif input == \"mul\":\n",
    "        result = 1\n",
    "        for i in args:\n",
    "            result = result * i\n",
    "    elif input == \"sub\":\n",
    "        result = 0\n",
    "        for i in args:\n",
    "            result = result - i\n",
    "    elif input == \"div\":\n",
    "        result = 1\n",
    "        for i in args:\n",
    "            result = result / i\n",
    "    else:\n",
    "        result = input\n",
    "        print(\"정확하게 입력하세요.\")\n",
    "    return result"
   ]
  },
  {
   "cell_type": "code",
   "execution_count": 129,
   "id": "757de810-b1cb-45bc-a16e-b3b76ed56346",
   "metadata": {},
   "outputs": [
    {
     "data": {
      "text/plain": [
       "0.0003333333333333334"
      ]
     },
     "execution_count": 129,
     "metadata": {},
     "output_type": "execute_result"
    }
   ],
   "source": [
    "add_mul('div',300,10)"
   ]
  },
  {
   "cell_type": "code",
   "execution_count": 3,
   "id": "b164e599-295a-4e54-89e0-61e40ef1238a",
   "metadata": {},
   "outputs": [],
   "source": [
    "# 키워드 매개변수 : kwargs\n",
    "def print_kwargs(**kwargs):\n",
    "    print(kwargs)"
   ]
  },
  {
   "cell_type": "code",
   "execution_count": 4,
   "id": "aab47fc4-0779-411b-bb9e-efa4a4590698",
   "metadata": {},
   "outputs": [
    {
     "name": "stdout",
     "output_type": "stream",
     "text": [
      "{'name': '홍길동', 'age': 21, 'address': '대한민국'}\n"
     ]
    }
   ],
   "source": [
    "print_kwargs(name=\"홍길동\",age=21,address='대한민국')"
   ]
  },
  {
   "cell_type": "code",
   "execution_count": 11,
   "id": "f70ccaf2-e7b2-4f1c-a1a7-a9a9da0c5533",
   "metadata": {},
   "outputs": [
    {
     "name": "stdout",
     "output_type": "stream",
     "text": [
      "{'name': '홍길동', 'age': 21, 'address': '대한민국'}\n"
     ]
    }
   ],
   "source": [
    "# cf\n",
    "def print_kwargs(kwargs):\n",
    "    print(kwargs)\n",
    "print_kwargs({'name':'홍길동','age':21,'address':'대한민국'})"
   ]
  },
  {
   "cell_type": "code",
   "execution_count": 140,
   "id": "97688d44-28bd-45d6-ad7f-67a7186430dd",
   "metadata": {},
   "outputs": [],
   "source": [
    "# test\n",
    "def test():\n",
    "    print('저야 영광이죠 ~!!')\n",
    "    if True : return\n",
    "    print('집에 가고 싶어 ~~!')"
   ]
  },
  {
   "cell_type": "code",
   "execution_count": 141,
   "id": "4da8b57e-839d-4f5d-8797-5ada54c9bd4c",
   "metadata": {},
   "outputs": [
    {
     "name": "stdout",
     "output_type": "stream",
     "text": [
      "저야 영광이죠 ~!!\n"
     ]
    }
   ],
   "source": [
    "test()     # return 뒤의 값은 생략 된다 ~!"
   ]
  },
  {
   "cell_type": "code",
   "execution_count": 147,
   "id": "4b601182-9bda-48f6-a4eb-ac19c8ea8ce6",
   "metadata": {},
   "outputs": [
    {
     "name": "stdout",
     "output_type": "stream",
     "text": [
      "35 286\n"
     ]
    }
   ],
   "source": [
    "# test2\n",
    "def test2(a,b):\n",
    "    return a+b,a*b    # 튜플은 괄호 생략 가능 ~!\n",
    "add_result, mul_result = test2(13,22)\n",
    "print(add_result, mul_result)"
   ]
  },
  {
   "cell_type": "code",
   "execution_count": 155,
   "id": "07b58e5c-599b-46c7-a597-2a6ae57614bd",
   "metadata": {},
   "outputs": [],
   "source": [
    "def say_nick(nick) : \n",
    "    if nick == \"바보\":\n",
    "        return\n",
    "    print(\"나의 별명은 %s입니다.\" % nick)"
   ]
  },
  {
   "cell_type": "code",
   "execution_count": 158,
   "id": "8a2cfefe-fb8e-44a3-b76d-e37c95bfc16b",
   "metadata": {},
   "outputs": [],
   "source": [
    "say_nick('바보')    # 입력값으로 '바보'라는 값이 들어오면 문자열을 출력하지 않고 함수를 즉시 빠져나간다. "
   ]
  },
  {
   "cell_type": "code",
   "execution_count": 159,
   "id": "42c9a140-88b1-4fbe-a805-799de70e27f9",
   "metadata": {},
   "outputs": [
    {
     "name": "stdout",
     "output_type": "stream",
     "text": [
      "나의 별명은 야호입니다.\n"
     ]
    }
   ],
   "source": [
    "say_nick('야호')"
   ]
  },
  {
   "cell_type": "code",
   "execution_count": null,
   "id": "35770dd8-aa6d-409a-8f95-b40143662694",
   "metadata": {},
   "outputs": [],
   "source": []
  }
 ],
 "metadata": {
  "kernelspec": {
   "display_name": "Python 3 (ipykernel)",
   "language": "python",
   "name": "python3"
  },
  "language_info": {
   "codemirror_mode": {
    "name": "ipython",
    "version": 3
   },
   "file_extension": ".py",
   "mimetype": "text/x-python",
   "name": "python",
   "nbconvert_exporter": "python",
   "pygments_lexer": "ipython3",
   "version": "3.13.1"
  }
 },
 "nbformat": 4,
 "nbformat_minor": 5
}
