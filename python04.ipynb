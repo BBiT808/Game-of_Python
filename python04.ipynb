{
 "cells": [
  {
   "cell_type": "markdown",
   "id": "0b65b370-7964-417f-9883-cd7813969478",
   "metadata": {},
   "source": [
    "# 함수"
   ]
  },
  {
   "cell_type": "code",
   "execution_count": 2,
   "id": "63aff3da-ff7b-4411-b37a-bead277ddb34",
   "metadata": {},
   "outputs": [],
   "source": [
    "# 모든 명령어들은 (){} 와 같은 형식\n",
    "  # if (){}   ; 제어문        > if : 로 바뀜(파이썬에서) / 괄호 대신 들여쓰기로 구분한다.\n",
    "  # for(){}   ; 반복문        > for : 로 바뀜\n",
    "  # while(){} ; 반복문        > while : 로 바뀜\n",
    "  # function(){}                          New!\n",
    "  # def 이름():   ; :이 중괄호 역할       NeW!\n",
    "  #     내용"
   ]
  },
  {
   "cell_type": "code",
   "execution_count": 3,
   "id": "a0b679b8-6298-448d-963c-5d5eef868eb8",
   "metadata": {},
   "outputs": [],
   "source": [
    "def 덧셈(a,b):\n",
    "    return a + b     # 되돌려주다. enter와 비슷."
   ]
  },
  {
   "cell_type": "code",
   "execution_count": 7,
   "id": "9422f6cf-c611-40f5-b353-397f7dae4c92",
   "metadata": {},
   "outputs": [
    {
     "name": "stdout",
     "output_type": "stream",
     "text": [
      "7\n"
     ]
    }
   ],
   "source": [
    "c = 덧셈(3,4)\n",
    "print(c)"
   ]
  },
  {
   "cell_type": "code",
   "execution_count": null,
   "id": "c06685cf-a6a4-4090-b2c8-c46238a91d74",
   "metadata": {},
   "outputs": [],
   "source": [
    "# 드래그 후 탭 누르면 들여쓰기 쌉가능 ~"
   ]
  },
  {
   "cell_type": "code",
   "execution_count": 12,
   "id": "8dfff5fb-fb33-41c9-bb13-13bdf6a270e4",
   "metadata": {},
   "outputs": [
    {
     "name": "stdout",
     "output_type": "stream",
     "text": [
      "====2단====\n",
      "2 x 1 = 2\n",
      "2 x 2 = 4\n",
      "2 x 3 = 6\n",
      "2 x 4 = 8\n",
      "2 x 5 = 10\n",
      "2 x 6 = 12\n",
      "2 x 7 = 14\n",
      "2 x 8 = 16\n",
      "2 x 9 = 18\n",
      "None\n"
     ]
    }
   ],
   "source": [
    "def gugu(end = 9):\n",
    "    for j in range(2,end+1) :\n",
    "        print(f\"{str(j)+'단':=^10}\")\n",
    "        for k in range(1,10):\n",
    "            print(f'{j} x {k} = {j*k}')\n",
    "print(gugu(2)) # 보여만 준다."
   ]
  },
  {
   "cell_type": "code",
   "execution_count": 13,
   "id": "4f349d22-7ddc-4d86-a074-a2d64b6d9955",
   "metadata": {},
   "outputs": [
    {
     "name": "stdout",
     "output_type": "stream",
     "text": [
      "====2단====\n"
     ]
    },
    {
     "data": {
      "text/plain": [
       "'2 x 1 = 2'"
      ]
     },
     "execution_count": 13,
     "metadata": {},
     "output_type": "execute_result"
    }
   ],
   "source": [
    "def gugu(end = 9):\n",
    "    for j in range(2,end+1) :\n",
    "        print(f\"{str(j)+'단':=^10}\")\n",
    "        for k in range(1,10):\n",
    "            return(f'{j} x {k} = {j*k}')    # for 안에 return이 들어가는 것은 주의해야함 !\n",
    "gugu(2)"
   ]
  },
  {
   "cell_type": "code",
   "execution_count": 17,
   "id": "b2a7be26-651e-45a5-b746-6cb2ecd33f47",
   "metadata": {},
   "outputs": [
    {
     "name": "stdout",
     "output_type": "stream",
     "text": [
      "====2단====\n",
      "2 x 1 = 2\n",
      "2 x 2 = 4\n",
      "2 x 3 = 6\n",
      "2 x 4 = 8\n",
      "2 x 5 = 10\n",
      "2 x 6 = 12\n",
      "2 x 7 = 14\n",
      "2 x 8 = 16\n",
      "2 x 9 = 18\n",
      "\n"
     ]
    }
   ],
   "source": [
    "def gugu(end = 9):\n",
    "    data =''\n",
    "    for j in range(2,end+1) :\n",
    "        print(f\"{str(j)+'단':=^10}\")\n",
    "        for k in range(1,10):\n",
    "            data += (f'{j} x {k} = {j*k}') + '\\n'\n",
    "    return data\n",
    "print(gugu(2))"
   ]
  },
  {
   "cell_type": "code",
   "execution_count": null,
   "id": "6d1b1960-3e8c-4bf4-b803-7b9d989de2a4",
   "metadata": {},
   "outputs": [],
   "source": []
  }
 ],
 "metadata": {
  "kernelspec": {
   "display_name": "Python 3 (ipykernel)",
   "language": "python",
   "name": "python3"
  },
  "language_info": {
   "codemirror_mode": {
    "name": "ipython",
    "version": 3
   },
   "file_extension": ".py",
   "mimetype": "text/x-python",
   "name": "python",
   "nbconvert_exporter": "python",
   "pygments_lexer": "ipython3",
   "version": "3.13.1"
  }
 },
 "nbformat": 4,
 "nbformat_minor": 5
}
