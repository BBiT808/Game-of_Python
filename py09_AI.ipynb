{
 "cells": [
  {
   "cell_type": "code",
   "execution_count": null,
   "id": "64357f9f-6775-421a-9883-8b39eaeccc2c",
   "metadata": {},
   "outputs": [],
   "source": [
    "# 20250224 갸아아아악 16번째 수업이야 !!!!! 갸아아아아악"
   ]
  },
  {
   "cell_type": "code",
   "execution_count": null,
   "id": "912a8504-3869-4b22-9d88-9a6f95fdf1cd",
   "metadata": {},
   "outputs": [],
   "source": [
    "# 오늘 한 것 - github랑 pkteam03 서버와 연결하기.\n",
    "# 텔레그램 차단당하기\n",
    "# 인증서 어쩌구 해서 들어갈 때 비밀번호 안 쳐도 되기\n",
    "# git hub에 가지 만들어서 main에 병합하다가 망하기."
   ]
  },
  {
   "cell_type": "code",
   "execution_count": null,
   "id": "7b478ea0-5ace-4b5a-ab4c-0692195b77ff",
   "metadata": {},
   "outputs": [],
   "source": [
    "# 20250225 ... 17번째 수업은.... 여러분을 위한.....어쩌구. ((((대 상 혁))))"
   ]
  },
  {
   "cell_type": "code",
   "execution_count": null,
   "id": "8de00ec5-a09f-477a-b1bd-6c1626ab5264",
   "metadata": {},
   "outputs": [],
   "source": [
    "# Colaboratory(chrome) : 코랩!!"
   ]
  },
  {
   "cell_type": "code",
   "execution_count": 2,
   "id": "ac62ae3d-a828-4da7-b69f-2a8cb9869ae6",
   "metadata": {},
   "outputs": [],
   "source": [
    "#!pip install google-generativeai"
   ]
  },
  {
   "cell_type": "code",
   "execution_count": 3,
   "id": "88302650-2a26-4aca-aee7-f3eba5d961aa",
   "metadata": {},
   "outputs": [],
   "source": [
    "#!pip install -q -U google-genai"
   ]
  },
  {
   "cell_type": "code",
   "execution_count": 13,
   "id": "24d5bee1-c20f-4b66-b048-a29d3acf9e5a",
   "metadata": {},
   "outputs": [],
   "source": [
    "#!pip install --upgrade google_generativeai"
   ]
  },
  {
   "cell_type": "code",
   "execution_count": 11,
   "id": "4ce41d6f-505e-403b-bb0a-eca6cc83cd08",
   "metadata": {},
   "outputs": [
    {
     "name": "stdout",
     "output_type": "stream",
     "text": [
      "Pandas는 Python에서 데이터 분석과 조작을 쉽게 할 수 있도록 도와주는 강력한 라이브러리입니다. \n",
      "\n",
      "표 형태의 데이터를 다루는 데 특화되어 있으며, Series(1차원)와 DataFrame(2차원)이라는 자료 구조를 제공합니다. \n",
      "\n",
      "데이터 정제, 변환, 통계 분석, 시각화 등 다양한 기능을 제공하여 데이터 과학 분야에서 널리 활용됩니다.\n",
      "\n"
     ]
    }
   ],
   "source": [
    "from google import genai\n",
    "from dotenv import load_dotenv\n",
    "import os\n",
    "load_dotenv()\n",
    "\n",
    "def aiai(text):\n",
    "    client = genai.Client(api_key=os.getenv(\"GOOGLE_GEMINI_KEY\"))\n",
    "    response = client.models.generate_content(model=\"gemini-2.0-flash\",contents=text + \"; 단, 400자 이내 그리고 서술형으로 친절하게 알려줘.\")\n",
    "    answer = response.text\n",
    "    print(answer)\n",
    "\n",
    "aiai(\"pandas에 대해서 궁금해\")\n"
   ]
  },
  {
   "cell_type": "code",
   "execution_count": null,
   "id": "9c37f3b1-f5b4-4de4-8821-b62542a4bd6f",
   "metadata": {},
   "outputs": [],
   "source": []
  }
 ],
 "metadata": {
  "kernelspec": {
   "display_name": "Python 3 (ipykernel)",
   "language": "python",
   "name": "python3"
  },
  "language_info": {
   "codemirror_mode": {
    "name": "ipython",
    "version": 3
   },
   "file_extension": ".py",
   "mimetype": "text/x-python",
   "name": "python",
   "nbconvert_exporter": "python",
   "pygments_lexer": "ipython3",
   "version": "3.13.1"
  }
 },
 "nbformat": 4,
 "nbformat_minor": 5
}
