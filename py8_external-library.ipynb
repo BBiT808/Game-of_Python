{
 "cells": [
  {
   "cell_type": "markdown",
   "id": "f85f03d3-5522-43eb-8a60-0951e32ddc68",
   "metadata": {},
   "source": [
    "# 외부 라이브러리"
   ]
  },
  {
   "cell_type": "markdown",
   "id": "5ccd0c98-4062-4780-9d33-e0aecc8b998c",
   "metadata": {},
   "source": [
    "## pip *"
   ]
  },
  {
   "cell_type": "markdown",
   "id": "855aa86e-7fa1-4ec7-b661-1533f1a0cea5",
   "metadata": {},
   "source": [
    "## Faker"
   ]
  },
  {
   "cell_type": "code",
   "execution_count": null,
   "id": "b475c71d-a8f3-4bfa-a079-ab8a81f7b225",
   "metadata": {},
   "outputs": [],
   "source": [
    "# 젠장 오늘도 난 숭배해야만 해  . . ."
   ]
  },
  {
   "cell_type": "code",
   "execution_count": 8,
   "id": "b6c2c145-2d59-44f9-ac73-e8e33b63cffe",
   "metadata": {},
   "outputs": [
    {
     "name": "stdout",
     "output_type": "stream",
     "text": [
      "오늘도 이상혁 : 신을 봐버렸어..\n",
      "젠장 난 오늘도 숭배해야만 해..\n"
     ]
    }
   ],
   "source": [
    "from faker import Faker\n",
    "import random\n",
    "\n",
    "fake = Faker('ko-KR')\n",
    "found = False\n",
    "\n",
    "def custom_name_generator(fake):\n",
    "    # '이상혁'을 포함한 사용자 정의 이름 목록\n",
    "    custom_names = [\"이상혁\"] + [fake.name() for _ in range(9999)]\n",
    "    return random.choice(custom_names)\n",
    "\n",
    "for _ in range(10000):\n",
    "    n = custom_name_generator(fake)\n",
    "    if n == \"이상혁\":\n",
    "        print(f\"오늘도 {n} : 신을 봐버렸어..\\n젠장 난 오늘도 숭배해야만 해..\")\n",
    "        found = True  # '이상혁'을 발견했음을 표시\n",
    "        break  # '이상혁'을 발견한 경우 반복을 종료\n",
    "\n",
    "# '이상혁'이 한 번도 나타나지 않은 경우에 메시지를 출력\n",
    "if not found:\n",
    "    print(\"오늘도 신을 영접하지 못했다.\")"
   ]
  },
  {
   "cell_type": "code",
   "execution_count": 2,
   "id": "1cfd2e82-3939-4d0b-9bcb-4de05434bd4b",
   "metadata": {},
   "outputs": [
    {
     "name": "stdout",
     "output_type": "stream",
     "text": [
      "Collecting Faker\n",
      "  Downloading Faker-36.1.1-py3-none-any.whl.metadata (15 kB)\n",
      "Collecting tzdata (from Faker)\n",
      "  Downloading tzdata-2025.1-py2.py3-none-any.whl.metadata (1.4 kB)\n",
      "Downloading Faker-36.1.1-py3-none-any.whl (1.9 MB)\n",
      "   ---------------------------------------- 0.0/1.9 MB ? eta -:--:--\n",
      "   ---------------------------------------- 1.9/1.9 MB 47.0 MB/s eta 0:00:00\n",
      "Downloading tzdata-2025.1-py2.py3-none-any.whl (346 kB)\n",
      "Installing collected packages: tzdata, Faker\n",
      "Successfully installed Faker-36.1.1 tzdata-2025.1\n"
     ]
    }
   ],
   "source": [
    "#!pip install Faker"
   ]
  },
  {
   "cell_type": "code",
   "execution_count": 25,
   "id": "bd390411-56eb-4385-a496-3d0685cc1e65",
   "metadata": {},
   "outputs": [
    {
     "data": {
      "text/plain": [
       "[{'name': '강정자',\n",
       "  'id': 'junseoi',\n",
       "  'phone': '053-319-6235',\n",
       "  'email': 'gangjeonghun@example.net'},\n",
       " {'name': '김정식',\n",
       "  'id': 'ehan',\n",
       "  'phone': '062-225-6825',\n",
       "  'email': 'doyuni@example.org'},\n",
       " {'name': '임상훈',\n",
       "  'id': 'gbag',\n",
       "  'phone': '018-102-8352',\n",
       "  'email': 'gimyeonghwan@example.com'},\n",
       " {'name': '배승현',\n",
       "  'id': 'songujin',\n",
       "  'phone': '052-899-0437',\n",
       "  'email': 'simogja@example.org'},\n",
       " {'name': '박미영',\n",
       "  'id': 'cunjagim',\n",
       "  'phone': '062-172-0901',\n",
       "  'email': 'vgim@example.org'},\n",
       " {'name': '윤건우',\n",
       "  'id': 'gimmisug',\n",
       "  'phone': '053-573-0887',\n",
       "  'email': 'yi@example.com'},\n",
       " {'name': '김동현',\n",
       "  'id': 'gimjihye',\n",
       "  'phone': '070-4324-8995',\n",
       "  'email': 'doyun95@example.org'},\n",
       " {'name': '양지후',\n",
       "  'id': 'gosujin',\n",
       "  'phone': '052-688-5333',\n",
       "  'email': 'jeonghunbae@example.net'},\n",
       " {'name': '박상현',\n",
       "  'id': 'jeongho93',\n",
       "  'phone': '033-495-8019',\n",
       "  'email': 'myeongsugryu@example.net'},\n",
       " {'name': '엄보람',\n",
       "  'id': 'yeongjin84',\n",
       "  'phone': '019-303-0651',\n",
       "  'email': 'dgim@example.net'}]"
      ]
     },
     "execution_count": 25,
     "metadata": {},
     "output_type": "execute_result"
    }
   ],
   "source": [
    "from faker import Faker\n",
    "fake = Faker('ko-KR')\n",
    "[{'name' : fake.name(),'id' : fake.user_name(), 'phone':fake.phone_number(), 'email':fake.email()}for n in range(10)]"
   ]
  },
  {
   "cell_type": "markdown",
   "id": "2931c78a-a198-447d-b799-396f43e04661",
   "metadata": {},
   "source": [
    "<table style=\"float:left;width:400px\">\n",
    "<thead>\n",
    "<tr>\n",
    "<th>항목</th>\n",
    "<th>설명</th>\n",
    "</tr>\n",
    "</thead>\n",
    "<tbody>\n",
    "<tr>\n",
    "<td>fake.name()</td>\n",
    "<td>이름</td>\n",
    "</tr>\n",
    "<tr>\n",
    "<td>fake.address()</td>\n",
    "<td>주소</td>\n",
    "</tr>\n",
    "<tr>\n",
    "<td>fake.postcode()</td>\n",
    "<td>우편 번호</td>\n",
    "</tr>\n",
    "<tr>\n",
    "<td>fake.country()</td>\n",
    "<td>국가명</td>\n",
    "</tr>\n",
    "<tr>\n",
    "<td>fake.company()</td>\n",
    "<td>회사명</td>\n",
    "</tr>\n",
    "<tr>\n",
    "<td>fake.job()</td>\n",
    "<td>직업명</td>\n",
    "</tr>\n",
    "<tr>\n",
    "<td>fake.phone_number()</td>\n",
    "<td>휴대전화 번호</td>\n",
    "</tr>\n",
    "<tr>\n",
    "<td>fake.email()</td>\n",
    "<td>이메일 주소</td>\n",
    "</tr>\n",
    "<tr>\n",
    "<td>fake.user_name()</td>\n",
    "<td>사용자명</td>\n",
    "</tr>\n",
    "<tr>\n",
    "<td>fake.pyint(min_value=0, max_value=100)</td>\n",
    "<td>0부터 100 사이의 임의의 숫자</td>\n",
    "</tr>\n",
    "<tr>\n",
    "<td>fake.ipv4_private()</td>\n",
    "<td>IP 주소</td>\n",
    "</tr>\n",
    "<tr>\n",
    "<td>fake.text()</td>\n",
    "<td>임의의 문장 (한글 임의의 문장은 <code>fake.catch_phrase()</code> 사용)</td>\n",
    "</tr>\n",
    "<tr>\n",
    "<td>fake.color_name()</td>\n",
    "<td>색상명</td>\n",
    "</tr>\n",
    "</tbody>\n",
    "</table>"
   ]
  },
  {
   "cell_type": "code",
   "execution_count": 28,
   "id": "0b28d98f-4e58-4ebd-b641-2124b44e1fc6",
   "metadata": {},
   "outputs": [
    {
     "name": "stdout",
     "output_type": "stream",
     "text": [
      "Collecting sympy\n",
      "  Downloading sympy-1.13.3-py3-none-any.whl.metadata (12 kB)\n",
      "Collecting mpmath<1.4,>=1.1.0 (from sympy)\n",
      "  Downloading mpmath-1.3.0-py3-none-any.whl.metadata (8.6 kB)\n",
      "Downloading sympy-1.13.3-py3-none-any.whl (6.2 MB)\n",
      "   ---------------------------------------- 0.0/6.2 MB ? eta -:--:--\n",
      "   ---------------------------------------- 6.2/6.2 MB 58.7 MB/s eta 0:00:00\n",
      "Downloading mpmath-1.3.0-py3-none-any.whl (536 kB)\n",
      "   ---------------------------------------- 0.0/536.2 kB ? eta -:--:--\n",
      "   --------------------------------------- 536.2/536.2 kB 37.7 MB/s eta 0:00:00\n",
      "Installing collected packages: mpmath, sympy\n",
      "Successfully installed mpmath-1.3.0 sympy-1.13.3\n"
     ]
    }
   ],
   "source": [
    "#!pip install sympy"
   ]
  },
  {
   "cell_type": "code",
   "execution_count": 30,
   "id": "d3db1687-ff23-4c60-803b-d5c6565dd626",
   "metadata": {},
   "outputs": [
    {
     "name": "stdout",
     "output_type": "stream",
     "text": [
      "남은 돈은 2640원 입니다.\n"
     ]
    }
   ],
   "source": [
    "# cf) sympy\n",
    "from fractions import Fraction\n",
    "import sympy\n",
    "\n",
    "# 가지고 있던 돈을 x라고 하자.\n",
    "x = sympy.symbols(\"x\")\n",
    "\n",
    "# 가지고 있던 돈의 2/5가 1760원이므로 방정식은  x*(2/5) = 1760이다.\n",
    "f = sympy.Eq(x*Fraction('2/5'), 1760)\n",
    "\n",
    "# 방정식을 만족하는 값(rewult)을 구한다.\n",
    "result = sympy.solve(f)    # 결괏값은 리스트\n",
    "\n",
    "# 남은 돈은 다음과 같이 가지고 있던 돈에서 1760원을 빼면 된다.\n",
    "remains = result[0] - 1760\n",
    "\n",
    "print('남은 돈은 {}원 입니다.'.format(remains))"
   ]
  },
  {
   "cell_type": "code",
   "execution_count": 2,
   "id": "ca49543d-53ea-47bb-b79f-d8011d271622",
   "metadata": {},
   "outputs": [
    {
     "name": "stdout",
     "output_type": "stream",
     "text": [
      "1위 :  REBEL HEART / IVE (아이브)\n"
     ]
    }
   ],
   "source": [
    "# 홈페이지.. 긁어오기 ..!!!!!\n",
    "import requests as req\n",
    "from bs4 import BeautifulSoup as bs # 아름다운국은 유우명한 도구임. 필요한 것만 골라서 추출 가능 !!\n",
    "url = \"https://www.melon.com/chart/index.htm\"\n",
    "headers = {'User-Agent':'Mozilla/5.0 (Windows NT 10.0; Win64; x64) AppleWebKit/537.36 (KHTML, like Gecko) Chrome/133.0.0.0 Safari/537.36'}\n",
    "# 헤더는 검사 - 네트워크 - f5 - 헤더 - User-Agent 긁어오기 !!\n",
    "web = req.get(url,headers = headers)\n",
    "# print(web)  # response가 200 이 뜨면 접속이 잘 된 것~\n",
    "# print(web.content)\n",
    "soup = bs(web.content, 'html.parser')\n",
    "# print(soup)\n",
    "\n",
    "title = soup.select_one('.wrap_song_info')\n",
    "atitle = title.select_one('a')\n",
    "# print(ac.text)\n",
    "\n",
    "aname0 = title.select_one('.checkEllipsis')\n",
    "aname = aname0.select_one('a')\n",
    "print('1위 : ',atitle.text,'/', aname.text)"
   ]
  },
  {
   "attachments": {
    "ec68a190-f9aa-4d7a-a849-932465086aae.png": {
     "image/png": "[encoded data removed]"
    }
   },
   "cell_type": "markdown",
   "id": "ef874deb-c007-412a-8889-abae5987bef2",
   "metadata": {},
   "source": [
    "<img src = 'attachment:ec68a190-f9aa-4d7a-a849-932465086aae.png' width=400>"
   ]
  },
  {
   "cell_type": "code",
   "execution_count": null,
   "id": "65d7d0c0-2dc3-4fbb-9500-1a37e1e8e9e3",
   "metadata": {},
   "outputs": [],
   "source": [
    "import requests as req\n",
    "from bs4 import BeautifulSoup as bs\n",
    "url = \"https://www.melon.com/chart/index.htm\"\n",
    "headers = {'User-Agent':'Mozilla/5.0 (Windows NT 10.0; Win64; x64) AppleWebKit/537.36 (KHTML, like Gecko) Chrome/133.0.0.0 Safari/537.36'}\n",
    "web = req.get(url,headers = headers)\n",
    "soup = bs(web.content, 'html.parser')\n",
    "\n",
    "title = soup.select('.wrap_song_info .rank01')[:20]\n",
    "name = soup.select('.checkEllipsis a')[:20]  # 20위까지 !!\n",
    "str = ''\n",
    "for i,(t,n) in enumerate(zip(title, name),1):\n",
    "    str += f'{i}위 : {t.text.strip()} / {n.text}\\n'\n",
    "print(str, end = ' ')   # print를 한 번만 하는 방법 !"
   ]
  },
  {
   "cell_type": "code",
   "execution_count": null,
   "id": "254266ab-205b-4d85-9c4c-20c632ab481a",
   "metadata": {},
   "outputs": [],
   "source": [
    "import requests as req\n",
    "from bs4 import BeautifulSoup as bs\n",
    "url = \"https://www.melon.com/chart/index.htm\"\n",
    "headers = {'User-Agent':'Mozilla/5.0 (Windows NT 10.0; Win64; x64) AppleWebKit/537.36 (KHTML, like Gecko) Chrome/133.0.0.0 Safari/537.36'}\n",
    "web = req.get(url,headers = headers)\n",
    "soup = bs(web.content, 'html.parser')\n",
    "\n",
    "title = soup.select('.wrap_song_info .rank01')[:20]\n",
    "name = soup.select('.checkEllipsis a')[:20]  # 20위까지 !!\n",
    "for i,(t,n) in enumerate(zip(title, name),1):\n",
    "    print(f'{i}위 :', t.text.strip(), '/', n.text)"
   ]
  },
  {
   "cell_type": "code",
   "execution_count": 10,
   "id": "faab757d-4859-4f3a-95db-d321840003e5",
   "metadata": {},
   "outputs": [
    {
     "name": "stdout",
     "output_type": "stream",
     "text": [
      "1위 : REBEL HEART / IVE (아이브)\n",
      "2위 : HOME SWEET HOME (feat. 태양, 대성) / G-DRAGON\n",
      "3위 : 나는 반딧불 / 황가람\n",
      "4위 : Whiplash / aespa\n",
      "5위 : APT. / 로제 (ROSÉ)\n",
      "6위 : 오늘만 I LOVE YOU / Bruno Mars\n",
      "7위 : Drowning / BOYNEXTDOOR\n",
      "8위 : ATTITUDE / WOODZ\n",
      "9위 : toxic till the end / IVE (아이브)\n",
      "10위 : Dash / 로제 (ROSÉ)\n",
      "11위 : POWER / PLAVE\n",
      "12위 : HAPPY / G-DRAGON\n",
      "13위 : 내게 사랑이 뭐냐고 물어본다면 / DAY6 (데이식스)\n",
      "14위 : RIZZ / 로이킴\n",
      "15위 : DRIP / PLAVE\n",
      "16위 : Chroma Drift / BABYMONSTER\n",
      "17위 : Island / PLAVE\n",
      "18위 : 소나기 / PLAVE\n",
      "19위 : 12:32 (A to T) / 이클립스 (ECLIPSE)\n",
      "20위 : 너와의 모든 지금 / PLAVE\n",
      " "
     ]
    }
   ],
   "source": [
    "import melon\n",
    "melon.mel()"
   ]
  },
  {
   "cell_type": "code",
   "execution_count": 47,
   "id": "d6d91534-efed-451b-8dbd-e233483a65a2",
   "metadata": {},
   "outputs": [
    {
     "name": "stdout",
     "output_type": "stream",
     "text": [
      "1: 삼성전자 :  58,900원\n",
      "2: SK하이닉스 :  218,500원\n",
      "3: LG에너지솔루션 :  370,500원\n",
      "4: 삼성바이오로직스 :  1,137,000원\n",
      "5: 현대차 :  203,000원\n",
      "6: 삼성전자우 :  49,450원\n",
      "7: 셀트리온 :  179,800원\n",
      "8: 기아 :  94,000원\n",
      "9: NAVER :  222,500원\n",
      "10: KB금융 :  82,300원\n",
      "11: HD현대중공업 :  324,500원\n",
      "12: 한화에어로스페이스 :  624,000원\n",
      "13: 신한지주 :  47,500원\n",
      "14: 삼성물산 :  133,600원\n",
      "15: 메리츠금융지주 :  123,200원\n",
      "16: 현대모비스 :  251,500원\n",
      "17: 한화오션 :  74,700원\n",
      "18: POSCO홀딩스 :  260,000원\n",
      "19: 삼성생명 :  101,600원\n",
      "20: SK이노베이션 :  129,000원\n",
      "21: 삼성화재 :  410,000원\n",
      "22: 두산에너빌리티 :  29,600원\n",
      "23: 하나금융지주 :  62,200원\n",
      "24: 카카오 :  40,050원\n",
      "25: LG화학 :  246,000원\n",
      "26: 고려아연 :  826,000원\n",
      "27: HMM :  18,370원\n",
      "28: HD한국조선해양 :  227,000원\n",
      "29: 크래프톤 :  331,500원\n",
      "30: 삼성SDI :  226,000원\n",
      "31: HD현대일렉트릭 :  383,000원\n",
      "32: SK스퀘어 :  102,800원\n",
      "33: 한국전력 :  21,200원\n",
      "34: LG전자 :  81,700원\n",
      "35: KT&G :  105,000원\n",
      "36: 우리금융지주 :  17,370원\n",
      "37: 삼성중공업 :  14,280원\n",
      "38: SK텔레콤 :  57,800원\n",
      "39: 기업은행 :  15,550원\n",
      "40: KT :  46,750원\n",
      "41: 카카오뱅크 :  23,950원\n",
      "42: LG :  70,400원\n",
      "43: 포스코퓨처엠 :  139,800원\n",
      "44: SK :  148,800원\n",
      "45: 삼성전기 :  141,600원\n",
      "46: 하이브 :  253,000원\n",
      "47: 한미반도체 :  107,300원\n",
      "48: 삼성에스디에스 :  130,000원\n",
      "49: 유한양행 :  124,700원\n",
      "50: 현대글로비스 :  129,200원\n"
     ]
    }
   ],
   "source": [
    "import requests as req\n",
    "from bs4 import BeautifulSoup as bs\n",
    "url=\"https://finance.naver.com/sise/sise_market_sum.naver\"\n",
    "headers = {'User-Agent':'Mozilla/5.0 (Windows NT 10.0; Win64; x64) AppleWebKit/537.36 (KHTML, like Gecko) Chrome/133.0.0.0 Safari/537.36'}\n",
    "web = req.get(url,headers = headers)\n",
    "soup = bs(web.content, 'html.parser')\n",
    "\n",
    "title = soup.select('.tltle')\n",
    "marketprice = soup.select('td.number:nth-child(3)')\n",
    "\n",
    "for i,(t,m) in enumerate(zip(title, marketprice),1):\n",
    "    print(f'{i}:', t.text.strip()+\" : \",  m.text.strip()+\"원\")"
   ]
  },
  {
   "cell_type": "code",
   "execution_count": 41,
   "id": "3cf633b6-233e-47d2-8570-376fc4d75576",
   "metadata": {},
   "outputs": [],
   "source": [
    "#!pip install html5lib"
   ]
  },
  {
   "cell_type": "code",
   "execution_count": 11,
   "id": "9dc698fc-44e4-4d1c-8dfb-2fa3354c597e",
   "metadata": {},
   "outputs": [
    {
     "name": "stdout",
     "output_type": "stream",
     "text": [
      "===============\n",
      "월 2025.02.17\n",
      "정식-5,500원\n",
      "강황밥\n",
      "김치콩나물국\n",
      "돈육바싹불고기\n",
      "모듬잡채\n",
      "멸치새우견과볶음\n",
      "상추겉절이\n",
      "포기김치\n",
      "\n",
      "===============\n",
      "화 2025.02.18\n",
      "정식-5,500원\n",
      "백미밥\n",
      "물만두국\n",
      "순살닭매콤조림\n",
      "쫄면야채무침\n",
      "파래무무침\n",
      "참나물겉절이\n",
      "포기김치\n",
      "\n",
      "===============\n",
      "수 2025.02.19\n",
      "정식-5,500원\n",
      "백미밥\n",
      "모듬어묵국\n",
      "함박스테이크/치즈/소스\n",
      "스파게티/소스\n",
      "치커리유자청샐러드\n",
      "콩나물무침\n",
      "포기김치\n",
      "\n",
      "===============\n",
      "목 2025.02.20\n",
      "정식-5,500원\n",
      "잡곡밥\n",
      "홍합미역국\n",
      "순살치킨/맛초킹소스\n",
      "꼬시레기두부무침\n",
      "잡채어묵조림\n",
      "상추겉절이\n",
      "포기김치\n",
      "\n",
      "===============\n",
      "금 2025.02.21\n",
      "정식-5,500원\n",
      "백미밥\n",
      "국수\n",
      "깐풍기/소스\n",
      "알감자버터구이\n",
      "도토리묵김치무침\n",
      "열무겉절이\n",
      "포기김치\n",
      "\n"
     ]
    }
   ],
   "source": [
    "import requests as req\n",
    "from bs4 import BeautifulSoup as bs\n",
    "url = \"https://www.pusan.ac.kr/kor/CMS/MenuMgr/menuListOnBuilding.do?mCode=MN202\"\n",
    "headers = {'User-Agent':'Mozilla/5.0 (Windows NT 10.0; Win64; x64) AppleWebKit/537.36 (KHTML, like Gecko) Chrome/133.0.0.0 Safari/537.36'}\n",
    "web = req.get(url,headers = headers)\n",
    "soup = bs(web.content, 'html5lib')\n",
    "menu = soup.select('.menu-tbl')\n",
    "won = soup.select('.menu-tit01')\n",
    "menu = soup.select('h3.menu-tit01+p')  # + 가 형제라는 뜻임!!\n",
    "day = soup.select('.day')\n",
    "date = soup.select('.date')   # . 이 클래스라는 뜻임 !!\n",
    "for d, dd, w, m in zip(day, date, won,menu):\n",
    "    print('='*15)\n",
    "    print(d.text, dd.text)\n",
    "    print(w.text+'\\n'+m.text)"
   ]
  },
  {
   "cell_type": "code",
   "execution_count": null,
   "id": "8335bcb7-e2e4-4631-a7e7-4b6b01ee05f0",
   "metadata": {},
   "outputs": [],
   "source": [
    "# 20250220 14번째 수업!!!!!!! 시간 진짜 잘간다 헉 ~~!"
   ]
  },
  {
   "cell_type": "code",
   "execution_count": 3,
   "id": "a25cd234-91d6-49ef-8167-03f41d7d9c4c",
   "metadata": {},
   "outputs": [
    {
     "name": "stdout",
     "output_type": "stream",
     "text": [
      "1: 삼성전자 :  58,900원\n",
      "2: SK하이닉스 :  217,000원\n",
      "3: LG에너지솔루션 :  377,500원\n",
      "4: 삼성바이오로직스 :  1,129,000원\n",
      "5: 현대차 :  203,000원\n",
      "6: 삼성전자우 :  49,400원\n",
      "7: 셀트리온 :  179,800원\n",
      "8: 기아 :  93,800원\n",
      "9: NAVER :  222,500원\n",
      "10: KB금융 :  82,100원\n",
      "11: HD현대중공업 :  319,500원\n",
      "12: 한화에어로스페이스 :  619,000원\n",
      "13: 신한지주 :  47,700원\n",
      "14: 삼성물산 :  133,200원\n",
      "15: 메리츠금융지주 :  123,000원\n",
      "16: 현대모비스 :  252,000원\n",
      "17: 한화오션 :  73,100원\n",
      "18: POSCO홀딩스 :  264,500원\n",
      "19: 삼성생명 :  101,500원\n",
      "20: SK이노베이션 :  130,900원\n",
      "21: 삼성화재 :  405,000원\n",
      "22: 두산에너빌리티 :  28,800원\n",
      "23: 카카오 :  40,400원\n",
      "24: 하나금융지주 :  62,300원\n",
      "25: LG화학 :  249,000원\n",
      "26: 고려아연 :  824,000원\n",
      "27: HMM :  18,550원\n",
      "28: HD한국조선해양 :  225,500원\n",
      "29: 크래프톤 :  331,000원\n",
      "30: 삼성SDI :  230,000원\n",
      "31: SK스퀘어 :  102,900원\n",
      "32: 한국전력 :  21,350원\n",
      "33: HD현대일렉트릭 :  378,500원\n",
      "34: LG전자 :  81,900원\n",
      "35: KT&G :  105,000원\n",
      "36: 우리금융지주 :  17,380원\n",
      "37: SK텔레콤 :  57,900원\n",
      "38: 기업은행 :  15,570원\n",
      "39: 삼성중공업 :  14,050원\n",
      "40: KT :  47,100원\n",
      "41: 카카오뱅크 :  24,050원\n",
      "42: LG :  70,400원\n",
      "43: 포스코퓨처엠 :  142,300원\n",
      "44: SK :  150,300원\n",
      "45: 삼성전기 :  141,900원\n",
      "46: 하이브 :  250,500원\n",
      "47: 한미반도체 :  106,800원\n",
      "48: 삼성에스디에스 :  129,800원\n",
      "49: 유한양행 :  124,000원\n",
      "50: 현대글로비스 :  128,500원\n"
     ]
    }
   ],
   "source": [
    "import finance\n",
    "finance.finance()"
   ]
  },
  {
   "cell_type": "code",
   "execution_count": 2,
   "id": "fa812a84-183b-4e4d-a1cd-8f02e2d6faf3",
   "metadata": {},
   "outputs": [
    {
     "name": "stdout",
     "output_type": "stream",
     "text": [
      "1 캡틴 아메리카: 브레이브 뉴 월드\n",
      "2 말할 수 없는 비밀\n",
      "3 히트맨2\n",
      "4 명탐정 코난: 14번째 표적\n",
      "5 서브스턴스\n",
      "6 검은 수녀들\n",
      "7 엘리: 몬스터 패밀리\n",
      "8 브루탈리스트\n",
      "9 더 폴: 디렉터스 컷\n",
      "10 미드나잇 인 파리\n"
     ]
    }
   ],
   "source": [
    "import movie\n",
    "movie.movie()"
   ]
  },
  {
   "cell_type": "code",
   "execution_count": null,
   "id": "a8542958-b8d3-41d2-867f-3d3c50c22b9d",
   "metadata": {},
   "outputs": [],
   "source": [
    "# 되새김 문제  chp5  -  p295"
   ]
  },
  {
   "cell_type": "code",
   "execution_count": 6,
   "id": "7eeef712-a0f1-4484-8351-41e1c2b1bb2e",
   "metadata": {},
   "outputs": [
    {
     "name": "stdout",
     "output_type": "stream",
     "text": [
      "3\n"
     ]
    }
   ],
   "source": [
    "# Q1 클래스 상속받고 메서드 추가하기 1\n",
    "class Calculator:\n",
    "    def __init__(self):\n",
    "        self.value = 0\n",
    "    def add(self, val):\n",
    "        self.value += val\n",
    "\n",
    "class UpgradeCalculator(Calculator):\n",
    "    def minus(self,val):\n",
    "        self.value -= val\n",
    "\n",
    "cal = UpgradeCalculator()\n",
    "cal.add(10)\n",
    "cal.minus(7)\n",
    "print(cal.value)"
   ]
  },
  {
   "cell_type": "code",
   "execution_count": 7,
   "id": "1e77e4fb-2f1c-4e35-b61a-6e321f5bf93d",
   "metadata": {},
   "outputs": [
    {
     "name": "stdout",
     "output_type": "stream",
     "text": [
      "100\n"
     ]
    }
   ],
   "source": [
    "# Q2 클래스 상속받고 메서드 추가하기 2\n",
    "class Cal:\n",
    "    def __init__(self):\n",
    "        self.value = 0\n",
    "    \n",
    "    def add(self, val):\n",
    "        self.value += val\n",
    "       \n",
    "class MaxLimitCalculator(Cal):\n",
    "    def add(self, val):       # 다시 add를 정의해줘야 한다!\n",
    "        self.value += val\n",
    "        if self.value > 100:\n",
    "            self.value = 100\n",
    "\n",
    "cal = MaxLimitCalculator()\n",
    "cal.add(50)\n",
    "cal.add(60)\n",
    "\n",
    "print(cal.value)"
   ]
  },
  {
   "cell_type": "code",
   "execution_count": 13,
   "id": "aae31c2e-e39b-485f-9fc3-915583b44f9d",
   "metadata": {},
   "outputs": [
    {
     "name": "stdout",
     "output_type": "stream",
     "text": [
      "False\n",
      "True\n"
     ]
    }
   ],
   "source": [
    "# Q3 참과 거짓 예측하기\n",
    "print(all([1,2,abs(-3)-3])) # 0이 있으므로 \n",
    "\n",
    "\n",
    "print(chr(ord('a')) == 'a')"
   ]
  },
  {
   "cell_type": "code",
   "execution_count": 1,
   "id": "e8f78521-a0c4-4ccf-b749-e5f2ed2be373",
   "metadata": {},
   "outputs": [
    {
     "name": "stdout",
     "output_type": "stream",
     "text": [
      "[1, 3, 8]\n"
     ]
    }
   ],
   "source": [
    "# Q4 음수 제거하기\n",
    "a = [1,-2,3,-5,8,-3]\n",
    "print(list(filter(lambda x : x>0, a)))"
   ]
  },
  {
   "cell_type": "code",
   "execution_count": null,
   "id": "33f439a5-8384-493d-8149-71daaadcb0d5",
   "metadata": {},
   "outputs": [],
   "source": [
    "# "
   ]
  }
 ],
 "metadata": {
  "kernelspec": {
   "display_name": "Python 3 (ipykernel)",
   "language": "python",
   "name": "python3"
  },
  "language_info": {
   "codemirror_mode": {
    "name": "ipython",
    "version": 3
   },
   "file_extension": ".py",
   "mimetype": "text/x-python",
   "name": "python",
   "nbconvert_exporter": "python",
   "pygments_lexer": "ipython3",
   "version": "3.13.1"
  }
 },
 "nbformat": 4,
 "nbformat_minor": 5
}
