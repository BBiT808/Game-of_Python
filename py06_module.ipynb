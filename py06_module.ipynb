{
 "cells": [
  {
   "cell_type": "markdown",
   "id": "ca35086f-fc9e-416c-a580-b3834970d1d2",
   "metadata": {},
   "source": [
    "# 모듈"
   ]
  },
  {
   "cell_type": "markdown",
   "id": "de2484f7-4310-4061-9efe-3b69d6e1a3d4",
   "metadata": {},
   "source": [
    "## 모듈 만들기"
   ]
  },
  {
   "cell_type": "code",
   "execution_count": 2,
   "id": "55fed8e3-be89-4414-bb2c-0df5cb6b87b6",
   "metadata": {},
   "outputs": [],
   "source": [
    "# 모듈 만들기 - mod1.py\n",
    "# def add(a,b):\n",
    "#     return a+b\n",
    "# def sub(a,b):\n",
    "#     return a-b"
   ]
  },
  {
   "cell_type": "code",
   "execution_count": 2,
   "id": "ca6f1458-8f46-42e4-b535-a554da74379b",
   "metadata": {},
   "outputs": [
    {
     "name": "stdout",
     "output_type": "stream",
     "text": [
      "3\n",
      "7\n"
     ]
    }
   ],
   "source": [
    "import mod1\n",
    "print(mod1.add(1,2))\n",
    "print(mod1.add(3,4))"
   ]
  },
  {
   "cell_type": "code",
   "execution_count": 3,
   "id": "8c9efaf6-756e-4ca4-b4cd-5087c956810a",
   "metadata": {},
   "outputs": [],
   "source": [
    "with open(\"mod2.py\",\"w\") as f:\n",
    "    data=\"\"\"def mul(a,b):\n",
    "    return a*b\n",
    "def div(a,b):\n",
    "    return a/b\"\"\"\n",
    "    f.write(data)"
   ]
  },
  {
   "cell_type": "code",
   "execution_count": 4,
   "id": "a01bfdfa-7e3c-4c20-b3f5-2f8c21b2d889",
   "metadata": {},
   "outputs": [
    {
     "name": "stdout",
     "output_type": "stream",
     "text": [
      "12\n",
      "2.0\n"
     ]
    }
   ],
   "source": [
    "import mod2\n",
    "print(mod2.mul(3,4))\n",
    "print(mod2.div(8,4))"
   ]
  },
  {
   "cell_type": "code",
   "execution_count": 5,
   "id": "cd68c2b8-3f23-4148-a1f8-0eb43d226075",
   "metadata": {},
   "outputs": [
    {
     "name": "stdout",
     "output_type": "stream",
     "text": [
      "3\n",
      "7\n",
      "12\n",
      "2.0\n"
     ]
    }
   ],
   "source": [
    "import mod1, mod2\n",
    "print(mod1.add(1,2))\n",
    "print(mod1.add(3,4))\n",
    "print(mod2.mul(3,4))\n",
    "print(mod2.div(8,4))"
   ]
  },
  {
   "cell_type": "code",
   "execution_count": 7,
   "id": "5e502374-676a-4d7d-8b22-4e84a9c39216",
   "metadata": {},
   "outputs": [
    {
     "name": "stdout",
     "output_type": "stream",
     "text": [
      "3\n",
      "7\n",
      "12\n",
      "2.0\n"
     ]
    }
   ],
   "source": [
    "# import mod1 as m1\n",
    "# import mod2 as m2\n",
    "import mod1 as m1, mod2 as m2    # ,를 찍으면 연속해서 적을 수 있음~\n",
    "print(m1.add(1,2))\n",
    "print(m1.add(3,4))\n",
    "print(m2.mul(3,4))\n",
    "print(m2.div(8,4))"
   ]
  },
  {
   "cell_type": "code",
   "execution_count": 8,
   "id": "d5195e85-1d78-4957-8c7f-b821bc6d5f25",
   "metadata": {},
   "outputs": [
    {
     "name": "stdout",
     "output_type": "stream",
     "text": [
      "77\n"
     ]
    }
   ],
   "source": [
    "# cf) 참고 1\n",
    "from mod1 import add , sub   # 다른 곳에도 add의 속성을 가진 함수가 있을 수 있음 !\n",
    "print(add(33,44))               # 잘못하면 충돌이 일어난다 ~"
   ]
  },
  {
   "cell_type": "code",
   "execution_count": 9,
   "id": "02b591be-7bf8-4608-a1d5-559c873c39c9",
   "metadata": {},
   "outputs": [
    {
     "name": "stdout",
     "output_type": "stream",
     "text": [
      "20\n"
     ]
    }
   ],
   "source": [
    "# cf) 참고 2\n",
    "from mod2 import *    # mod2에 있는 함수를 다 땡겨온다 ~\n",
    "print(mul(4,5))         # 편하지만 충돌을 주의해야 함 !!"
   ]
  },
  {
   "cell_type": "markdown",
   "id": "1f77d701-af12-4d48-88b4-15ad26de7ad3",
   "metadata": {},
   "source": [
    "## `__main__` '의 의미"
   ]
  },
  {
   "cell_type": "code",
   "execution_count": null,
   "id": "3335f928-8ff2-4240-811e-a4b69707c81f",
   "metadata": {},
   "outputs": [],
   "source": [
    "# 백틱(`) 쓰면 markdown에서 언더바 표시 가능 ~~ 전공자 최고 ^0^"
   ]
  },
  {
   "cell_type": "code",
   "execution_count": 12,
   "id": "32172434-fe2d-40c1-878c-75a2705a1d33",
   "metadata": {},
   "outputs": [],
   "source": [
    "with open(\"mod1.py\",\"a\") as f :\n",
    "    text = \"\"\"\\nprint(add(1,4))\\nprint(sub(4,2))\"\"\"   # 이렇게 해야 모양이 예쁘다고~\n",
    "    f.write(text)"
   ]
  },
  {
   "cell_type": "markdown",
   "id": "433f894e-340a-473b-ab89-308c1367fda5",
   "metadata": {},
   "source": [
    "- %%bash : 우분투 (리눅스)\n",
    "- %% cmd : 윈도우"
   ]
  },
  {
   "cell_type": "code",
   "execution_count": 2,
   "id": "9d5494dd-a19a-4ec5-8340-e7622e17d25e",
   "metadata": {},
   "outputs": [
    {
     "name": "stdout",
     "output_type": "stream",
     "text": [
      "Microsoft Windows [Version 10.0.26100.3194]\n",
      "(c) Microsoft Corporation. All rights reserved.\n",
      "\n",
      "eh\\code>python mod1.py\n",
      "5\n",
      "2\n",
      "__main__\n",
      "�� ���Ϸ� ������ �Ǿ���� !\n",
      "\n",
      "d:\\keh\\code>"
     ]
    }
   ],
   "source": [
    "%%cmd   # 이 프로그램 안에서 cmd를 실행한 것처럼 진행해 줘 !!\n",
    "python mod1.py"
   ]
  },
  {
   "attachments": {
    "347f673d-d004-4118-b9f3-ff6dce759fab.png": {
     "image/png": "[encoded data removed]"
    }
   },
   "cell_type": "markdown",
   "id": "fc8e3264-b310-4638-8dd2-183a2e8119ae",
   "metadata": {},
   "source": [
    "![image.png](attachment:347f673d-d004-4118-b9f3-ff6dce759fab.png)"
   ]
  },
  {
   "cell_type": "code",
   "execution_count": null,
   "id": "c27e5da2-0a32-47ff-be83-812650d8e8d5",
   "metadata": {},
   "outputs": [],
   "source": [
    "# if __name__==\"__main__\" :   > 이것은 밖에서 실행할 때 활용할 수 있다 !!"
   ]
  },
  {
   "cell_type": "code",
   "execution_count": 3,
   "id": "9fbb1de3-7d88-4405-8383-3a7c52712497",
   "metadata": {},
   "outputs": [
    {
     "name": "stdout",
     "output_type": "stream",
     "text": [
      "5\n",
      "2\n",
      "mod1\n",
      "전 모듈로 임포트 되었어요.\n"
     ]
    }
   ],
   "source": [
    "import mod1"
   ]
  },
  {
   "cell_type": "code",
   "execution_count": 5,
   "id": "dd064f0e-3533-4574-ba9e-5ceca93639bd",
   "metadata": {},
   "outputs": [
    {
     "data": {
      "text/plain": [
       "['__builtins__',\n",
       " '__cached__',\n",
       " '__doc__',\n",
       " '__file__',\n",
       " '__loader__',\n",
       " '__name__',\n",
       " '__package__',\n",
       " '__spec__',\n",
       " 'add',\n",
       " 'sub']"
      ]
     },
     "execution_count": 5,
     "metadata": {},
     "output_type": "execute_result"
    }
   ],
   "source": [
    "dir(mod1)   # 기본으로 상속받은 것들과, 모듈 안에 있는 함수 표시"
   ]
  },
  {
   "cell_type": "code",
   "execution_count": 6,
   "id": "5c257ac3-1b50-449c-a0e3-6054e064c890",
   "metadata": {},
   "outputs": [],
   "source": [
    "# with open('mod1.py','a') as f:\n",
    "#     content = \"\\nprint(__name__)\"\n",
    "#     f.write(content)"
   ]
  },
  {
   "cell_type": "code",
   "execution_count": null,
   "id": "a2792720-541a-401b-a570-13c8a4e1c9c7",
   "metadata": {},
   "outputs": [],
   "source": [
    "# 삼성전자의 현 시세 55000 (python sam.py)\n",
    "  # 1. cmd에서 파일로 실행했을 때\n",
    "  #    삼성전자의 시세가 나오고 임포트 했을땐 아무것도 나오지 않고 대기하게 하라.\n",
    "  # 2. python sam.py '삼성전자'  ; 삼성전자에 대해 나오기\n",
    "       # python sam.py '기아'     ; 기아에 대해 나오기\n",
    "       # 대신 임포트 했을 땐 아무것도 나오지 않게 하기 !\n",
    "       # 사용을 할 땐 해당 시세를 출력할 수 있어야 한다 !"
   ]
  },
  {
   "cell_type": "code",
   "execution_count": 73,
   "id": "6ad44442-b026-4895-a256-a7895448e9ae",
   "metadata": {},
   "outputs": [],
   "source": [
    "with open(\"sam.py\",\"w\",encoding=\"utf-8\") as f:\n",
    "    data = \"\"\"\n",
    "if __name__ == \"__main__\":\n",
    "    print(f\"Samsung's market price : 55000\")\n",
    "else:\n",
    "    print('')\"\"\"\n",
    "    f.write(data)"
   ]
  },
  {
   "cell_type": "code",
   "execution_count": 64,
   "id": "33736e41-9eff-4fd2-a1b4-bca6f7707f7b",
   "metadata": {},
   "outputs": [],
   "source": [
    "with open(\"sam2.py\",\"w\",encoding=\"utf-8\") as f:\n",
    "    content =\"\"\"if __name__ == \"__main__\":\n",
    "    def marketprice():\n",
    "        com = input(\"시세를 알고 싶은 회사를 입력하세요 ! \")\n",
    "        if com == \"삼성\":\n",
    "            print(\"Samsung's marketprice is 55000\")\n",
    "        if com == \"기아\":\n",
    "            print(\"Kia's marketprice is 93000\")\n",
    "    marketprice()\n",
    "else:\n",
    "    print('')\"\"\"\n",
    "    f.write(content)"
   ]
  },
  {
   "cell_type": "code",
   "execution_count": 98,
   "id": "d4ab659b-cfd9-4ca2-8f23-e850c67ddc76",
   "metadata": {},
   "outputs": [],
   "source": [
    "with open(\"sam1.py\",\"w\",encoding=\"utf-8\") as f:\n",
    "    data = \"\"\"\n",
    "if __name__ == \"__main__\":\n",
    "    import requests as req\n",
    "    url = \"https://finance.naver.com/sise/sise_market_sum.naver\"\n",
    "    web = req.get(url)\n",
    "    html = web.text\n",
    "    f1 = html.find('삼성전자')\n",
    "    print('삼성전자 : '+html[f1:f1+100][19:50].replace('<td class=\"number\">',\"\").replace('</td>',\"\"))\n",
    "else:\n",
    "    print('')\"\"\"\n",
    "    f.write(data)"
   ]
  },
  {
   "cell_type": "code",
   "execution_count": 99,
   "id": "2c084bda-f113-46da-9014-a2ad0f7c5001",
   "metadata": {},
   "outputs": [
    {
     "name": "stdout",
     "output_type": "stream",
     "text": [
      "Microsoft Windows [Version 10.0.26100.3194]\n",
      "(c) Microsoft Corporation. All rights reserved.\n",
      "\n",
      "eh\\code>python sam1.py\n",
      "�Ｚ���� : 55,900\n",
      "\n",
      "\n",
      "d:\\keh\\code>"
     ]
    }
   ],
   "source": [
    "%%cmd\n",
    "python sam1.py"
   ]
  },
  {
   "cell_type": "code",
   "execution_count": 100,
   "id": "9550ffab-5c98-4812-84c5-7950ab132c85",
   "metadata": {},
   "outputs": [],
   "source": [
    "import sam1"
   ]
  },
  {
   "cell_type": "code",
   "execution_count": 94,
   "id": "b012492e-f4fc-4fcf-ac9a-f3d8d8cd32e7",
   "metadata": {},
   "outputs": [],
   "source": [
    "with open(\"sam3.py\",\"w\",encoding=\"utf-8\") as f:\n",
    "    content =\"\"\"\n",
    "if __name__ == \"__main__\":\n",
    "    import requests as req\n",
    "    url = \"https://finance.naver.com/sise/sise_market_sum.naver\"\n",
    "    web = req.get(url)\n",
    "    html = web.text\n",
    "    # print(html)\n",
    "    f1 = html.find('삼성전자')\n",
    "    f2 = html.find('기아')\n",
    "    def marketprice():\n",
    "        com = input(\"시세를 알고 싶은 회사를 입력하세요 ! \")\n",
    "        if com == \"삼성\":\n",
    "            print('삼성전자 : '+html[f1:f1+100][19:50].replace('<td class=\"number\">',\"\").replace('</td>',\"\"))\n",
    "        if com == \"기아\":\n",
    "            print('기아 : '+html[f2:f2+100][17:50].replace('<td class=\"number\">',\"\").replace('</td>',\"\"))\n",
    "    marketprice()\n",
    "else:\n",
    "    print('')\"\"\"\n",
    "    f.write(content)"
   ]
  },
  {
   "cell_type": "code",
   "execution_count": 96,
   "id": "bc6a13a5-c670-4f6c-a0b0-099e97c3e2eb",
   "metadata": {},
   "outputs": [
    {
     "name": "stdout",
     "output_type": "stream",
     "text": [
      "Microsoft Windows [Version 10.0.26100.3194]\n",
      "(c) Microsoft Corporation. All rights reserved.\n",
      "\n",
      "eh\\code>python sam3.py\n",
      "�ü��� �˰� ���� ȸ�縦 �Է��ϼ��� ! "
     ]
    },
    {
     "name": "stderr",
     "output_type": "stream",
     "text": [
      "Traceback (most recent call last):\n",
      "  File \"d:\\keh\\code\\sam3.py\", line 16, in <module>\n",
      "ice()arketpr\n",
      "    ~~~~~~~~~~~^^\n",
      "  File \"d:\\keh\\code\\sam3.py\", line 11, in marketprice\n",
      "���� �˰� ���� ȸ�縦 �Է��ϼ��� ! \")\n",
      "          ~~~~~^^^^^^^^^^^^^^^^^^^^^^^^^^^^^^^^^^^^^^^^^\n",
      "Error: EOF when reading a line\n"
     ]
    },
    {
     "name": "stdout",
     "output_type": "stream",
     "text": [
      "\n",
      "d:\\keh\\code>"
     ]
    }
   ],
   "source": [
    "%%cmd\n",
    "python sam3.py"
   ]
  },
  {
   "attachments": {
    "3ee7a18a-9430-4fb0-8eb9-df76ccefe004.png": {
     "image/png": "[encoded data removed]"
    }
   },
   "cell_type": "markdown",
   "id": "3d09b44f-5401-4f1b-8c2d-e98c0f913ffa",
   "metadata": {},
   "source": [
    "![image.png](attachment:3ee7a18a-9430-4fb0-8eb9-df76ccefe004.png)"
   ]
  },
  {
   "cell_type": "code",
   "execution_count": 95,
   "id": "db3cf72d-36c7-404f-a8f1-cf9db75ba228",
   "metadata": {},
   "outputs": [],
   "source": [
    "import sam3"
   ]
  },
  {
   "cell_type": "code",
   "execution_count": null,
   "id": "555e97a6-6db1-4aff-acfa-73fd1816cd8b",
   "metadata": {},
   "outputs": [],
   "source": [
    "# 해설 !  ; sam.py에\n",
    "import requests as req\n",
    "    url=\"https://finance.naver.com/sise/sise_market_sum.naver\"\n",
    "    web=req.get(url)\n",
    "    html=web.text\n",
    "\n",
    "def sam(jong = '삼성전자'):\n",
    "    f1 = html.find(jong)\n",
    "    return (f'{jong} :' +html[f1:f1+100][19:50].replace('<td class=\"number\">',\"\").replace('</td>',\"\"))\n",
    "\n",
    "if __name__=='__main__':\n",
    "    print(sam())"
   ]
  },
  {
   "cell_type": "code",
   "execution_count": 104,
   "id": "9c86d0d5-c329-4d37-9c7d-e801e7dd0d7f",
   "metadata": {},
   "outputs": [
    {
     "data": {
      "text/plain": [
       "'삼성물산 :<121,500원'"
      ]
     },
     "execution_count": 104,
     "metadata": {},
     "output_type": "execute_result"
    }
   ],
   "source": [
    "import sam해설\n",
    "sam해설.sam('삼성물산')"
   ]
  },
  {
   "cell_type": "code",
   "execution_count": null,
   "id": "6a3f47d2-a3b7-4bc5-86fe-18a3a52cd19b",
   "metadata": {},
   "outputs": [],
   "source": [
    "# beautiful soup라는 함수로 깨끗하게 원하는 것만 잡아낼 수 있다 ~"
   ]
  }
 ],
 "metadata": {
  "kernelspec": {
   "display_name": "Python 3 (ipykernel)",
   "language": "python",
   "name": "python3"
  },
  "language_info": {
   "codemirror_mode": {
    "name": "ipython",
    "version": 3
   },
   "file_extension": ".py",
   "mimetype": "text/x-python",
   "name": "python",
   "nbconvert_exporter": "python",
   "pygments_lexer": "ipython3",
   "version": "3.13.1"
  }
 },
 "nbformat": 4,
 "nbformat_minor": 5
}
