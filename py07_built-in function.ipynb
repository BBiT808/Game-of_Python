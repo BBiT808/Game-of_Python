{
 "cells": [
  {
   "cell_type": "markdown",
   "id": "7b629dc3-5298-4d55-9040-197b673106c3",
   "metadata": {},
   "source": [
    "# 내장함수"
   ]
  },
  {
   "cell_type": "code",
   "execution_count": 1,
   "id": "94d5e6bc-64e1-4078-8994-d9cd0a64f85e",
   "metadata": {},
   "outputs": [
    {
     "name": "stdout",
     "output_type": "stream",
     "text": [
      "3\n",
      "1.2\n"
     ]
    }
   ],
   "source": [
    "# abs * 중요 !\n",
    "print(abs(-3))\n",
    "print(abs(-1.2))"
   ]
  },
  {
   "cell_type": "code",
   "execution_count": 5,
   "id": "cb114d75-3065-4503-896a-795c341c7222",
   "metadata": {},
   "outputs": [
    {
     "name": "stdout",
     "output_type": "stream",
     "text": [
      "True\n",
      "False\n",
      "True\n"
     ]
    }
   ],
   "source": [
    "# all * 중요 !\n",
    "print(all([1,2,3]))\n",
    "print(all([11,22,0,44,55]))  # 하나라도 문제(false)가 생기면 멈춤 !\n",
    "print(all([]))   # 특이사항"
   ]
  },
  {
   "cell_type": "code",
   "execution_count": 12,
   "id": "bc18bbad-d5d1-4da1-9093-f4699ae6ddee",
   "metadata": {},
   "outputs": [
    {
     "name": "stdout",
     "output_type": "stream",
     "text": [
      "True\n",
      "False\n",
      "False\n"
     ]
    }
   ],
   "source": [
    "# any * 중요 !\n",
    "print(any([1,2,3,0]))\n",
    "print(any([0,\"\",[],False]))\n",
    "print(any([]))"
   ]
  },
  {
   "cell_type": "code",
   "execution_count": 27,
   "id": "1afd55a5-6110-4b1a-82af-97786842c605",
   "metadata": {},
   "outputs": [
    {
     "name": "stdout",
     "output_type": "stream",
     "text": [
      "0 1 2\n",
      "A B C\n",
      "가\n",
      "65 44032\n"
     ]
    }
   ],
   "source": [
    "print(chr(48), end=\" \")\n",
    "print(chr(49), end=\" \")\n",
    "print(chr(50), end='\\n')\n",
    "\n",
    "#아스키코드\n",
    "print(chr(65), end=\" \")\n",
    "print(chr(66), end=\" \")\n",
    "print(chr(67), end='\\n')\n",
    "\n",
    "# 유니코드 - UTF-8(인코딩 방식)\n",
    "print(chr(44032))\n",
    "\n",
    "print(ord('A'), end=\" \")\n",
    "print(ord('가'))\n"
   ]
  },
  {
   "cell_type": "code",
   "execution_count": 56,
   "id": "51568e72-4e76-4322-b9c7-c74ecda60d0b",
   "metadata": {},
   "outputs": [
    {
     "name": "stdout",
     "output_type": "stream",
     "text": [
      "['a', 'b', 'c', 'd', 'e', 'f', 'g', 'h', 'i', 'j', 'k', 'l', 'm', 'n', 'o', 'p', 'q', 'r', 's', 't', 'u', 'v', 'w', 'x', 'y', 'z']\n",
      "['z', 'y', 'x', 'w', 'v', 'u', 't', 's', 'r', 'q', 'p', 'o', 'n', 'm', 'l', 'k', 'j', 'i', 'h', 'g', 'f', 'e', 'd', 'c', 'b', 'a']\n"
     ]
    }
   ],
   "source": [
    "# 아스키코드표를 보고 A부터 Z까지 차례로 모두 출력하라.\n",
    "# 소문자 z부터 a까지 역순으로 모두 차례로 출력하라.\n",
    "\n",
    "a = []\n",
    "for n in range(97,123):\n",
    "    b = chr(n)\n",
    "    a.append(b)\n",
    "print(a)\n",
    "c = list(a)\n",
    "c.reverse()\n",
    "print(c)"
   ]
  },
  {
   "cell_type": "code",
   "execution_count": 75,
   "id": "6cdb8a31-94e3-4377-8d2f-ca7a50681b32",
   "metadata": {},
   "outputs": [
    {
     "name": "stdout",
     "output_type": "stream",
     "text": [
      "A1 A2 A3 A4 A5 A6 A7 A8 A9 A10 B1 B2 B3 B4 B5 B6 B7 B8 B9 B10 C1 C2 C3 C4 C5 C6 C7 C8 C9 C10 "
     ]
    }
   ],
   "source": [
    "# A1부터 A10까지 증가 후 B1부터 B10까지 증가 그리고 C1부터 C10까지 증가하게 하라.\n",
    " # A1, A2, A3 ...A10, B1, B2,.... B10, C1, C2,...C10\n",
    "\n",
    "for n in range(65,68):\n",
    "    for x in range(1,11):\n",
    "        print(f'{chr(n)}{x}', end =\" \")"
   ]
  },
  {
   "cell_type": "code",
   "execution_count": null,
   "id": "1c7a98c9-a2e0-4616-a7ba-4c4d82196617",
   "metadata": {},
   "outputs": [],
   "source": [
    "class Calculator :\n",
    "    def __init__(self):\n",
    "        self.result1 = 0\n",
    "        self.result2 = 1\n",
    "    def add(self,num):\n",
    "        self.result1 += num\n",
    "        return self.result1\n",
    "    def sub(self,num):\n",
    "        self.result1 -= num\n",
    "        return self.result1\n",
    "    def mult(self,num):\n",
    "        self.result2 *= num\n",
    "        return self.result2\n",
    "    def div(self,num):\n",
    "        self.result2 /= num\n",
    "        return self.result2\n",
    "        \n",
    "cal1 = Calculator()\n",
    "\n",
    "print(cal1.add(10))\n",
    "print(cal1.sub(10))\n",
    "print(cal1.mult(10))\n",
    "print(cal1.div(10))\n",
    "print(cal1.add(10))\n",
    "print(cal1.sub(10))\n",
    "print(cal1.mult(10))\n",
    "print(cal1.div(10))\n",
    "print(cal1.add(10))\n",
    "print(cal1.sub(10))\n",
    "print(cal1.mult(10))\n",
    "print(cal1.div(10))\n",
    "print(cal1.add(10))\n",
    "print(cal1.sub(10))\n",
    "print(cal1.mult(10))\n",
    "print(cal1.div(10))\n",
    "print(cal1.add(10))\n",
    "print(cal1.sub(10))\n",
    "print(cal1.mult(10))\n",
    "print(cal1.div(10))\n",
    "print(cal1.add(10))\n",
    "print(cal1.sub(10))\n",
    "print(cal1.mult(10))\n",
    "print(cal1.div(10))\n"
   ]
  },
  {
   "cell_type": "code",
   "execution_count": null,
   "id": "34d102db-450c-4c01-b167-771064473864",
   "metadata": {},
   "outputs": [],
   "source": [
    "class Calculator:\n",
    "    def __init__(self):\n",
    "        self.result1 = 0\n",
    "        self.result2 = 1\n",
    "        \n",
    "    def mult(self,num):\n",
    "        self.result2 *= num\n",
    "        return self.result2\n",
    "\n",
    "    def add(self,num):\n",
    "        self.result1 += num\n",
    "        return self.result1 \n",
    "    \n",
    "    def div(self,num):\n",
    "        self.result2 /= num\n",
    "        return self.result2\n",
    "        \n",
    "    def sub(self,num):\n",
    "        self.result1 -= num\n",
    "        return self.result1\n",
    "\n",
    "cal1 = Calculator()\n",
    "\n",
    "print(cal1.mult(2))\n",
    "print(cal1.mult(2))\n",
    "print(cal1.mult(2))\n",
    "print(cal1.mult(2))\n",
    "print(cal1.add(2))\n",
    "print(cal1.add(2))\n",
    "print(cal1.add(2))\n",
    "print(cal1.add(2))\n",
    "print(cal1.add(2))\n",
    "print(cal1.div(2))\n",
    "print(cal1.div(2))\n",
    "print(cal1.div(2))\n",
    "print(cal1.div(2))\n",
    "print(cal1.div(2))\n",
    "print(cal1.div(2))\n",
    "print(cal1.div(2))\n",
    "print(cal1.sub(2))\n",
    "print(cal1.sub(2))\n",
    "print(cal1.sub(2))\n",
    "print(cal1.sub(2))\n",
    "print(cal1.sub(2))\n",
    "print(cal1.sub(2))"
   ]
  }
 ],
 "metadata": {
  "kernelspec": {
   "display_name": "Python 3 (ipykernel)",
   "language": "python",
   "name": "python3"
  },
  "language_info": {
   "codemirror_mode": {
    "name": "ipython",
    "version": 3
   },
   "file_extension": ".py",
   "mimetype": "text/x-python",
   "name": "python",
   "nbconvert_exporter": "python",
   "pygments_lexer": "ipython3",
   "version": "3.13.1"
  }
 },
 "nbformat": 4,
 "nbformat_minor": 5
}
