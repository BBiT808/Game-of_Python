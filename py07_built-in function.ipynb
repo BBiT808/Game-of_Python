{
 "cells": [
  {
   "cell_type": "markdown",
   "id": "7b629dc3-5298-4d55-9040-197b673106c3",
   "metadata": {},
   "source": [
    "# 내장함수"
   ]
  },
  {
   "cell_type": "code",
   "execution_count": 1,
   "id": "94d5e6bc-64e1-4078-8994-d9cd0a64f85e",
   "metadata": {},
   "outputs": [
    {
     "name": "stdout",
     "output_type": "stream",
     "text": [
      "3\n",
      "1.2\n"
     ]
    }
   ],
   "source": [
    "# abs * 중요 !\n",
    "print(abs(-3))\n",
    "print(abs(-1.2))"
   ]
  },
  {
   "cell_type": "code",
   "execution_count": 5,
   "id": "cb114d75-3065-4503-896a-795c341c7222",
   "metadata": {},
   "outputs": [
    {
     "name": "stdout",
     "output_type": "stream",
     "text": [
      "True\n",
      "False\n",
      "True\n"
     ]
    }
   ],
   "source": [
    "# all * 중요 !\n",
    "print(all([1,2,3]))\n",
    "print(all([11,22,0,44,55]))  # 하나라도 문제(false)가 생기면 멈춤 !\n",
    "print(all([]))   # 특이사항"
   ]
  },
  {
   "cell_type": "code",
   "execution_count": 12,
   "id": "bc18bbad-d5d1-4da1-9093-f4699ae6ddee",
   "metadata": {},
   "outputs": [
    {
     "name": "stdout",
     "output_type": "stream",
     "text": [
      "True\n",
      "False\n",
      "False\n"
     ]
    }
   ],
   "source": [
    "# any * 중요 !\n",
    "print(any([1,2,3,0]))\n",
    "print(any([0,\"\",[],False]))\n",
    "print(any([]))"
   ]
  },
  {
   "cell_type": "code",
   "execution_count": 23,
   "id": "1afd55a5-6110-4b1a-82af-97786842c605",
   "metadata": {},
   "outputs": [
    {
     "name": "stdout",
     "output_type": "stream",
     "text": [
      "0 1 2\n",
      "A B C\n",
      "가\n",
      "65 44032\n",
      "\u001f\n"
     ]
    }
   ],
   "source": [
    "print(chr(48), end=\" \")\n",
    "print(chr(49), end=\" \")\n",
    "print(chr(50), end='\\n')\n",
    "\n",
    "#아스키코드\n",
    "print(chr(65), end=\" \")\n",
    "print(chr(66), end=\" \")\n",
    "print(chr(67), end='\\n')\n",
    "\n",
    "# 유니코드 - UTF-8(인코딩 방식)\n",
    "print(chr(44032))\n",
    "\n",
    "print(ord('A'), end=\" \")\n",
    "print(ord('가'))\n",
    "print(chr(int(hex(31)[2:],16)))    # 진수의 변형을 통한 코드 변환법 ^_^\n"
   ]
  },
  {
   "cell_type": "code",
   "execution_count": 56,
   "id": "51568e72-4e76-4322-b9c7-c74ecda60d0b",
   "metadata": {},
   "outputs": [
    {
     "name": "stdout",
     "output_type": "stream",
     "text": [
      "['a', 'b', 'c', 'd', 'e', 'f', 'g', 'h', 'i', 'j', 'k', 'l', 'm', 'n', 'o', 'p', 'q', 'r', 's', 't', 'u', 'v', 'w', 'x', 'y', 'z']\n",
      "['z', 'y', 'x', 'w', 'v', 'u', 't', 's', 'r', 'q', 'p', 'o', 'n', 'm', 'l', 'k', 'j', 'i', 'h', 'g', 'f', 'e', 'd', 'c', 'b', 'a']\n"
     ]
    }
   ],
   "source": [
    "# 아스키코드표를 보고 A부터 Z까지 차례로 모두 출력하라.\n",
    "# 소문자 z부터 a까지 역순으로 모두 차례로 출력하라.\n",
    "\n",
    "a = []\n",
    "for n in range(97,123):\n",
    "    b = chr(n)\n",
    "    a.append(b)\n",
    "print(a)\n",
    "c = list(a)\n",
    "c.reverse()\n",
    "print(c)"
   ]
  },
  {
   "cell_type": "code",
   "execution_count": 75,
   "id": "6cdb8a31-94e3-4377-8d2f-ca7a50681b32",
   "metadata": {},
   "outputs": [
    {
     "name": "stdout",
     "output_type": "stream",
     "text": [
      "A1 A2 A3 A4 A5 A6 A7 A8 A9 A10 B1 B2 B3 B4 B5 B6 B7 B8 B9 B10 C1 C2 C3 C4 C5 C6 C7 C8 C9 C10 "
     ]
    }
   ],
   "source": [
    "# A1부터 A10까지 증가 후 B1부터 B10까지 증가 그리고 C1부터 C10까지 증가하게 하라.\n",
    " # A1, A2, A3 ...A10, B1, B2,.... B10, C1, C2,...C10\n",
    "\n",
    "for n in range(65,68):\n",
    "    for x in range(1,11):\n",
    "        print(f'{chr(n)}{x}', end =\" \")"
   ]
  },
  {
   "cell_type": "code",
   "execution_count": null,
   "id": "1c7a98c9-a2e0-4616-a7ba-4c4d82196617",
   "metadata": {},
   "outputs": [],
   "source": [
    "# 팀플 class 과제 !!\n",
    "class Calculator :\n",
    "    def __init__(self):\n",
    "        self.result1 = 0\n",
    "        self.result2 = 1   # add/sub와 mult/div는 각각 다른 init으로 걸어줬다 !\n",
    "    def add(self,num):\n",
    "        self.result1 += num\n",
    "        return self.result1\n",
    "    def sub(self,num):\n",
    "        self.result1 -= num\n",
    "        return self.result1\n",
    "    def mult(self,num):\n",
    "        self.result2 *= num\n",
    "        return self.result2\n",
    "    def div(self,num):\n",
    "        self.result2 /= num\n",
    "        return self.result2\n",
    "        \n",
    "cal1 = Calculator()\n",
    "\n",
    "print(cal1.add(10))\n",
    "print(cal1.sub(10))\n",
    "print(cal1.mult(10))\n",
    "print(cal1.div(10))\n",
    "print(cal1.add(10))\n",
    "print(cal1.sub(10))\n",
    "print(cal1.mult(10))\n",
    "print(cal1.div(10))\n",
    "print(cal1.add(10))\n",
    "print(cal1.sub(10))\n",
    "print(cal1.mult(10))\n",
    "print(cal1.div(10))\n",
    "print(cal1.add(10))\n",
    "print(cal1.sub(10))\n",
    "print(cal1.mult(10))\n",
    "print(cal1.div(10))\n",
    "print(cal1.add(10))\n",
    "print(cal1.sub(10))\n",
    "print(cal1.mult(10))\n",
    "print(cal1.div(10))\n",
    "print(cal1.add(10))\n",
    "print(cal1.sub(10))\n",
    "print(cal1.mult(10))\n",
    "print(cal1.div(10))\n"
   ]
  },
  {
   "cell_type": "code",
   "execution_count": null,
   "id": "34d102db-450c-4c01-b167-771064473864",
   "metadata": {},
   "outputs": [],
   "source": [
    "class Calculator:\n",
    "    def __init__(self):\n",
    "        self.result1 = 0\n",
    "        self.result2 = 1\n",
    "        \n",
    "    def mult(self,num):\n",
    "        self.result2 *= num\n",
    "        return self.result2\n",
    "\n",
    "    def add(self,num):\n",
    "        self.result1 += num\n",
    "        return self.result1 \n",
    "    \n",
    "    def div(self,num):\n",
    "        self.result2 /= num\n",
    "        return self.result2\n",
    "        \n",
    "    def sub(self,num):\n",
    "        self.result1 -= num\n",
    "        return self.result1\n",
    "\n",
    "cal1 = Calculator()\n",
    "\n",
    "print(cal1.mult(2))\n",
    "print(cal1.mult(2))\n",
    "print(cal1.mult(2))\n",
    "print(cal1.mult(2))\n",
    "print(cal1.add(2))\n",
    "print(cal1.add(2))\n",
    "print(cal1.add(2))\n",
    "print(cal1.add(2))\n",
    "print(cal1.add(2))\n",
    "print(cal1.div(2))\n",
    "print(cal1.div(2))\n",
    "print(cal1.div(2))\n",
    "print(cal1.div(2))\n",
    "print(cal1.div(2))\n",
    "print(cal1.div(2))\n",
    "print(cal1.div(2))\n",
    "print(cal1.sub(2))\n",
    "print(cal1.sub(2))\n",
    "print(cal1.sub(2))\n",
    "print(cal1.sub(2))\n",
    "print(cal1.sub(2))\n",
    "print(cal1.sub(2))"
   ]
  },
  {
   "cell_type": "code",
   "execution_count": 1,
   "id": "82d6a4d4-5589-4d18-8c32-a7482a5ae500",
   "metadata": {},
   "outputs": [],
   "source": [
    "# 20250218 뭐!!!!!!!!! 12번째 수업이라고!!!!!!!!!!!!!!! 크아아악"
   ]
  },
  {
   "cell_type": "code",
   "execution_count": 3,
   "id": "40072ab5-29f0-41f4-9574-44aa74b1504d",
   "metadata": {},
   "outputs": [],
   "source": [
    "# dir 객체가 가지고 있는 함수(메서드)를 보여줌 ! * 중요!\n",
    "# dir([2,1,3])    ; 리스트\n",
    "# dir({'1':'a'})  ; 딕셔너리"
   ]
  },
  {
   "cell_type": "code",
   "execution_count": 4,
   "id": "2e0d1ce4-fa24-406a-a4ea-849769081845",
   "metadata": {},
   "outputs": [
    {
     "name": "stdout",
     "output_type": "stream",
     "text": [
      "(4, 1)\n",
      "4 1\n"
     ]
    }
   ],
   "source": [
    "divmod 몫과 나머지\n",
    "print(divmod(13,3))    # 튜플처럼 만들 때 유용할지도~ \n",
    "print(13//3,13%3)"
   ]
  },
  {
   "cell_type": "code",
   "execution_count": 5,
   "id": "d5bac36b-08b4-4aa0-843a-59fd25bbb77e",
   "metadata": {},
   "outputs": [
    {
     "name": "stdout",
     "output_type": "stream",
     "text": [
      "1 순위 과일은 :  apple\n",
      "2 순위 과일은 :  banana\n",
      "3 순위 과일은 :  kiwi\n",
      "4 순위 과일은 :  cherry\n",
      "5 순위 과일은 :  mango\n"
     ]
    }
   ],
   "source": [
    "# enumerate ; 열거하다  ** 매우 중요!    > 인덱스의 용도로 많이 쓰일지도~\n",
    "fruit = ['apple', 'banana', 'kiwi', 'cherry', 'mango']\n",
    "for i, f in enumerate(fruit, start =1):\n",
    "    print(i, '순위 과일은 : ', f)"
   ]
  },
  {
   "cell_type": "code",
   "execution_count": 10,
   "id": "d0ae3ab8-176c-46b6-a190-c575880f21ff",
   "metadata": {},
   "outputs": [
    {
     "data": {
      "text/plain": [
       "'A1'"
      ]
     },
     "execution_count": 10,
     "metadata": {},
     "output_type": "execute_result"
    }
   ],
   "source": [
    "# eval ; 문자열로 구성된 실행값을 리턴, 보안문제로 안 쓰는 게 좋음 !!\n",
    "eval('1+2')\n",
    "eval(\"'A'+'1'\")"
   ]
  },
  {
   "cell_type": "code",
   "execution_count": null,
   "id": "5afb8a71-78f5-4e68-804b-f349eb21ebf5",
   "metadata": {},
   "outputs": [],
   "source": [
    "# filter(함수, 이터러블)  ** 매우 중요!"
   ]
  },
  {
   "cell_type": "code",
   "execution_count": 13,
   "id": "7cd84900-a297-4a5d-8dd7-b1197591f390",
   "metadata": {},
   "outputs": [
    {
     "name": "stdout",
     "output_type": "stream",
     "text": [
      "[1, 2, 6]\n"
     ]
    }
   ],
   "source": [
    "# 양수만 판단해서 꺼내는 함수 p246\n",
    "def positive(l):\n",
    "    result = []\n",
    "    for i in l :\n",
    "        if i > 0:\n",
    "            result.append(i)\n",
    "    return result\n",
    "print(positive([1,-3,2,0,-5,6]))"
   ]
  },
  {
   "cell_type": "code",
   "execution_count": 16,
   "id": "0e1c516b-9535-490a-91fc-63dbd54a55cf",
   "metadata": {},
   "outputs": [
    {
     "name": "stdout",
     "output_type": "stream",
     "text": [
      "[1, 2, 6]\n"
     ]
    }
   ],
   "source": [
    "def pos(l):\n",
    "    return [i for i in l if i >0]\n",
    "print(pos([1,-3,2,0,-5,6]))"
   ]
  },
  {
   "cell_type": "code",
   "execution_count": 18,
   "id": "8699c5c1-41c7-4226-bff8-3c36a6aa174a",
   "metadata": {},
   "outputs": [
    {
     "data": {
      "text/plain": [
       "[1, 2, 6]"
      ]
     },
     "execution_count": 18,
     "metadata": {},
     "output_type": "execute_result"
    }
   ],
   "source": [
    "l = [1,-3,2,0,-5,6]\n",
    "def positive(x):\n",
    "    return x > 0\n",
    "list(filter(positive,l))   # true or false의 판단이 여기서 이루어진다. > 참일 때만 값을 꺼냄 !"
   ]
  },
  {
   "cell_type": "code",
   "execution_count": 20,
   "id": "0d51a5f1-3948-4721-8816-de15457edb77",
   "metadata": {},
   "outputs": [
    {
     "name": "stdout",
     "output_type": "stream",
     "text": [
      "[1, 2, 6]\n"
     ]
    }
   ],
   "source": [
    "print(list(filter(lambda x : x>0, l)))  # list 함수를 써줘야 list로 표현됨"
   ]
  },
  {
   "cell_type": "code",
   "execution_count": 21,
   "id": "bed62411-1907-4a30-b8ca-a0db1c2bee35",
   "metadata": {},
   "outputs": [
    {
     "name": "stdout",
     "output_type": "stream",
     "text": [
      "1\n",
      "2\n",
      "6\n"
     ]
    }
   ],
   "source": [
    "for n in filter(lambda x: x>0,l):  #  range(4)\n",
    "    print(n)"
   ]
  },
  {
   "cell_type": "code",
   "execution_count": 24,
   "id": "db133868-8023-4d2e-a0f8-671c84d18eaf",
   "metadata": {},
   "outputs": [
    {
     "name": "stdout",
     "output_type": "stream",
     "text": [
      "0xea\n",
      "0o11\n",
      "0b1001\n"
     ]
    }
   ],
   "source": [
    "# hex, oct, bin\n",
    "print(hex(234))\n",
    "print(oct(9))\n",
    "print(bin(9))"
   ]
  },
  {
   "cell_type": "code",
   "execution_count": 26,
   "id": "f0803ff0-1ca2-4390-8cac-90715cabdb45",
   "metadata": {},
   "outputs": [
    {
     "name": "stdout",
     "output_type": "stream",
     "text": [
      "140731923760104\n",
      "140731923760104\n",
      "140731923760104\n",
      "True\n"
     ]
    }
   ],
   "source": [
    "# id 고유 주솟값을 리턴\n",
    "a = 3\n",
    "print(id(3))\n",
    "print(id(a))\n",
    "b = a\n",
    "print(id(b))\n",
    "print(all([id(3)==id(a),id(a)==id(b),id(b)==id(3)]))   # 셋의 값이 같다 !"
   ]
  },
  {
   "cell_type": "code",
   "execution_count": 27,
   "id": "f81430cb-1401-441f-b13a-ee91b1afc582",
   "metadata": {},
   "outputs": [],
   "source": [
    "# input\n",
    "# input은 스트링(문자)으로 값을 전달받는다. 그러므로 계산시  int나 float으로 변경할 것 !"
   ]
  },
  {
   "cell_type": "code",
   "execution_count": 28,
   "id": "ab09d54a-046a-4519-8486-f632dedbc6b5",
   "metadata": {},
   "outputs": [],
   "source": [
    "# int * 중요!\n",
    "# 문자를 숫자로 변환, 정수로 변환, 소수점이 사라짐"
   ]
  },
  {
   "cell_type": "code",
   "execution_count": 31,
   "id": "d83976df-b843-4cbb-bd88-219295c620f1",
   "metadata": {},
   "outputs": [
    {
     "name": "stdout",
     "output_type": "stream",
     "text": [
      "나는 휴먼입니다.\n",
      "나는 휴먼입니다.\n",
      "True\n",
      "True\n",
      "False\n"
     ]
    }
   ],
   "source": [
    "# isinstance ; (object, class), 인스턴스 확인용\n",
    "\n",
    "class Person:\n",
    "    def p(self) :\n",
    "        return(\"나는 휴먼입니다.\")\n",
    "class Animal : pass\n",
    "a = Person()\n",
    "b = Person()\n",
    "c = Animal()\n",
    "print(a.p())\n",
    "print(b.p())\n",
    "print(isinstance(a,Person))\n",
    "print(isinstance(b,Person))\n",
    "print(isinstance(c,Person))"
   ]
  },
  {
   "cell_type": "code",
   "execution_count": 33,
   "id": "51c38b8f-7d9d-4b31-93e0-a932eb2defc3",
   "metadata": {},
   "outputs": [
    {
     "name": "stdout",
     "output_type": "stream",
     "text": [
      "6\n",
      "4\n",
      "2\n"
     ]
    }
   ],
   "source": [
    "# len **중요 !!\n",
    "print(len(\"python\"))\n",
    "print(len([1,2,3,4]))\n",
    "print(len((1,'a')))"
   ]
  },
  {
   "cell_type": "code",
   "execution_count": 34,
   "id": "208524ae-424a-4483-a3fc-a9fccb225402",
   "metadata": {},
   "outputs": [],
   "source": [
    "# list *** 매 우 중 요 !!"
   ]
  },
  {
   "cell_type": "code",
   "execution_count": 36,
   "id": "79e1168c-94bf-48af-8c01-4d92f66fc9e8",
   "metadata": {},
   "outputs": [
    {
     "name": "stdout",
     "output_type": "stream",
     "text": [
      "[2, 4, 6, 8]\n"
     ]
    }
   ],
   "source": [
    "# map  ** 매우 중요! ; 입력과 출력의 양이 같다!  cf) filter는 출력의 양이 줄어듦!\n",
    "def two_times(numberList):\n",
    "    result = []\n",
    "    for number in numberList:\n",
    "        result.append(number*2)\n",
    "    return result\n",
    "result = two_times([1,2,3,4])\n",
    "print(result)"
   ]
  },
  {
   "cell_type": "code",
   "execution_count": 46,
   "id": "931b4264-6690-4656-8dc7-77272a39052b",
   "metadata": {},
   "outputs": [
    {
     "name": "stdout",
     "output_type": "stream",
     "text": [
      "[2, 4, 6, 8]\n"
     ]
    }
   ],
   "source": [
    "def two_times(nl):\n",
    "    return [y*2 for y in nl]\n",
    "print(two_times([1,2,3,4]))"
   ]
  },
  {
   "cell_type": "code",
   "execution_count": 38,
   "id": "b87466df-1d83-4d1a-8a80-a3e8185e249a",
   "metadata": {},
   "outputs": [
    {
     "data": {
      "text/plain": [
       "[2, 4, 6, 8]"
      ]
     },
     "execution_count": 38,
     "metadata": {},
     "output_type": "execute_result"
    }
   ],
   "source": [
    "def two_times(x):\n",
    "    return x * 2\n",
    "list(map(two_times,[1,2,3,4]))"
   ]
  },
  {
   "cell_type": "code",
   "execution_count": 39,
   "id": "73f45cb2-e052-4a99-8552-ca58fdf9c7e6",
   "metadata": {},
   "outputs": [
    {
     "data": {
      "text/plain": [
       "[2, 4, 6, 8]"
      ]
     },
     "execution_count": 39,
     "metadata": {},
     "output_type": "execute_result"
    }
   ],
   "source": [
    "list(map(lambda x : x*2,[1,2,3,4]))  "
   ]
  },
  {
   "cell_type": "code",
   "execution_count": 50,
   "id": "c0f101c1-33eb-4042-a906-115eb83a510b",
   "metadata": {},
   "outputs": [
    {
     "name": "stdout",
     "output_type": "stream",
     "text": [
      "[1, 3, 5]\n",
      "[2, 4, 6]\n",
      "[11, 12, 13, 14, 15, 16]\n",
      "[1, 4, 9, 16, 25, 36]\n",
      "[11, 24, 39, 56, 75, 96]\n"
     ]
    }
   ],
   "source": [
    "# 테스트\n",
    "li = [1,2,3,4,5,6]\n",
    "\n",
    "def odd(x):\n",
    "    return x%2 !=0\n",
    "def even(x):\n",
    "    return x%2 == 0  # filter용\n",
    "\n",
    "def add(x):\n",
    "    return x + 10   # 결과값이 참/거짓이 아니기 때문에 filter를 쓰기 곤란하다.\n",
    "def mul(x):\n",
    "    return x * x\n",
    "def addmul(x):\n",
    "    return (x + 10) * x\n",
    "\n",
    "print(list(filter(odd,li)))\n",
    "print(list(filter(even,li)))\n",
    "print(list(map(add,li)))\n",
    "print(list(map(mul,li)))\n",
    "print(list(map(addmul,li)))"
   ]
  },
  {
   "cell_type": "code",
   "execution_count": 55,
   "id": "772984ea-5f87-4fe9-81e8-1ff7564e8a3a",
   "metadata": {},
   "outputs": [
    {
     "name": "stdout",
     "output_type": "stream",
     "text": [
      "234\n",
      "y\n"
     ]
    }
   ],
   "source": [
    "# max   *중요!\n",
    "print(max([1,21,4,35,12,61,234,7]))\n",
    "print(max('python'))  # 문자일 경우 유니코드 값으로 판단"
   ]
  },
  {
   "cell_type": "code",
   "execution_count": 57,
   "id": "30af90fd-dea2-4518-9d81-8078b5e30ae0",
   "metadata": {},
   "outputs": [
    {
     "name": "stdout",
     "output_type": "stream",
     "text": [
      "-1\n",
      "h\n"
     ]
    }
   ],
   "source": [
    "# min   *중요!\n",
    "print(min([1,5,3,34,76,-1,45,7]))\n",
    "print(min('python'))"
   ]
  },
  {
   "cell_type": "code",
   "execution_count": 60,
   "id": "44228bc0-ef6c-4293-a0e4-158fc8f77715",
   "metadata": {},
   "outputs": [
    {
     "data": {
      "text/plain": [
       "''"
      ]
     },
     "execution_count": 60,
     "metadata": {},
     "output_type": "execute_result"
    }
   ],
   "source": [
    "# open  *중요!\n",
    "f = open('foo.txt','r',encoding=\"utf-8\")\n",
    "f.read()"
   ]
  },
  {
   "cell_type": "code",
   "execution_count": 61,
   "id": "df269dbc-ab90-4b33-ad38-7c405f625dc8",
   "metadata": {},
   "outputs": [
    {
     "name": "stdout",
     "output_type": "stream",
     "text": [
      "32\n"
     ]
    }
   ],
   "source": [
    "# pow   *중요!     ;  x를 y 제곱한 결과값을 리턴\n",
    "print(pow(2,5))"
   ]
  },
  {
   "cell_type": "code",
   "execution_count": 63,
   "id": "c65dfbf7-1647-4573-b28d-382f66cebdbc",
   "metadata": {},
   "outputs": [
    {
     "name": "stdout",
     "output_type": "stream",
     "text": [
      "[0, 1, 2, 3, 4]\n",
      "[5, 6, 7, 8, 9]\n",
      "[5, 7, 9]\n",
      "[15, 14, 13, 12, 11]\n"
     ]
    }
   ],
   "source": [
    "# range ** 매우 중요!\n",
    "# 인수가 하나\n",
    "print(list(range(5)))\n",
    "\n",
    "# 인수가 2개\n",
    "print(list(range(5,10)))\n",
    "\n",
    "# 인수가 3개\n",
    "print(list(range(5,10,2)))\n",
    "\n",
    "# 역순(스탭조절)\n",
    "print(list(range(15,10,-1)))"
   ]
  },
  {
   "cell_type": "code",
   "execution_count": 72,
   "id": "e0718bb9-248f-4df4-af65-11847af6c66c",
   "metadata": {},
   "outputs": [
    {
     "name": "stdout",
     "output_type": "stream",
     "text": [
      "3\n",
      "3\n",
      "3.5\n",
      "3.596\n",
      "3.5496\n",
      "3.75\n"
     ]
    }
   ],
   "source": [
    "# round  *중요 !   ; 반올림\n",
    "print(round(3.45))\n",
    "print(round(3.446))\n",
    "print(round(3.495,2))    # 둘째자리에서 반올림 !\n",
    "print(round(3.5959,3))\n",
    "print(round(3.54959,4))\n",
    "print(round(3.749999,5))"
   ]
  },
  {
   "cell_type": "code",
   "execution_count": 73,
   "id": "e3f07a3d-c53c-42fc-a244-5fce7e12f2d3",
   "metadata": {},
   "outputs": [
    {
     "name": "stdout",
     "output_type": "stream",
     "text": [
      "[3, 2, 1, 4, 7, 6]\n",
      "[1, 2, 3, 4, 6, 7]\n"
     ]
    }
   ],
   "source": [
    "# sorted(iteralbe)   ; 정렬된 리스트로 값을 보여줌.\n",
    "s0 = [3,2,1,4,7,6]\n",
    "s1 = sorted(s0)\n",
    "print(s0)     # 원본이 손상되지 않음 !\n",
    "print(s1)"
   ]
  },
  {
   "cell_type": "code",
   "execution_count": 81,
   "id": "c2a91e51-55f6-44f8-90b0-8aeb3cfdd87e",
   "metadata": {},
   "outputs": [
    {
     "name": "stdout",
     "output_type": "stream",
     "text": [
      "23 <class 'int'>\n",
      "23 <class 'str'>\n"
     ]
    }
   ],
   "source": [
    "# str *중요      ; 문자열로 변환\n",
    "num= 23\n",
    "st=str(num)\n",
    "print(num,type(num))\n",
    "print(st,type(st))"
   ]
  },
  {
   "cell_type": "code",
   "execution_count": 82,
   "id": "6f96f927-bfcd-48a5-b70e-7bb19206fef3",
   "metadata": {},
   "outputs": [
    {
     "name": "stdout",
     "output_type": "stream",
     "text": [
      "15\n"
     ]
    }
   ],
   "source": [
    "# sum *중요      ; 이터러블 데이터의 합을 리턴\n",
    "print(sum([1,2,3,4,5]))"
   ]
  },
  {
   "cell_type": "code",
   "execution_count": 83,
   "id": "c5d36b90-d488-486c-a386-d74be81dde7a",
   "metadata": {},
   "outputs": [
    {
     "name": "stdout",
     "output_type": "stream",
     "text": [
      "('a', 'b', 'c')\n",
      "(1, 2, 3, 4, 5, 6)\n",
      "(1, 2, 3, 4, 5, 6)\n"
     ]
    }
   ],
   "source": [
    "# tuple  *중요 !    ; 튜플로 변환\n",
    "print(tuple(\"abc\"))\n",
    "print(tuple([1,2,3,4,5,6]))\n",
    "print(tuple((1,2,3,4,5,6)))"
   ]
  },
  {
   "cell_type": "code",
   "execution_count": 77,
   "id": "7f16c4af-52a0-4ea9-bc0e-5b523e0389ce",
   "metadata": {},
   "outputs": [
    {
     "name": "stdout",
     "output_type": "stream",
     "text": [
      "<class 'str'>\n",
      "<class 'int'>\n",
      "<class '_io.TextIOWrapper'>\n"
     ]
    }
   ],
   "source": [
    "#type **매우 중요!!    ; 자료형 확인\n",
    "print(type('abc'))\n",
    "print(type(1234))\n",
    "print(type(open(\"foo.txt\",\"r\")))     # 파일 자료형"
   ]
  },
  {
   "cell_type": "code",
   "execution_count": 80,
   "id": "5d2d4dbf-035e-4875-91f5-bd2b6b154b3f",
   "metadata": {},
   "outputs": [
    {
     "name": "stdout",
     "output_type": "stream",
     "text": [
      "11 : apple  =>  dog\n",
      "22 : banana  =>  cat\n",
      "33 : kiwi  =>  elephant\n",
      "44 : cherry  =>  lion\n",
      "55 : mango  =>  Rabbit\n"
     ]
    }
   ],
   "source": [
    "# zip    **매우 중요 !!     ;묶어서 결과값을 보여줌\n",
    "fruit = ['apple','banana',\"kiwi\",\"cherry\",'mango']\n",
    "animal = ['dog','cat','elephant','lion','Rabbit']\n",
    "num = [11,22,33,44,55]\n",
    "for f, a, n in zip(fruit, animal, num):\n",
    "    print(n, ':', f,' => ',a)"
   ]
  },
  {
   "cell_type": "markdown",
   "id": "fbc550ec-cc16-40f7-bcf0-ec8bd12dc7d5",
   "metadata": {},
   "source": [
    "# 표준 라이브러리"
   ]
  },
  {
   "cell_type": "code",
   "execution_count": 110,
   "id": "9a38a05e-f050-4d8e-9748-73081cb75640",
   "metadata": {},
   "outputs": [
    {
     "name": "stdout",
     "output_type": "stream",
     "text": [
      "2025-02-03  /  2025-07-25\n",
      "전체 수업기간 :  172 일\n",
      "남은 수업기간 :  172 일\n",
      "지난 수업기간 :  15 일\n"
     ]
    }
   ],
   "source": [
    "# 설치하지 않아도 된다 ~   ; 파이썬 내에 갖고 있는 함수들\n",
    "import datetime\n",
    "day1 = datetime.date(2025,2,3)\n",
    "day2 = datetime.date(2025,7,25)\n",
    "print(day1,\" / \",day2)    # 대시가 걸린 형식 !\n",
    "diff = day2-day1\n",
    "print(\"전체 수업기간 : \", diff.days,\"일\")\n",
    "diff2 = day2 - datetime.datetime.now().date()\n",
    "print(\"남은 수업기간 : \", diff.days,\"일\")\n",
    "print(\"지난 수업기간 : \", diff.days - diff2.days,\"일\")"
   ]
  },
  {
   "cell_type": "code",
   "execution_count": 111,
   "id": "5d5b8f74-de8d-4e3e-ab3b-e568c67fced0",
   "metadata": {},
   "outputs": [
    {
     "data": {
      "text/plain": [
       "datetime.date(2025, 2, 18)"
      ]
     },
     "execution_count": 111,
     "metadata": {},
     "output_type": "execute_result"
    }
   ],
   "source": [
    "datetime.datetime.now().date()   # .date()를 추가하여 date 타입으로 변환 ! "
   ]
  },
  {
   "cell_type": "code",
   "execution_count": 112,
   "id": "cba646bd-9466-4b93-b0c6-7def156f7bb0",
   "metadata": {},
   "outputs": [
    {
     "name": "stdout",
     "output_type": "stream",
     "text": [
      "그 날은 목요일 입니다.\n"
     ]
    },
    {
     "data": {
      "text/plain": [
       "4"
      ]
     },
     "execution_count": 112,
     "metadata": {},
     "output_type": "execute_result"
    }
   ],
   "source": [
    "days = ['월','화','수','목','금','토','일']\n",
    "day = datetime.date(2080,10,31)\n",
    "day.weekday()\n",
    "print(\"그 날은 \"+days[day.weekday()] + \"요일 입니다.\")\n",
    "\n",
    "day.isoweekday()  # cf) 1부터 시작 !!"
   ]
  },
  {
   "cell_type": "code",
   "execution_count": 113,
   "id": "aacf2c4f-666c-452e-8ceb-7d827bebf653",
   "metadata": {},
   "outputs": [],
   "source": [
    "# 숙제 (팀플숙제~)   ; 날짜 계산기 !!\n",
    " # 최근에 나온 기념일을 각자 계산하는 것? - 조원이 4명이므로 4개?\n",
    " # import 해서 쓸 수 있도록 함수를 .py로 만들기 ~\n",
    "# 1) 생일을 입력을 받으면 몇일이 지났는지, 생일날은 무슨 요일인지 계산\n",
    "# 2) 오늘부터 어린이날이 몇일 남았는지, 그날은 무슨 요일인지 계산\n",
    "# 3) 오늘부터 어버이날이 몇일 남았는지, 그날은 무슨 요일인지 계산\n",
    "# 4) 오늘부터 크리스마스가 몇일 남았는지, 그날은 무슨 요일인지 계산\n",
    "# 5) 수료 후 추석까지 몇일 남았는지 계산\n",
    "\n",
    "# 깃허브에서 작업하고 폴더 하나에 각자 py 파일로 업로드~"
   ]
  },
  {
   "cell_type": "code",
   "execution_count": 114,
   "id": "18864b47-7335-44ef-afdb-aa9b419559d2",
   "metadata": {},
   "outputs": [
    {
     "data": {
      "text/plain": [
       "'오늘부터 어린이날까지는 76일 남았으며, 어린이날은 월요일 입니다.'"
      ]
     },
     "execution_count": 114,
     "metadata": {},
     "output_type": "execute_result"
    }
   ],
   "source": [
    "import datetime\n",
    "def child():\n",
    "    cd = datetime.date(2025,5,5)\n",
    "    today = datetime.datetime.now().date()\n",
    "    diff = cd - today\n",
    "    days = ['월','화','수','목','금','토','일']\n",
    "    return f\"오늘부터 어린이날까지는 {diff.days}일 남았으며, 어린이날은 {days[cd.weekday()]}요일 입니다.\"\n",
    "child()"
   ]
  },
  {
   "cell_type": "code",
   "execution_count": 117,
   "id": "e3e09c0d-407f-4755-9e44-b8d084c34690",
   "metadata": {},
   "outputs": [
    {
     "name": "stdin",
     "output_type": "stream",
     "text": [
      "생일의 월을 입력해주세요! 10\n",
      "생일의 일을 입력해주세요! 31\n"
     ]
    },
    {
     "name": "stdout",
     "output_type": "stream",
     "text": [
      "생일까지 255일 남았고, 그 날은 금요일 입니다!\n"
     ]
    }
   ],
   "source": [
    "import 계산1\n",
    "계산1.birth()"
   ]
  },
  {
   "cell_type": "code",
   "execution_count": 118,
   "id": "d778c8b5-2837-4299-a148-a78ea89ce588",
   "metadata": {},
   "outputs": [
    {
     "data": {
      "text/plain": [
       "'오늘부터 어린이날까지는 76일 남았으며, 어린이날은 월요일 입니다.'"
      ]
     },
     "execution_count": 118,
     "metadata": {},
     "output_type": "execute_result"
    }
   ],
   "source": [
    "import 계산4\n",
    "계산4.child()"
   ]
  },
  {
   "cell_type": "code",
   "execution_count": 119,
   "id": "7d52d398-1140-452c-a3a0-41d1284d4204",
   "metadata": {},
   "outputs": [
    {
     "name": "stdout",
     "output_type": "stream",
     "text": [
      "어버이날까지 남은 날은 79 일 이고, 목요일 입니다.\n"
     ]
    }
   ],
   "source": [
    "import 계산3"
   ]
  },
  {
   "cell_type": "code",
   "execution_count": null,
   "id": "55599c46-565d-44c2-bd03-4a55abab72e4",
   "metadata": {},
   "outputs": [],
   "source": []
  }
 ],
 "metadata": {
  "kernelspec": {
   "display_name": "Python 3 (ipykernel)",
   "language": "python",
   "name": "python3"
  },
  "language_info": {
   "codemirror_mode": {
    "name": "ipython",
    "version": 3
   },
   "file_extension": ".py",
   "mimetype": "text/x-python",
   "name": "python",
   "nbconvert_exporter": "python",
   "pygments_lexer": "ipython3",
   "version": "3.13.1"
  }
 },
 "nbformat": 4,
 "nbformat_minor": 5
}
