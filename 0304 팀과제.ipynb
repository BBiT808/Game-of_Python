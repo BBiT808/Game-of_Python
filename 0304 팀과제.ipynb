{
 "cells": [
  {
   "cell_type": "code",
   "execution_count": 1,
   "id": "0b5c97e0-d338-4855-8622-943a946a7ba6",
   "metadata": {},
   "outputs": [],
   "source": [
    "# 0304 3조 팀과제 !!"
   ]
  },
  {
   "cell_type": "markdown",
   "id": "d3e005d5-9fc0-4873-89a7-515eaba2cd24",
   "metadata": {},
   "source": [
    "------------------------------------------------------\n",
    "- 연습문제 스터디 조원별로 나눠풀기"
   ]
  },
  {
   "cell_type": "code",
   "execution_count": 2,
   "id": "d6076267-5258-4406-ad0c-9af7165fc378",
   "metadata": {},
   "outputs": [],
   "source": [
    "import matplotlib\n",
    "import matplotlib.pyplot as plt\n",
    "from matplotlib import rc\n",
    "import matplotlib.font_manager as fm"
   ]
  },
  {
   "cell_type": "code",
   "execution_count": 3,
   "id": "e6fa0db2-25a7-4db1-ac41-b28a495c7dec",
   "metadata": {},
   "outputs": [
    {
     "data": {
      "text/plain": [
       "Text(0.2, 0.4, '한글')"
      ]
     },
     "execution_count": 3,
     "metadata": {},
     "output_type": "execute_result"
    },
    {
     "data": {
      "image/png": "[encoded data removed]",
      "text/plain": [
       "<Figure size 640x480 with 1 Axes>"
      ]
     },
     "metadata": {},
     "output_type": "display_data"
    }
   ],
   "source": [
    "# 윈도우용 폰트 경로 설정\n",
    "path = \"C:\\\\Windows\\\\Fonts\\\\NanumGothic.ttf\"\n",
    "font_name = fm.FontProperties(fname=path).get_name()\n",
    "rc('font',family=font_name)\n",
    "plt.text(0.2,0.4,'한글',size=100)"
   ]
  },
  {
   "cell_type": "code",
   "execution_count": 22,
   "id": "e6fbd6e4-936b-4b6f-97d2-58f39cc3eef8",
   "metadata": {},
   "outputs": [
    {
     "data": {
      "text/html": [
       "<div>\n",
       "<style scoped>\n",
       "    .dataframe tbody tr th:only-of-type {\n",
       "        vertical-align: middle;\n",
       "    }\n",
       "\n",
       "    .dataframe tbody tr th {\n",
       "        vertical-align: top;\n",
       "    }\n",
       "\n",
       "    .dataframe thead th {\n",
       "        text-align: right;\n",
       "    }\n",
       "</style>\n",
       "<table border=\"1\" class=\"dataframe\">\n",
       "  <thead>\n",
       "    <tr style=\"text-align: right;\">\n",
       "      <th></th>\n",
       "      <th>sepal_length</th>\n",
       "      <th>sepal_width</th>\n",
       "      <th>petal_length</th>\n",
       "      <th>petal_width</th>\n",
       "      <th>species</th>\n",
       "    </tr>\n",
       "  </thead>\n",
       "  <tbody>\n",
       "    <tr>\n",
       "      <th>0</th>\n",
       "      <td>5.1</td>\n",
       "      <td>3.5</td>\n",
       "      <td>1.4</td>\n",
       "      <td>0.2</td>\n",
       "      <td>Iris-setosa</td>\n",
       "    </tr>\n",
       "    <tr>\n",
       "      <th>1</th>\n",
       "      <td>4.9</td>\n",
       "      <td>3.0</td>\n",
       "      <td>1.4</td>\n",
       "      <td>0.2</td>\n",
       "      <td>Iris-setosa</td>\n",
       "    </tr>\n",
       "    <tr>\n",
       "      <th>2</th>\n",
       "      <td>4.7</td>\n",
       "      <td>3.2</td>\n",
       "      <td>1.3</td>\n",
       "      <td>0.2</td>\n",
       "      <td>Iris-setosa</td>\n",
       "    </tr>\n",
       "    <tr>\n",
       "      <th>3</th>\n",
       "      <td>4.6</td>\n",
       "      <td>3.1</td>\n",
       "      <td>1.5</td>\n",
       "      <td>0.2</td>\n",
       "      <td>Iris-setosa</td>\n",
       "    </tr>\n",
       "    <tr>\n",
       "      <th>4</th>\n",
       "      <td>5.0</td>\n",
       "      <td>3.6</td>\n",
       "      <td>1.4</td>\n",
       "      <td>0.2</td>\n",
       "      <td>Iris-setosa</td>\n",
       "    </tr>\n",
       "  </tbody>\n",
       "</table>\n",
       "</div>"
      ],
      "text/plain": [
       "   sepal_length  sepal_width  petal_length  petal_width      species\n",
       "0           5.1          3.5           1.4          0.2  Iris-setosa\n",
       "1           4.9          3.0           1.4          0.2  Iris-setosa\n",
       "2           4.7          3.2           1.3          0.2  Iris-setosa\n",
       "3           4.6          3.1           1.5          0.2  Iris-setosa\n",
       "4           5.0          3.6           1.4          0.2  Iris-setosa"
      ]
     },
     "execution_count": 22,
     "metadata": {},
     "output_type": "execute_result"
    }
   ],
   "source": [
    "import pandas as pd\n",
    "file_path = \"./data ref/IRIS.csv\"\n",
    "iris_data = pd.read_csv(file_path)\n",
    "iris_data.head()"
   ]
  },
  {
   "cell_type": "code",
   "execution_count": 25,
   "id": "5c3d346e-c7bf-4426-af4e-82b21c2af3e7",
   "metadata": {},
   "outputs": [
    {
     "name": "stdout",
     "output_type": "stream",
     "text": [
      "Index(['Iris-setosa', 'Iris-versicolor', 'Iris-virginica'], dtype='object', name='class')\n"
     ]
    }
   ],
   "source": [
    "iris_data.columns = ['sepal_length', 'sepal_width', 'petal_length', 'petal_width', 'class']\n",
    "iris_c = iris_data.groupby(['class']).sum()\n",
    "print(iris_c.index)"
   ]
  },
  {
   "cell_type": "code",
   "execution_count": 26,
   "id": "c663ce5b-9503-43c1-8d99-a2e0e622ffb4",
   "metadata": {},
   "outputs": [
    {
     "name": "stdout",
     "output_type": "stream",
     "text": [
      "3\n"
     ]
    }
   ],
   "source": [
    "print(len(iris_c.index))"
   ]
  },
  {
   "cell_type": "code",
   "execution_count": 27,
   "id": "fea6d2d3-ebf8-4297-a086-1616b561ee65",
   "metadata": {},
   "outputs": [
    {
     "name": "stdout",
     "output_type": "stream",
     "text": [
      "                 sepal_length  sepal_width  petal_length  petal_width\n",
      "class                                                                \n",
      "Iris-setosa             250.3        170.9          73.2         12.2\n",
      "Iris-versicolor         296.8        138.5         213.0         66.3\n",
      "Iris-virginica          329.4        148.7         277.6        101.3\n"
     ]
    }
   ],
   "source": [
    "print(iris_c)"
   ]
  },
  {
   "cell_type": "code",
   "execution_count": 29,
   "id": "3409afc2-9906-4e40-9ef4-1b95afdadf7a",
   "metadata": {},
   "outputs": [
    {
     "data": {
      "text/plain": [
       "sepal_length    250.3\n",
       "sepal_width     170.9\n",
       "petal_length     73.2\n",
       "petal_width      12.2\n",
       "Name: Iris-setosa, dtype: float64"
      ]
     },
     "execution_count": 29,
     "metadata": {},
     "output_type": "execute_result"
    }
   ],
   "source": [
    "iris_c.loc['Iris-setosa']"
   ]
  },
  {
   "cell_type": "code",
   "execution_count": null,
   "id": "af70575b-6003-450d-ad9b-04b0a2880f61",
   "metadata": {},
   "outputs": [],
   "source": []
  },
  {
   "cell_type": "code",
   "execution_count": null,
   "id": "558efc40-76c1-4780-a0bb-3ac8f50afef7",
   "metadata": {},
   "outputs": [],
   "source": []
  },
  {
   "cell_type": "markdown",
   "id": "a3aee7a5-724d-403f-b26b-667f16e5b942",
   "metadata": {},
   "source": [
    "___________________________\n",
    "- 연령별취업자수관계 데이터를 이용해서 팀별상의하여 의미있는 인사이트 도출하기(1가지만)"
   ]
  },
  {
   "cell_type": "code",
   "execution_count": null,
   "id": "1c1e889d-bda7-469a-8ae5-e860ac95bf80",
   "metadata": {},
   "outputs": [],
   "source": [
    "import pandas as pd\n",
    "file_path = \"./data ref/행정구역_시도__성_연령별_취업자.csv\"\n",
    "ori = pd.read_csv(file_path,encoding=\"EUC-KR\")\n",
    "ori.head()"
   ]
  },
  {
   "cell_type": "code",
   "execution_count": null,
   "id": "57fb21d1-2bd4-4f45-8d16-c5368f8e0ebf",
   "metadata": {},
   "outputs": [],
   "source": [
    "# 세종시의 인구를 미리 처리해두자 ~ : 인구수가 집계되지 않음"
   ]
  },
  {
   "cell_type": "code",
   "execution_count": null,
   "id": "ab14ed1b-a751-455a-b65b-b489344853ef",
   "metadata": {},
   "outputs": [],
   "source": [
    "ex_data = ori.copy()\n",
    "ex_data.columns = ['region','year','age','gender','value'] # 컬럼 이름 일괄 교체 !!\n",
    "ex_data.loc[ex_data['region']=='세종특별자치시','value']=ex_data.loc[ex_data['region']=='세종특별자치시','value'].replace('-',0)\n",
    "# ex_data.loc[ex_data['region']=='세종특별자치시','value']"
   ]
  },
  {
   "cell_type": "code",
   "execution_count": null,
   "id": "60c432a8-5fd2-428f-a6cc-bcbd988e6003",
   "metadata": {},
   "outputs": [],
   "source": [
    "busan_data = ex_data.loc[ex_data['region']=='부산광역시']\n",
    "busan_data"
   ]
  },
  {
   "cell_type": "code",
   "execution_count": null,
   "id": "1a3ca6d1-fdbd-49d2-a8d2-67f52a342a99",
   "metadata": {},
   "outputs": [],
   "source": [
    "busan_data['value'] = busan_data['value'].astype(int)\n",
    "busan_gen = busan_data.groupby(['region','year','gender'])['value'].sum().reset_index(name='total')\n",
    "busan_gen"
   ]
  },
  {
   "cell_type": "code",
   "execution_count": null,
   "id": "3e59dfd1-353d-4394-b721-30f97fad1ada",
   "metadata": {},
   "outputs": [],
   "source": [
    "filter_m = gen['gender']=='남자'\n",
    "filter_f= gen['gender'] =='여자'\n",
    "male = gen[filter_m]\n",
    "female = gen[filter_f]"
   ]
  },
  {
   "cell_type": "code",
   "execution_count": null,
   "id": "02ab1967-5bdf-44d1-a4d8-0e45c86d6c79",
   "metadata": {},
   "outputs": [],
   "source": [
    "plt.figure(figsize=(15,5))\n",
    "plt.plot(male['year'],male['total'],label='남자',color=\"blue\",linestyle='-', marker='o')\n",
    "plt.plot(male['year'],female['total'],label='남자',color=\"red\",linestyle='-', marker='x')\n",
    "plt.xticks(range(len(busan_data)))\n",
    "plt.xticks(busan_data['year'],rotation=45)\n",
    "plt.show()"
   ]
  },
  {
   "cell_type": "code",
   "execution_count": null,
   "id": "62d918f0-e76d-45ce-8960-ac090dd55076",
   "metadata": {},
   "outputs": [],
   "source": []
  }
 ],
 "metadata": {
  "kernelspec": {
   "display_name": "Python 3 (ipykernel)",
   "language": "python",
   "name": "python3"
  },
  "language_info": {
   "codemirror_mode": {
    "name": "ipython",
    "version": 3
   },
   "file_extension": ".py",
   "mimetype": "text/x-python",
   "name": "python",
   "nbconvert_exporter": "python",
   "pygments_lexer": "ipython3",
   "version": "3.13.1"
  }
 },
 "nbformat": 4,
 "nbformat_minor": 5
}
