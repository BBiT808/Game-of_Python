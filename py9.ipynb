{
 "cells": [
  {
   "cell_type": "code",
   "execution_count": null,
   "id": "64357f9f-6775-421a-9883-8b39eaeccc2c",
   "metadata": {},
   "outputs": [],
   "source": [
    "# 20250224 갸아아아악 16번째 수업이야 !!!!! 갸아아아아악"
   ]
  },
  {
   "cell_type": "code",
   "execution_count": null,
   "id": "912a8504-3869-4b22-9d88-9a6f95fdf1cd",
   "metadata": {},
   "outputs": [],
   "source": []
  }
 ],
 "metadata": {
  "kernelspec": {
   "display_name": "Python 3 (ipykernel)",
   "language": "python",
   "name": "python3"
  },
  "language_info": {
   "codemirror_mode": {
    "name": "ipython",
    "version": 3
   },
   "file_extension": ".py",
   "mimetype": "text/x-python",
   "name": "python",
   "nbconvert_exporter": "python",
   "pygments_lexer": "ipython3",
   "version": "3.13.1"
  }
 },
 "nbformat": 4,
 "nbformat_minor": 5
}
