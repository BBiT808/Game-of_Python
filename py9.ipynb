{
 "cells": [
  {
   "cell_type": "code",
   "execution_count": null,
   "id": "64357f9f-6775-421a-9883-8b39eaeccc2c",
   "metadata": {},
   "outputs": [],
   "source": [
    "# 20250224 갸아아아악 16번째 수업이야 !!!!! 갸아아아아악"
   ]
  },
  {
   "cell_type": "code",
   "execution_count": null,
   "id": "912a8504-3869-4b22-9d88-9a6f95fdf1cd",
   "metadata": {},
   "outputs": [],
   "source": [
    "# 오늘 한 것 - github랑 pkteam03 서버와 연결하기.\n",
    "# 텔레그램 차단당하기\n",
    "# 인증서 어쩌구 해서 들어갈 때 비밀번호 안 쳐도 되기\n",
    "# git hub에 가지 만들어서 main에 병합하다가 망하기."
   ]
  }
 ],
 "metadata": {
  "kernelspec": {
   "display_name": "Python 3 (ipykernel)",
   "language": "python",
   "name": "python3"
  },
  "language_info": {
   "codemirror_mode": {
    "name": "ipython",
    "version": 3
   },
   "file_extension": ".py",
   "mimetype": "text/x-python",
   "name": "python",
   "nbconvert_exporter": "python",
   "pygments_lexer": "ipython3",
   "version": "3.13.1"
  }
 },
 "nbformat": 4,
 "nbformat_minor": 5
}
