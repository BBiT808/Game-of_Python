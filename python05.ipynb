{
 "cells": [
  {
   "cell_type": "markdown",
   "id": "5d9617f7-b884-4513-ac63-8f667b619c87",
   "metadata": {},
   "source": [
    "# 클래스"
   ]
  },
  {
   "cell_type": "markdown",
   "id": "527450f8-5b64-4104-8ca8-a94087eaa10c",
   "metadata": {},
   "source": [
    "## 클래스 기본"
   ]
  },
  {
   "cell_type": "code",
   "execution_count": 1,
   "id": "b68c6283-e05d-4564-8273-82b60f60315c",
   "metadata": {},
   "outputs": [
    {
     "name": "stdout",
     "output_type": "stream",
     "text": [
      "[1, 2, 3, 4] <class 'list'>\n"
     ]
    }
   ],
   "source": [
    "what1 = [1,2,3,4]     # 리스트    : 기능을 아예 가지고 태어남\n",
    "what2 = ['a','b','c']     # 담고 있는 값은 다르지만 기능은 같다 !\n",
    "who = 11,22,33,44    # 튜플      : 리스트보다는 기능이 적지만 . .\n",
    "print(what,type(what))"
   ]
  },
  {
   "cell_type": "code",
   "execution_count": null,
   "id": "0a7fa2a9-4b54-4116-9cb9-bdbaa07bcea4",
   "metadata": {},
   "outputs": [],
   "source": [
    "dir(list)"
   ]
  },
  {
   "cell_type": "code",
   "execution_count": null,
   "id": "90c8b49b-a856-4d45-876c-e3a7f7f37392",
   "metadata": {},
   "outputs": [],
   "source": [
    "dir(tuple)    # list보다 기능이 작아짐 !!"
   ]
  },
  {
   "cell_type": "code",
   "execution_count": 47,
   "id": "66234f3e-53ae-46f1-82a7-768cdcc969ef",
   "metadata": {},
   "outputs": [
    {
     "name": "stdout",
     "output_type": "stream",
     "text": [
      "1: 1\n",
      "1: 2\n",
      "2: 1\n",
      "2: 2\n",
      "1: 3\n",
      "2: 3\n",
      "1: 4\n",
      "2: 4\n"
     ]
    }
   ],
   "source": [
    "# 함수로 구성\n",
    "result1 = 0\n",
    "result2 = 0\n",
    "def add1(num):\n",
    "    global result1     # global 함수는 되도록 쓰지 말자 ~\n",
    "    result1 += num     # 결괏값(result)에 입력값(num) 더하기\n",
    "    return result1    # 결괏값 리턴\n",
    "def add2(num):\n",
    "    global result2\n",
    "    result2 += num\n",
    "    return result2\n",
    "print('1:',add1(1))\n",
    "print('1:',add1(1))\n",
    "print('2:',add2(1))\n",
    "print('2:',add2(1))\n",
    "print('1:',add1(1))\n",
    "print('2:',add2(1))\n",
    "print('1:',add1(1))\n",
    "print('2:',add2(1))"
   ]
  },
  {
   "cell_type": "markdown",
   "id": "46971834-2419-43dd-8b79-8b5e1cf06269",
   "metadata": {},
   "source": [
    "클래스 (Class) :  클래스는 객체의 설계도나 청사진과 같은 개념입니다. 속성과 메서드를 정의하여 \n",
    "                  객체의 구조와 동작을 설명합니다.\n",
    "\n",
    "인스턴스 (Instance) : 클래스에 정의된 속성과 메서드를 바탕으로 생성된 실제 객체를 인스턴스라고 합니다. \n",
    "                      즉, 클래스의 구체적인 구현물입니다."
   ]
  },
  {
   "cell_type": "code",
   "execution_count": 48,
   "id": "b7a73368-2d3f-4293-9b9a-1542b2e05f58",
   "metadata": {},
   "outputs": [
    {
     "name": "stdout",
     "output_type": "stream",
     "text": [
      "3\n",
      "7\n",
      "3\n",
      "10\n"
     ]
    }
   ],
   "source": [
    "# 클래스 구성\n",
    "class Calculator :      #  함수들의 집합이 함수 자체와 이름이 같아서는 안 된다 ! (대문자 포함 ~)\n",
    "    def __init__(self):\n",
    "        self.result = 0  #  함수의 내부에서만 사용됨 !!\n",
    "    def add(self,num):        # 클래스 안의 함수는 method라 표현 됨 !!\n",
    "        self.result += num     \n",
    "        return self.result          # 붕어빵틀 같은 ~ ㅇ0ㅇ (제조할 때 넣는 속만 바꾸면 되니까~)\n",
    "\n",
    "cal1 = Calculator()    # [1,2,3,4,5]\n",
    "cal2 = Calculator()    # ['a','b']\n",
    "print(cal1.add(3))\n",
    "print(cal1.add(4))\n",
    "print(cal2.add(3))\n",
    "print(cal2.add(7))"
   ]
  },
  {
   "cell_type": "code",
   "execution_count": 49,
   "id": "31f5f4ab-2507-4c28-8fbb-570c2f922bf9",
   "metadata": {},
   "outputs": [
    {
     "name": "stdout",
     "output_type": "stream",
     "text": [
      "1\n",
      "3\n",
      "6\n",
      "10\n",
      "15\n",
      "3\n",
      "4\n",
      "5\n",
      "6\n"
     ]
    }
   ],
   "source": [
    "class Cals :\n",
    "    def __init__(self):\n",
    "        self.result = 0\n",
    "    def add(self,num):\n",
    "        self.result += num\n",
    "        return self.result\n",
    "\n",
    "cal1 = Cals()\n",
    "cal2 = Cals()\n",
    "cal3 = Cals()\n",
    "cal4 = Cals()\n",
    "cal5 = Cals()\n",
    "print(cal1.add(1))\n",
    "print(cal1.add(2))\n",
    "print(cal1.add(3))\n",
    "print(cal1.add(4))\n",
    "print(cal1.add(5))\n",
    "print(cal2.add(3))\n",
    "print(cal3.add(4))\n",
    "print(cal4.add(5))\n",
    "print(cal5.add(6))"
   ]
  },
  {
   "cell_type": "code",
   "execution_count": 22,
   "id": "5e6ac28e-5626-4924-9664-cb31f270b3d6",
   "metadata": {},
   "outputs": [
    {
     "name": "stdout",
     "output_type": "stream",
     "text": [
      "1 : 1\n",
      "2 : 1\n",
      "2 : 2\n",
      "1 : 2\n",
      "2 : 3\n",
      "1 : 3\n",
      "2 : 4 \n",
      "\n",
      "1 : 2\n",
      "2 : 3\n",
      "2 : 2\n",
      "1 : 1\n",
      "2 : 1\n",
      "2 : 0\n",
      "1 : 0\n"
     ]
    }
   ],
   "source": [
    "class Calcus:\n",
    "    def __init__(self):\n",
    "        self.result = 0\n",
    "    def add(self,num):\n",
    "        self.result += num\n",
    "        return self.result\n",
    "    def sub(self,num):\n",
    "        self.result -= num\n",
    "        return self.result\n",
    "\n",
    "#인스턴스화\n",
    "cal1 = Calcus()\n",
    "cal2 = Calcus()\n",
    "print('1 :', cal1.add(1))\n",
    "print('2 :', cal2.add(1))\n",
    "print('2 :', cal2.add(1))\n",
    "print('1 :', cal1.add(1))\n",
    "print('2 :', cal2.add(1))\n",
    "print('1 :', cal1.add(1))\n",
    "print('2 :', cal2.add(1),'\\n')\n",
    "\n",
    "print('1 :', cal1.sub(1))\n",
    "print('2 :', cal2.sub(1))\n",
    "print('2 :', cal2.sub(1))\n",
    "print('1 :', cal1.sub(1))\n",
    "print('2 :', cal2.sub(1))\n",
    "print('2 :', cal2.sub(1))\n",
    "print('1 :', cal1.sub(1))"
   ]
  },
  {
   "cell_type": "markdown",
   "id": "8e035e23-3786-45e1-b518-8f8ce3597f26",
   "metadata": {},
   "source": [
    "## 생성자"
   ]
  },
  {
   "cell_type": "code",
   "execution_count": 50,
   "id": "b71b57c7-2b45-4d58-87c5-457950f980f6",
   "metadata": {},
   "outputs": [],
   "source": [
    "# 예제 1\n",
    "class Dduk:\n",
    "    def __init__(self, won, ea):     # 초기의 뜻을 가지고 있다.\n",
    "        self.won = won     # 관례적으로 헷갈리지 않기 위해 이름을 똑같이 씀 !!\n",
    "        self.ea = ea\n",
    "    def dduk(self):\n",
    "        result = self.won * self.ea\n",
    "        print(f\"배가 고파서 떡볶이집에서 떡볶이를 {result}원어치 먹었다.\")\n",
    "    def odeng(self):\n",
    "        result = self.won * 2 * self.ea\n",
    "        print(f\"배가 고파서 떡볶이집에서 오뎅을 {result}원어치 먹었다.\")"
   ]
  },
  {
   "cell_type": "code",
   "execution_count": 25,
   "id": "acbcbc98-ddaa-4b5a-a998-17ade6946dd0",
   "metadata": {},
   "outputs": [],
   "source": [
    "성훈 = Dduk(2000,3)\n",
    "희성 = Dduk(3000,2)\n",
    "기윤 = Dduk(1500,6)"
   ]
  },
  {
   "cell_type": "code",
   "execution_count": 30,
   "id": "59521613-48f8-4b23-8b21-6ee3b7bec94e",
   "metadata": {},
   "outputs": [
    {
     "name": "stdout",
     "output_type": "stream",
     "text": [
      "배가 고파서 떡볶이집에서 떡볶이를 6000원어치 먹었다.\n",
      "배가 고파서 떡볶이집에서 오뎅을 12000원어치 먹었다.\n"
     ]
    }
   ],
   "source": [
    "성훈.dduk()\n",
    "성훈.odeng()"
   ]
  },
  {
   "cell_type": "code",
   "execution_count": 31,
   "id": "119a1822-c011-48e4-90b2-dab54e730db3",
   "metadata": {},
   "outputs": [
    {
     "name": "stdout",
     "output_type": "stream",
     "text": [
      "배가 고파서 떡볶이집에서 떡볶이를 6000원어치 먹었다.\n",
      "배가 고파서 떡볶이집에서 오뎅을 12000원어치 먹었다.\n"
     ]
    }
   ],
   "source": [
    "희성.dduk()\n",
    "희성.odeng()"
   ]
  },
  {
   "cell_type": "code",
   "execution_count": 32,
   "id": "c2f13c2b-d291-45b7-818d-c27849eeaa85",
   "metadata": {},
   "outputs": [
    {
     "name": "stdout",
     "output_type": "stream",
     "text": [
      "배가 고파서 떡볶이집에서 떡볶이를 9000원어치 먹었다.\n",
      "배가 고파서 떡볶이집에서 오뎅을 18000원어치 먹었다.\n"
     ]
    }
   ],
   "source": [
    "기윤.dduk()\n",
    "기윤.odeng()"
   ]
  },
  {
   "cell_type": "code",
   "execution_count": 42,
   "id": "594bc3a2-a98a-499d-847a-d7edf1fde2d2",
   "metadata": {},
   "outputs": [],
   "source": [
    "성훈.__init__(3300,2)"
   ]
  },
  {
   "cell_type": "code",
   "execution_count": 43,
   "id": "0178c405-b6ff-4cb3-93d0-15d73d064876",
   "metadata": {},
   "outputs": [
    {
     "name": "stdout",
     "output_type": "stream",
     "text": [
      "배가 고파서 떡볶이집에서 떡볶이를 6600원어치 먹었다.\n",
      "배가 고파서 떡볶이집에서 오뎅을 13200원어치 먹었다.\n"
     ]
    }
   ],
   "source": [
    "성훈.dduk()\n",
    "성훈.odeng()"
   ]
  },
  {
   "cell_type": "code",
   "execution_count": null,
   "id": "aa2166ba-f3db-4d77-8715-a18bb8744a76",
   "metadata": {},
   "outputs": [],
   "source": [
    "# sundae / 길동.Duck(먹고싶은만큼, )\n",
    "# 길동.__init__( , )"
   ]
  },
  {
   "cell_type": "code",
   "execution_count": 34,
   "id": "d0275e68-b302-4cc6-bee4-3a6385c8ec56",
   "metadata": {},
   "outputs": [],
   "source": [
    "class Dduk:\n",
    "    def __init__(self, won, ea):     # 초기의 뜻을 가지고 있다.\n",
    "        self.won = won\n",
    "        self.ea = ea\n",
    "    def dduk(self):\n",
    "        result = self.won * self.ea\n",
    "        print(f\"배가 고파서 떡볶이집에서 떡볶이를 {result}원어치 먹었다.\")\n",
    "    def odeng(self):\n",
    "        result = self.won * 2 * self.ea\n",
    "        print(f\"배가 고파서 떡볶이집에서 오뎅을 {result}원어치 먹었다.\")\n",
    "    def sundae(self):\n",
    "        result = self.won * self.ea\n",
    "        print(f\"배가 고파서 떡볶이집에서 순대를 {result}원어치 먹었다.\")"
   ]
  },
  {
   "cell_type": "code",
   "execution_count": 39,
   "id": "0e61ffb6-4b6b-4071-812a-f651f6a97399",
   "metadata": {},
   "outputs": [],
   "source": [
    "은희 = Dduk(5000,3)"
   ]
  },
  {
   "cell_type": "code",
   "execution_count": 40,
   "id": "042a5626-d798-4943-93de-4f8e730d2386",
   "metadata": {},
   "outputs": [
    {
     "name": "stdout",
     "output_type": "stream",
     "text": [
      "배가 고파서 떡볶이집에서 떡볶이를 15000원어치 먹었다.\n",
      "배가 고파서 떡볶이집에서 오뎅을 30000원어치 먹었다.\n",
      "배가 고파서 떡볶이집에서 순대를 15000원어치 먹었다.\n"
     ]
    }
   ],
   "source": [
    "은희.dduk()\n",
    "은희.odeng()\n",
    "은희.sundae()"
   ]
  },
  {
   "cell_type": "code",
   "execution_count": 44,
   "id": "8857344f-5992-4ff3-aa80-3f320b516d60",
   "metadata": {},
   "outputs": [],
   "source": [
    "은희.__init__(5500,2)"
   ]
  },
  {
   "cell_type": "code",
   "execution_count": 45,
   "id": "e7b8283d-cdd0-4a8b-8e09-9b736ad091f8",
   "metadata": {},
   "outputs": [
    {
     "name": "stdout",
     "output_type": "stream",
     "text": [
      "배가 고파서 떡볶이집에서 떡볶이를 11000원어치 먹었다.\n",
      "배가 고파서 떡볶이집에서 오뎅을 22000원어치 먹었다.\n",
      "배가 고파서 떡볶이집에서 순대를 11000원어치 먹었다.\n"
     ]
    }
   ],
   "source": [
    "은희.dduk()\n",
    "은희.odeng()\n",
    "은희.sundae()"
   ]
  },
  {
   "cell_type": "markdown",
   "id": "59606cce-38e5-4809-81fb-5e558773d7bb",
   "metadata": {},
   "source": [
    "## 예제들"
   ]
  },
  {
   "cell_type": "code",
   "execution_count": 65,
   "id": "87421f56-b6d5-4494-8007-de500850478b",
   "metadata": {},
   "outputs": [
    {
     "name": "stdout",
     "output_type": "stream",
     "text": [
      "방가방가 저는 고전 인사입니다 !!\n",
      "=+==+==+==+==+==+==+==+==+==+==+==+==+==+==+==+==+==+==+==+=\n",
      "\n",
      "이것은 예로부터 전해 오는 .. 고전 인사함수 입니다.\n",
      "\n",
      "=+==+==+==+==+==+==+==+==+==+==+==+==+==+==+==+==+==+==+==+=\n",
      "Help on function test in module __main__:\n",
      "\n",
      "test()\n",
      "    이것은 예로부터 전해 오는 .. 고전 인사함수 입니다.\n",
      "\n"
     ]
    }
   ],
   "source": [
    "# 테스트 1\n",
    "def test():\n",
    "    # ↆↆ 함수 내부에서 설명을 하는 아이 ~ ; DocString\n",
    "    \"\"\"    \n",
    "    이것은 예로부터 전해 오는 .. 고전 인사함수 입니다.\n",
    "    \"\"\"\n",
    "    print(\"방가방가 저는 고전 인사입니다 !!\")\n",
    "test()\n",
    "print(\"=+=\"*20)\n",
    "print(test.__doc__)   # ;  t설명서를 볼 수 있다 !! 헉 신기해~\n",
    "print(\"=+=\"*20)\n",
    "help(test)"
   ]
  },
  {
   "cell_type": "code",
   "execution_count": null,
   "id": "d8e91abc-0991-468d-9ba6-4b9f77a272d7",
   "metadata": {},
   "outputs": [],
   "source": [
    "dir(test)"
   ]
  },
  {
   "cell_type": "code",
   "execution_count": 76,
   "id": "709f9f28-849b-450e-aece-f92ae840858e",
   "metadata": {},
   "outputs": [],
   "source": [
    "# 테스트 2\n",
    "# class의 self 없이 함수 만들기  ; 함수 안에 함수 넣기 ~!\n",
    "def set_car(name, color):\n",
    "    return {\"name\":name,\"color\":color}\n",
    "\n",
    "def get_car_info(car):\n",
    "    return f\"Car : {car['name']}, Color : {car['color']}\""
   ]
  },
  {
   "cell_type": "code",
   "execution_count": 79,
   "id": "998a9388-046e-4a0f-950d-a950ddbfb129",
   "metadata": {},
   "outputs": [
    {
     "name": "stdout",
     "output_type": "stream",
     "text": [
      "{'name': 'HD', 'color': 'Blue'}\n",
      "Car : HD, Color : Blue\n"
     ]
    }
   ],
   "source": [
    "# 자동차글 생성\n",
    "Car = set_car(\"HD\",\"Blue\")\n",
    "print(Car)\n",
    "# 자동차 정보를 생성\n",
    "print(get_car_info(Car))"
   ]
  },
  {
   "cell_type": "code",
   "execution_count": 80,
   "id": "208a048a-c4c3-4a60-9471-48122e2572be",
   "metadata": {},
   "outputs": [
    {
     "name": "stdout",
     "output_type": "stream",
     "text": [
      "Car : Kia, Color : White\n"
     ]
    }
   ],
   "source": [
    "print(get_car_info(set_car(\"Kia\",\"White\")))"
   ]
  },
  {
   "cell_type": "code",
   "execution_count": null,
   "id": "d9862554-e570-458f-95ae-4fbeddfa989c",
   "metadata": {},
   "outputs": [],
   "source": [
    "# 객체(object) 지향 : 객체를 만들어서 . . (self가 들어가야 객체 지향에 가까움); class가 기반!\n",
    " # 인스턴스"
   ]
  },
  {
   "cell_type": "code",
   "execution_count": 120,
   "id": "405b51a6-529b-469f-bd4a-2ecc686c90cc",
   "metadata": {},
   "outputs": [
    {
     "name": "stdout",
     "output_type": "stream",
     "text": [
      "Car : HD, Color : Yellow\n",
      "Car : Kia, Color : Black\n"
     ]
    }
   ],
   "source": [
    "# 테스트 3\n",
    "class Car:\n",
    "    def set_car(name, color):\n",
    "        return {\"name\":name,\"color\":color}\n",
    "    def get_car_info(car):\n",
    "        return f\"Car : {car['name']}, Color : {car['color']}\"\n",
    "\n",
    "car1 = Car.set_car(\"HD\",\"Yellow\")\n",
    "car2 = Car.set_car(\"Kia\",\"Black\")\n",
    "print(Car.get_car_info(car1))\n",
    "print(Car.get_car_info(car2))"
   ]
  },
  {
   "cell_type": "code",
   "execution_count": null,
   "id": "474aac68-765e-4e34-85fb-cd4bdd26ec59",
   "metadata": {},
   "outputs": [],
   "source": [
    "# 테스트 4\n",
    "class Car:\n",
    "    def __init__(self,name,color): # 생성자\n",
    "        self.name = name\n",
    "        self.color = color\n",
    "    def get_car_info(self):\n",
    "        return f\"Car : {self.name}, Color : {self.color}\"\n",
    "\n",
    "car1 = Car(\"HD\",\"Black\")\n",
    "car2 = Car(\"Kia\",\"Silver\")\n",
    "\n",
    "print(car1.get_car_info())\n",
    "print(car2.get_car_info())"
   ]
  },
  {
   "cell_type": "code",
   "execution_count": 159,
   "id": "6f026feb-419d-486c-83ad-b6dff1385f6d",
   "metadata": {},
   "outputs": [],
   "source": [
    "# 테스트 5\n",
    "class Car:\n",
    "    def __init__(self,name,color): # 생성자\n",
    "        self.name = name\n",
    "        self.color = color\n",
    "        self.speed = 0     # 내부에서 쓸 변수  ; 초기값 0\n",
    "    def get_car_info(self):\n",
    "        return f\"Car : {self.name}, Color : {self.color}\"\n",
    "    def acc(self, amount):   # self는 무조건 전달자로써 넣어줘야 한다 !!!\n",
    "        self.speed += amount   # 속도가 증가\n",
    "        return f\"🚨{self.color}색 {self.name}차 속도 올려요🚨. 현재 속도는 {self.speed}Km/h !\""
   ]
  },
  {
   "cell_type": "code",
   "execution_count": 160,
   "id": "ad9651cb-c423-4c21-8391-683c164e3b5a",
   "metadata": {},
   "outputs": [
    {
     "name": "stdout",
     "output_type": "stream",
     "text": [
      "Car : HD, Color : Black\n",
      "Car : Kia, Color : Silver\n"
     ]
    }
   ],
   "source": [
    "car1 = Car(\"HD\",\"Black\")\n",
    "car2 = Car(\"Kia\",\"Silver\")\n",
    "print(car1.get_car_info())\n",
    "print(car2.get_car_info())"
   ]
  },
  {
   "cell_type": "code",
   "execution_count": 161,
   "id": "869dfcbd-dbeb-4fda-abff-530605b2f615",
   "metadata": {},
   "outputs": [
    {
     "name": "stdout",
     "output_type": "stream",
     "text": [
      "🚨Black색 HD차 속도 올려요🚨. 현재 속도는 30Km/h !\n",
      "🚨Silver색 Kia차 속도 올려요🚨. 현재 속도는 50Km/h !\n"
     ]
    }
   ],
   "source": [
    "print(car1.acc(30))\n",
    "print(car2.acc(50))"
   ]
  },
  {
   "cell_type": "code",
   "execution_count": 162,
   "id": "a90f94c9-2185-4f4c-815a-77b3603a9fda",
   "metadata": {},
   "outputs": [
    {
     "name": "stdout",
     "output_type": "stream",
     "text": [
      "🚨Black색 HD차 속도 올려요🚨. 현재 속도는 40Km/h !\n",
      "가속 페달 밟는 중 . . 🚗💨\n",
      "🚨Black색 HD차 속도 올려요🚨. 현재 속도는 50Km/h !\n",
      "가속 페달 밟는 중 . . 🚗💨\n",
      "🚨Black색 HD차 속도 올려요🚨. 현재 속도는 60Km/h !\n",
      "가속 페달 밟는 중 . . 🚗💨\n",
      "🚨Black색 HD차 속도 올려요🚨. 현재 속도는 70Km/h !\n",
      "가속 페달 밟는 중 . . 🚗💨\n",
      "🚨Black색 HD차 속도 올려요🚨. 현재 속도는 80Km/h !\n",
      "가속 페달 밟는 중 . . 🚗💨\n",
      "90Km/h 속도 유지중. . . 😎\n"
     ]
    }
   ],
   "source": [
    "import time as t\n",
    "for n in range(5):\n",
    "    print(car1.acc(10))\n",
    "    t.sleep(1)\n",
    "    print(\"가속 페달 밟는 중 . . 🚗💨\")\n",
    "    t.sleep(1)\n",
    "print(\"90Km/h 속도 유지중. . . 😎\")"
   ]
  },
  {
   "cell_type": "code",
   "execution_count": null,
   "id": "08f1e803-c1c8-40d7-a7ad-393b35b8920e",
   "metadata": {},
   "outputs": [],
   "source": []
  }
 ],
 "metadata": {
  "kernelspec": {
   "display_name": "Python 3 (ipykernel)",
   "language": "python",
   "name": "python3"
  },
  "language_info": {
   "codemirror_mode": {
    "name": "ipython",
    "version": 3
   },
   "file_extension": ".py",
   "mimetype": "text/x-python",
   "name": "python",
   "nbconvert_exporter": "python",
   "pygments_lexer": "ipython3",
   "version": "3.13.1"
  }
 },
 "nbformat": 4,
 "nbformat_minor": 5
}
