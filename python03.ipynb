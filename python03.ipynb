{
 "cells": [
  {
   "cell_type": "code",
   "execution_count": 18,
   "id": "9a37380a-1c5c-4568-b8b1-2b879eb748fb",
   "metadata": {},
   "outputs": [],
   "source": [
    "# 모든 명령어들은 (){} 와 같은 형식\n",
    "  # if (){}   ; 제어문        > if : 로 바뀜(파이썬에서) / 괄호 대신 들여쓰기로 구분한다.\n",
    "  # for(){}   ; 반복문        > for : 로 바뀜\n",
    "  # While(){} ; 반복문        > while : 로 바뀜"
   ]
  },
  {
   "cell_type": "markdown",
   "id": "7eb36c52-95e9-4534-9f7e-cc37694bf4bc",
   "metadata": {},
   "source": [
    "# 제어문"
   ]
  },
  {
   "cell_type": "markdown",
   "id": "615becae-0fed-4082-8ce4-3d077d2b8aad",
   "metadata": {},
   "source": [
    "## if 문"
   ]
  },
  {
   "cell_type": "code",
   "execution_count": null,
   "id": "0dbeaa7e-8bf2-494d-89aa-9dcc445f14a1",
   "metadata": {},
   "outputs": [],
   "source": [
    "# else if = elif :   ** 심문한다 생각하자.\n",
    "# else = else :\n",
    "\n",
    "# ex1 ) if 배고픈 사람 ?? \n",
    "#      else > 나머지\n",
    "\n",
    "# ex2) if 서있는 사람 ??  > elif 누워있는사람 ?? > elif ..\n",
    "#    **else : 그 외엔 다 나가 \n",
    "\n",
    "# ex3) if 일찍 갈 사람 :    / if 화장실 갈 사람 :   ; 전체 중에서\n",
    "#      elif ; 계속 파고 드는 질문 > 일찍 갈 사람? 그럼 남은 사람 중에 화장실 갈 사람? 그럼 ..."
   ]
  },
  {
   "cell_type": "code",
   "execution_count": 7,
   "id": "47e4acd9-9a85-417b-b570-406a48eb68c5",
   "metadata": {},
   "outputs": [
    {
     "name": "stdout",
     "output_type": "stream",
     "text": [
      "택시를\n",
      "타고\n",
      "가라\n"
     ]
    }
   ],
   "source": [
    "# 줄맞춤이 중요하다!  ** 콜론(:) 빼먹지 말 것 !!\n",
    "if True:\n",
    "    print(\"택시를\")\n",
    "    print(\"타고\")\n",
    "    print(\"가라\")"
   ]
  },
  {
   "cell_type": "code",
   "execution_count": 1,
   "id": "88b50650-6055-4830-93d7-99c78d69d20f",
   "metadata": {},
   "outputs": [
    {
     "name": "stdout",
     "output_type": "stream",
     "text": [
      "항상 동작합니다 !\n",
      "5가 큽니다\n",
      "동작할까요?\n",
      "동작할까요? 😎\n"
     ]
    }
   ],
   "source": [
    "if True :   # enter 쳤을 때 4칸을 자동으로 띄우게 됨. (Tab키 눌러도 4칸 띄워짐)\n",
    "    print(\"항상 동작합니다 !\")\n",
    "if False :   \n",
    "    print(\"이건 동작할까요 ?\")   # if문에서 참(1)일 때만 값을 내어놓음.\n",
    "if 5>2 :\n",
    "    print(\"5가 큽니다\")\n",
    "if 4 > 10 :\n",
    "    print(\"나올까요?\")\n",
    "if \" \" :\n",
    "    print(\"동작할까요?\")\n",
    "if \"\" :\n",
    "    print(\"동작할까요? 😀\")\n",
    "if [] :\n",
    "    print(\"동작할까요? 🤨\")\n",
    "if [1,3] :\n",
    "    print(\"동작할까요? 😎\")"
   ]
  },
  {
   "cell_type": "code",
   "execution_count": null,
   "id": "608e2279-4bc4-4f46-a539-c338f766af27",
   "metadata": {},
   "outputs": [],
   "source": [
    "if True:\n",
    "    print(\"택시를\")\n",
    "print(\"타고\")\n",
    "    print(\"가라\")\n",
    "# Shift + Tab 하면 문장을 앞으로 옮길 수 있음.    "
   ]
  },
  {
   "attachments": {
    "bed6996c-b364-4c25-8c0f-01edbe5dd9f4.png": {
     "image/png": "[encoded data removed]"
    }
   },
   "cell_type": "markdown",
   "id": "5a0944aa-4aa0-4163-ab7c-aca05003876b",
   "metadata": {},
   "source": [
    "![image.png](attachment:bed6996c-b364-4c25-8c0f-01edbe5dd9f4.png)"
   ]
  },
  {
   "cell_type": "code",
   "execution_count": 9,
   "id": "6dd3f83d-1c0d-4ffc-b1de-d940a26102ac",
   "metadata": {},
   "outputs": [
    {
     "name": "stdout",
     "output_type": "stream",
     "text": [
      "가라\n"
     ]
    }
   ],
   "source": [
    "if False:\n",
    "    print(\"택시를\")\n",
    "    print(\"타고\")\n",
    "print(\"가라\")"
   ]
  },
  {
   "cell_type": "code",
   "execution_count": null,
   "id": "125ddfd0-c46c-4333-890f-4efe849c52de",
   "metadata": {},
   "outputs": [],
   "source": [
    "if False:\n",
    "    print(\"택시를\")\n",
    "        print(\"타고\")\n",
    "    print(\"가라\")"
   ]
  },
  {
   "attachments": {
    "c8648cc7-de69-4265-a14f-0e77d400fea1.png": {
     "image/png": "[encoded data removed]"
    }
   },
   "cell_type": "markdown",
   "id": "eab64a3f-57e6-4219-8fe7-6cdfff35f818",
   "metadata": {},
   "source": [
    "![image.png](attachment:c8648cc7-de69-4265-a14f-0e77d400fea1.png)"
   ]
  },
  {
   "cell_type": "code",
   "execution_count": 13,
   "id": "e4a243cc-d07a-47de-89aa-da2efeebe3ba",
   "metadata": {},
   "outputs": [
    {
     "name": "stdin",
     "output_type": "stream",
     "text": [
      "얼마 가지고 있습니까 ? 2800\n"
     ]
    },
    {
     "name": "stdout",
     "output_type": "stream",
     "text": [
      "걸어가세요.\n"
     ]
    }
   ],
   "source": [
    "mymoney = int(input('얼마 가지고 있습니까 ?'))   # input은 무조건 문자로 받으므로 숫자로 변환해줌 !\n",
    "if mymoney >= 3000 :\n",
    "    print('택시를 타고 가세요.')\n",
    "if mymoney < 3000 :\n",
    "    print('걸어가세요.')"
   ]
  },
  {
   "cell_type": "code",
   "execution_count": 16,
   "id": "f27dc850-6e99-4dd9-8bf7-5eb6c06b5eb8",
   "metadata": {},
   "outputs": [
    {
     "name": "stdin",
     "output_type": "stream",
     "text": [
      "얼마 가지고 있습니까 ? 5000\n"
     ]
    },
    {
     "name": "stdout",
     "output_type": "stream",
     "text": [
      "택시를 타고 가세요.\n"
     ]
    }
   ],
   "source": [
    "mymoney = int(input('얼마 가지고 있습니까 ?'))   # input은 무조건 문자로 받으므로 숫자로 변환해줌 !\n",
    "if mymoney >= 3000 :\n",
    "    print('택시를 타고 가세요.')\n",
    "else :\n",
    "    print('걸어가세요.')"
   ]
  },
  {
   "cell_type": "code",
   "execution_count": null,
   "id": "e50c0c42-4f08-4e87-917f-b2b0f35879ab",
   "metadata": {},
   "outputs": [],
   "source": [
    "# and, or, not"
   ]
  },
  {
   "cell_type": "code",
   "execution_count": 8,
   "id": "cfe26706-3657-4157-8a40-057fc9b803a0",
   "metadata": {},
   "outputs": [
    {
     "name": "stdout",
     "output_type": "stream",
     "text": [
      "===== and 연산 =====\n",
      "True\n",
      "False\n",
      "False\n",
      "False\n",
      "===== or 연산 =====\n",
      "True\n",
      "True\n",
      "True\n",
      "False\n",
      "===== not 연산 =====\n",
      "True\n",
      "False\n",
      "True\n"
     ]
    }
   ],
   "source": [
    "print(\"===== and 연산 =====\")\n",
    "print(True and True)\n",
    "print(True and False)\n",
    "print(False and True)\n",
    "print(False and False)\n",
    "print(\"===== or 연산 =====\")\n",
    "print(True or True)\n",
    "print(True or False)\n",
    "print(False or True)\n",
    "print(False or False)\n",
    "print(\"===== not 연산 =====\")\n",
    "print(True)\n",
    "print(not True)\n",
    "print(not False)"
   ]
  },
  {
   "cell_type": "code",
   "execution_count": 9,
   "id": "8db29725-3075-45c6-8405-bf8e0a12e190",
   "metadata": {},
   "outputs": [
    {
     "name": "stdout",
     "output_type": "stream",
     "text": [
      "만납시다\n"
     ]
    }
   ],
   "source": [
    "이상형 = True\n",
    "똑똑 = True\n",
    "\n",
    "if 이상형 and 똑똑:\n",
    "    print(\"만납시다\")"
   ]
  },
  {
   "cell_type": "code",
   "execution_count": 16,
   "id": "cb51f3e4-0a11-4c00-a202-d0c22ee1f4a4",
   "metadata": {},
   "outputs": [
    {
     "name": "stdout",
     "output_type": "stream",
     "text": [
      "그렇군요 ..\n"
     ]
    }
   ],
   "source": [
    "이상형 = True\n",
    "똑똑 = False\n",
    "\n",
    "if 이상형 and 똑똑:   # 둘 다 반드시\n",
    "    print(\"만납시다\")\n",
    "else:\n",
    "    print(\"그렇군요 ..\")"
   ]
  },
  {
   "cell_type": "code",
   "execution_count": 15,
   "id": "78b4397e-db72-434d-9426-8097ae51436f",
   "metadata": {},
   "outputs": [
    {
     "name": "stdout",
     "output_type": "stream",
     "text": [
      "만납시다\n"
     ]
    }
   ],
   "source": [
    "이상형 = False\n",
    "다정 = True\n",
    "\n",
    "if 이상형 or 다정:    # 둘 중 하나\n",
    "    print(\"만납시다\")\n",
    "else:\n",
    "    print(\"그렇군요 ..\")"
   ]
  },
  {
   "cell_type": "code",
   "execution_count": 18,
   "id": "ff7f39e1-b0df-4638-b4ba-6ad035716731",
   "metadata": {},
   "outputs": [
    {
     "name": "stdout",
     "output_type": "stream",
     "text": [
      "잘가요\n"
     ]
    }
   ],
   "source": [
    "주사 = True\n",
    "if not 주사: \n",
    "    print(\"만나요\")\n",
    "else:\n",
    "    print(\"잘가요\")"
   ]
  },
  {
   "cell_type": "code",
   "execution_count": 38,
   "id": "628997c1-f76e-4649-8870-2c261fc61742",
   "metadata": {},
   "outputs": [
    {
     "name": "stdout",
     "output_type": "stream",
     "text": [
      "오늘은 월요일입니다.\n",
      "금요일에 시간 어때요 ?\n"
     ]
    }
   ],
   "source": [
    "# 1\n",
    "import random\n",
    "요일 = [\"월요일\", \"화요일\", \"수요일\", \"목요일\", \"금요일\", \"토요일\", \"일요일\"]\n",
    "오늘 = random.choice(요일)\n",
    "print(f'오늘은 {오늘}입니다.')\n",
    "if 오늘 == \"금요일\" :\n",
    "    print(\"좋아요 !\")\n",
    "else :\n",
    "    print(\"금요일에 시간 어때요 ?\")"
   ]
  },
  {
   "cell_type": "code",
   "execution_count": 5,
   "id": "9c61aa2d-4519-49b6-80d1-80770afafe5b",
   "metadata": {},
   "outputs": [
    {
     "name": "stdin",
     "output_type": "stream",
     "text": [
      "요일을 입력하세요. 금요일\n"
     ]
    },
    {
     "name": "stdout",
     "output_type": "stream",
     "text": [
      "좋아요 !\n"
     ]
    }
   ],
   "source": [
    "# 2\n",
    "오늘 = input(\"요일을 입력하세요.\")\n",
    "if not 오늘 in [\"월요일\", \"화요일\", \"수요일\", \"목요일\", \"금요일\", \"토요일\", \"일요일\"]:\n",
    "    print(\"다시 입력하세요.\")\n",
    "elif 오늘 == \"금요일\" :\n",
    "    print(\"좋아요 !\")\n",
    "else :\n",
    "    print(\"금요일에 시간 어때요 ?\")"
   ]
  },
  {
   "cell_type": "code",
   "execution_count": 19,
   "id": "5824789f-bd46-49f7-b09e-8a1735a20f17",
   "metadata": {},
   "outputs": [
    {
     "name": "stdout",
     "output_type": "stream",
     "text": [
      "걸어가라\n"
     ]
    }
   ],
   "source": [
    "money = 2000\n",
    "if money >= 3000:\n",
    "    print(\"택시를 타고 가라\")\n",
    "else:\n",
    "    print(\"걸어가라\")"
   ]
  },
  {
   "cell_type": "code",
   "execution_count": 20,
   "id": "956b8b86-2be5-4db2-984d-1f72e94d1d80",
   "metadata": {},
   "outputs": [
    {
     "name": "stdout",
     "output_type": "stream",
     "text": [
      "택시를 타고 가라\n"
     ]
    }
   ],
   "source": [
    "money = 2000\n",
    "card = True\n",
    "if money >= 3000 or card:\n",
    "    print(\"택시를 타고 가라\")\n",
    "else:\n",
    "    print(\"걸어가라\")"
   ]
  },
  {
   "cell_type": "code",
   "execution_count": 25,
   "id": "af3126fd-5b9a-48c5-8b0f-901e990d8553",
   "metadata": {},
   "outputs": [
    {
     "name": "stdout",
     "output_type": "stream",
     "text": [
      "A회사 불합격입니다.\n",
      "B회사 합격입니다.\n",
      "C회사 합격입니다.\n"
     ]
    }
   ],
   "source": [
    "me = 'Python'\n",
    "compA = ['JAVA','CSS','Javascript','C','MySQL']\n",
    "compB = ['JAVA','Python','Javascript','C','MySQL']\n",
    "compC = ['JAVA','Python','HTML','MySQL']\n",
    "if me in compA:\n",
    "    print(\"A회사 합격입니다.\")\n",
    "else:\n",
    "    print(\"A회사 불합격입니다.\")\n",
    "if me in compB:\n",
    "    print(\"B회사 합격입니다.\")\n",
    "else:\n",
    "    print(\"B회사 불합격입니다.\")\n",
    "if me in compC:\n",
    "    print(\"C회사 합격입니다.\")\n",
    "else:\n",
    "    print(\"C회사 불합격입니다.\")"
   ]
  },
  {
   "cell_type": "code",
   "execution_count": 2,
   "id": "d78972d8-8994-4a06-80ab-5f168de2393a",
   "metadata": {},
   "outputs": [
    {
     "name": "stdin",
     "output_type": "stream",
     "text": [
      "당신의 점수를 입력하세요. 70\n"
     ]
    },
    {
     "name": "stdout",
     "output_type": "stream",
     "text": [
      "당신은 성적표계의 문익점 !\n",
      "C 학점입니다.\n"
     ]
    }
   ],
   "source": [
    "# if와 elif나 else 등을 사용하여 다음을 구성하세요.\n",
    "# 점수를 입력받아서 해당 구간의 학점을 출력하세요.\n",
    " # 60점 미만은 F / 60이상~70미만은 D / 70이상~80미만은 C / 80이상~90미만은 B / 90이상~100점은 A\n",
    "\n",
    "score = int(input('당신의 점수를 입력하세요.'))\n",
    "if 90<=score<=100:\n",
    "    print(\"축하합니다 !\\nA 학점입니다.\")\n",
    "if 80<=score<90:\n",
    "    print(\"우산이 필요하겠네요 !\\nB 학점입니다.\")\n",
    "if 70<=score<80:\n",
    "    print(\"당신은 성적표계의 문익점 !\\nC 학점입니다.\")\n",
    "if 60<=score<70:\n",
    "    print(\"간당간당하네요 !\\nD 학점입니다.\")\n",
    "if score < 60:\n",
    "    print(\"총 맞은 것 처럼 . . \\nF 학점입니다.\")"
   ]
  },
  {
   "cell_type": "code",
   "execution_count": 48,
   "id": "699f9cb8-9593-42b1-9472-395a133b17da",
   "metadata": {},
   "outputs": [
    {
     "name": "stdin",
     "output_type": "stream",
     "text": [
      "점수를 입력하세요. 70\n"
     ]
    },
    {
     "name": "stdout",
     "output_type": "stream",
     "text": [
      "C 학점입니다.\n"
     ]
    }
   ],
   "source": [
    "# 방법 1 : if만 사용\n",
    "점수 = int(input(\"점수를 입력하세요.\"))\n",
    "grade = 'F'\n",
    "if 90<=점수: grade = 'A'\n",
    "if 80<=점수 < 90 : grade = 'B'\n",
    "if 70<=점수 < 80 : grade = 'C'    \n",
    "if 60<=점수 < 70 : grade = 'D'\n",
    "print(f'{grade} 학점입니다.')"
   ]
  },
  {
   "cell_type": "code",
   "execution_count": 59,
   "id": "f95ae66f-e937-4740-a8d6-3ddc5b5aa1ee",
   "metadata": {},
   "outputs": [
    {
     "name": "stdin",
     "output_type": "stream",
     "text": [
      "점수를 입력하세요. \n"
     ]
    },
    {
     "name": "stdout",
     "output_type": "stream",
     "text": [
      "C 학점입니다.\n"
     ]
    }
   ],
   "source": [
    "# 방법 1 변형 : if만 사용  ** 기본 점수 추가\n",
    "점수 = int(input(\"점수를 입력하세요.\") or 77)\n",
    "grade = 'F'\n",
    "if 90<=점수: grade = 'A'\n",
    "if 80<=점수 < 90 : grade = 'B'\n",
    "if 70<=점수 < 80 : grade = 'C'    \n",
    "if 60<=점수 < 70 : grade = 'D'\n",
    "print(f'{grade} 학점입니다.')"
   ]
  },
  {
   "cell_type": "code",
   "execution_count": 51,
   "id": "7fc1ec46-f232-480b-96e9-df369c454209",
   "metadata": {},
   "outputs": [
    {
     "name": "stdin",
     "output_type": "stream",
     "text": [
      "점수를 입력하세요. 77\n"
     ]
    },
    {
     "name": "stdout",
     "output_type": "stream",
     "text": [
      "C 학점입니다.\n"
     ]
    }
   ],
   "source": [
    "# 방법 2 : if, elif, else 사용   ** 효율적임 !!\n",
    "score = int(input(\"점수를 입력하세요.\"))\n",
    "if 90 <= score : grade = 'A'  # 첫줄은 똑같다.\n",
    "elif 80 <= score : grade = 'B'\n",
    "elif 70 <= score : grade = 'C'\n",
    "elif 60 <= score : grade = 'D'\n",
    "else : grade = 'F'\n",
    "print(f'{grade} 학점입니다.')"
   ]
  },
  {
   "cell_type": "code",
   "execution_count": 53,
   "id": "47217e5b-bd94-4585-8316-054ef5cd7205",
   "metadata": {},
   "outputs": [
    {
     "name": "stdin",
     "output_type": "stream",
     "text": [
      "점수를 입력하세요. 88\n"
     ]
    },
    {
     "name": "stdout",
     "output_type": "stream",
     "text": [
      "D 학점입니다.\n"
     ]
    }
   ],
   "source": [
    "# cf)\n",
    "score = int(input(\"점수를 입력하세요.\"))\n",
    "if 60 <= score : grade = 'D'     # elif는 넓은 것에서부터 하나씩 걸러지도록 만들어야 한다!\n",
    "elif 70 <= score : grade = 'C'\n",
    "elif 80 <= score : grade = 'B'\n",
    "elif 90 <= score : grade = 'A'\n",
    "else : grade = 'F'\n",
    "print(f'{grade} 학점입니다.')"
   ]
  },
  {
   "cell_type": "code",
   "execution_count": 6,
   "id": "99382004-a8e1-41a7-b160-e445409f3f4f",
   "metadata": {},
   "outputs": [
    {
     "name": "stdin",
     "output_type": "stream",
     "text": [
      "현재 온도(℃)를 입력하세요. 30\n"
     ]
    },
    {
     "name": "stdout",
     "output_type": "stream",
     "text": [
      "지금은 여름 😎 입니다.\n"
     ]
    }
   ],
   "source": [
    "# 계절 출력하기 !\n",
    "# 봄 15도 이상 ~ 25도 미만 사이 / 여름 25도 이상~ / 가을 10도 이상 ~ 15도 미만 / 겨울 10도 미만\n",
    "\n",
    "온도 = int(input(\"현재 온도(℃)를 입력하세요.\"))\n",
    "# 온도 = float(input(\"현재 온도(℃)를 입력하세요.\"))  ; 소수점 표현하는 함수 (아니면 int/10)\n",
    "if 25 <= 온도 :\n",
    "    Season = \"여름 😎\"\n",
    "elif 15 <= 온도 :\n",
    "    Season = \"봄 🌸\"\n",
    "elif 10 <= 온도 :\n",
    "    Season = \"가을 🍁\"\n",
    "else : Season = \"겨울 ☃️\"\n",
    "print(f'지금은 {Season} 입니다.')"
   ]
  },
  {
   "cell_type": "markdown",
   "id": "840ff8a1-390c-4de7-8f16-649cea3c5410",
   "metadata": {},
   "source": [
    "## while 문"
   ]
  },
  {
   "cell_type": "code",
   "execution_count": 19,
   "id": "24ef1f42-917e-4208-945e-5157b6c3382f",
   "metadata": {},
   "outputs": [
    {
     "name": "stdout",
     "output_type": "stream",
     "text": [
      "1 자.. 나 화났어 !\n",
      "2 자.. 나 화났어 !\n",
      "3 자.. 나 화났어 !\n",
      "4 자.. 나 화났어 !\n",
      "5 자.. 나 화났어 !\n",
      "6 자.. 나 화났어 !\n",
      "7 자.. 나 화났어 !\n",
      "8 자.. 나 화났어 !\n",
      "9 자.. 나 화났어 !\n",
      "10 자.. 나 화났어 !\n",
      "11 자.. 나 화났어 !\n"
     ]
    }
   ],
   "source": [
    "num = 0\n",
    "while True:\n",
    "    num+=1  \n",
    "    print(num, \"자.. 나 화났어 !\")  # 아무 것도 걸지 않을 경우 무한으로 생성됨 !\n",
    "    if num > 10:\n",
    "        break    # while의 진정제~"
   ]
  },
  {
   "cell_type": "code",
   "execution_count": 3,
   "id": "0357a99c-daba-4f3d-9207-544f9fa471df",
   "metadata": {},
   "outputs": [
    {
     "name": "stdout",
     "output_type": "stream",
     "text": [
      "0 자.. 나 화났어 !\n",
      "1 자.. 나 화났어 !\n",
      "2 자.. 나 화났어 !\n",
      "3 자.. 나 화났어 !\n",
      "4 자.. 나 화났어 !\n",
      "5 자.. 나 화났어 !\n",
      "6 자.. 나 화났어 !\n",
      "7 자.. 나 화났어 !\n",
      "8 자.. 나 화났어 !\n",
      "9 자.. 나 화났어 !\n",
      "10 자.. 나 화났어 !\n"
     ]
    }
   ],
   "source": [
    "num = 0\n",
    "while True:\n",
    "    print(num, \"자.. 나 화났어 !\")\n",
    "    num+=1 # 언제 들어갈 것인지, 초기값을 어디에 둘 것인지에 따라 다르다 !\n",
    "    if num > 10:\n",
    "        break"
   ]
  },
  {
   "cell_type": "code",
   "execution_count": 6,
   "id": "b1877b8b-7e24-45d9-ac5c-a6e4a345693c",
   "metadata": {},
   "outputs": [
    {
     "name": "stdout",
     "output_type": "stream",
     "text": [
      "9 자.. 나 화났어 !\n",
      "8 자.. 나 화났어 !\n",
      "7 자.. 나 화났어 !\n",
      "6 자.. 나 화났어 !\n",
      "5 자.. 나 화났어 !\n",
      "4 자.. 나 화났어 !\n",
      "3 자.. 나 화났어 !\n",
      "2 자.. 나 화났어 !\n",
      "1 자.. 나 화났어 !\n",
      "0 자.. 나 화났어 !\n"
     ]
    }
   ],
   "source": [
    "num = 10\n",
    "while num:\n",
    "    num-=1\n",
    "    print(num, \"자.. 나 화났어 !\")"
   ]
  },
  {
   "cell_type": "code",
   "execution_count": 87,
   "id": "983b9491-f207-49d8-85ec-8792129fbfd3",
   "metadata": {},
   "outputs": [
    {
     "name": "stdout",
     "output_type": "stream",
     "text": [
      "나무를 1번 찍었습니다.\n",
      "나무를 2번 찍었습니다.\n",
      "나무를 3번 찍었습니다.\n",
      "나무를 4번 찍었습니다.\n",
      "나무를 5번 찍었습니다.\n",
      "나무를 6번 찍었습니다.\n",
      "나무를 7번 찍었습니다.\n",
      "나무를 8번 찍었습니다.\n",
      "나무를 9번 찍었습니다.\n",
      "나무를 10번 찍었습니다.\n",
      "나무 넘어갑니다.\n"
     ]
    }
   ],
   "source": [
    "# While 예문 교재 133p.\n",
    "treeHit = 0\n",
    "while treeHit < 10:\n",
    "    treeHit = treeHit + 1\n",
    "    print(\"나무를 %d번 찍었습니다.\" %treeHit)\n",
    "    if treeHit == 10:\n",
    "        print(\"나무 넘어갑니다.\")"
   ]
  },
  {
   "cell_type": "code",
   "execution_count": 1,
   "id": "db2e7591-a599-4698-8f0e-5e036a6b5a99",
   "metadata": {},
   "outputs": [
    {
     "name": "stdout",
     "output_type": "stream",
     "text": [
      "나무를 1번 찍었습니다.\n",
      "나무를 2번 찍었습니다.\n",
      "나무를 3번 찍었습니다.\n",
      "나무를 4번 찍었습니다.\n",
      "나무를 5번 찍었습니다.\n",
      "나무를 6번 찍었습니다.\n",
      "나무를 7번 찍었습니다.\n",
      "나무를 8번 찍었습니다.\n",
      "나무를 9번 찍었습니다.\n",
      "나무를 10번 찍었습니다.\n",
      "나무 넘어갑니다.\n"
     ]
    }
   ],
   "source": [
    "# 다른 방법\n",
    "namu = 10\n",
    "while namu :\n",
    "    namu -=1\n",
    "    print(f\"나무를 {10-namu}번 찍었습니다.\")\n",
    "print(\"나무 넘어갑니다.\")"
   ]
  },
  {
   "cell_type": "code",
   "execution_count": 1,
   "id": "55852169-acd1-4930-b912-b2c29f3f802d",
   "metadata": {},
   "outputs": [
    {
     "name": "stdout",
     "output_type": "stream",
     "text": [
      "시스템이 종료되었습니다.\n"
     ]
    }
   ],
   "source": [
    "from IPython.display import clear_output\n",
    "prompt = \"\"\"\n",
    "선택해 주세요.\n",
    "    1. Add\n",
    "    2. Del\n",
    "    3. List\n",
    "    4. Quit\n",
    "\"\"\"\n",
    "number = 0\n",
    "while number != 4:\n",
    "    print(prompt,end='\\r')\n",
    "    number = int(input())\n",
    "    clear_output(wait=True)   # 이전 질문 지우기 ~\n",
    "print(\"시스템이 종료되었습니다.\")"
   ]
  }
 ],
 "metadata": {
  "kernelspec": {
   "display_name": "Python 3 (ipykernel)",
   "language": "python",
   "name": "python3"
  },
  "language_info": {
   "codemirror_mode": {
    "name": "ipython",
    "version": 3
   },
   "file_extension": ".py",
   "mimetype": "text/x-python",
   "name": "python",
   "nbconvert_exporter": "python",
   "pygments_lexer": "ipython3",
   "version": "3.13.1"
  }
 },
 "nbformat": 4,
 "nbformat_minor": 5
}
