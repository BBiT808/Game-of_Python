{
 "cells": [
  {
   "cell_type": "code",
   "execution_count": 18,
   "id": "9a37380a-1c5c-4568-b8b1-2b879eb748fb",
   "metadata": {},
   "outputs": [],
   "source": [
    "# 모든 명령어들은 (){} 와 같은 형식\n",
    "  # if (){}   ; 제어문        > if : 로 바뀜(파이썬에서) / 괄호 대신 들여쓰기로 구분한다.\n",
    "  # for(){}   ; 반복문        > for : 로 바뀜\n",
    "  # While(){}                > while : 로 바뀜"
   ]
  },
  {
   "cell_type": "markdown",
   "id": "7eb36c52-95e9-4534-9f7e-cc37694bf4bc",
   "metadata": {},
   "source": [
    "# 제어문"
   ]
  },
  {
   "cell_type": "code",
   "execution_count": 23,
   "id": "88b50650-6055-4830-93d7-99c78d69d20f",
   "metadata": {},
   "outputs": [
    {
     "name": "stdout",
     "output_type": "stream",
     "text": [
      "항상 동작합니다 !\n",
      "5가 큽니다\n",
      "동작할까요?\n",
      "동작^할까요?\n"
     ]
    }
   ],
   "source": [
    "if True :   # enter 쳤을 때 4칸을 자동으로 띄우게 됨. (Tab키 눌러도 4칸 띄워짐)\n",
    "    print(\"항상 동작합니다 !\")\n",
    "if False :   \n",
    "    print(\"이건 동작할까요 ?\")   # if문에서 참일 때만 값을 내어놓음.\n",
    "if 5>2 :\n",
    "    print(\"5가 큽니다\")\n",
    "if 4 > 10 :\n",
    "    print(\"나올까요?\")\n",
    "if \" \" :\n",
    "    print(\"동작할까요?\")\n",
    "if \"\" :\n",
    "    print(\"동작?할까요?\")\n",
    "if [] :\n",
    "    print(\"동작!할까요?\")\n",
    "if [1,3] :\n",
    "    print(\"동작^할까요?\")\n"
   ]
  },
  {
   "cell_type": "code",
   "execution_count": 19,
   "id": "24ef1f42-917e-4208-945e-5157b6c3382f",
   "metadata": {},
   "outputs": [
    {
     "name": "stdout",
     "output_type": "stream",
     "text": [
      "1 자.. 나 화났어 !\n",
      "2 자.. 나 화났어 !\n",
      "3 자.. 나 화났어 !\n",
      "4 자.. 나 화났어 !\n",
      "5 자.. 나 화났어 !\n",
      "6 자.. 나 화났어 !\n",
      "7 자.. 나 화났어 !\n",
      "8 자.. 나 화났어 !\n",
      "9 자.. 나 화났어 !\n",
      "10 자.. 나 화났어 !\n",
      "11 자.. 나 화났어 !\n"
     ]
    }
   ],
   "source": [
    "num = 0\n",
    "while True:\n",
    "    num+=1  \n",
    "    print(num, \"자.. 나 화났어 !\")  # 아무 것도 걸지 않을 경우 무한으로 생성됨 !\n",
    "    if num > 10:\n",
    "        break    # while의 진정제~"
   ]
  },
  {
   "cell_type": "code",
   "execution_count": 3,
   "id": "0357a99c-daba-4f3d-9207-544f9fa471df",
   "metadata": {},
   "outputs": [
    {
     "name": "stdout",
     "output_type": "stream",
     "text": [
      "0 자.. 나 화났어 !\n",
      "1 자.. 나 화났어 !\n",
      "2 자.. 나 화났어 !\n",
      "3 자.. 나 화났어 !\n",
      "4 자.. 나 화났어 !\n",
      "5 자.. 나 화났어 !\n",
      "6 자.. 나 화났어 !\n",
      "7 자.. 나 화났어 !\n",
      "8 자.. 나 화났어 !\n",
      "9 자.. 나 화났어 !\n",
      "10 자.. 나 화났어 !\n"
     ]
    }
   ],
   "source": [
    "num = 0\n",
    "while True:\n",
    "    print(num, \"자.. 나 화났어 !\")\n",
    "    num+=1 # 언제 들어갈 것인지, 초기값을 어디에 둘 것인지에 따라 다르다 !\n",
    "    if num > 10:\n",
    "        break"
   ]
  },
  {
   "cell_type": "code",
   "execution_count": 6,
   "id": "b1877b8b-7e24-45d9-ac5c-a6e4a345693c",
   "metadata": {},
   "outputs": [
    {
     "name": "stdout",
     "output_type": "stream",
     "text": [
      "9 자.. 나 화났어 !\n",
      "8 자.. 나 화났어 !\n",
      "7 자.. 나 화났어 !\n",
      "6 자.. 나 화났어 !\n",
      "5 자.. 나 화났어 !\n",
      "4 자.. 나 화났어 !\n",
      "3 자.. 나 화났어 !\n",
      "2 자.. 나 화났어 !\n",
      "1 자.. 나 화났어 !\n",
      "0 자.. 나 화났어 !\n"
     ]
    }
   ],
   "source": [
    "num = 10\n",
    "while num:\n",
    "    num-=1\n",
    "    print(num, \"자.. 나 화났어 !\")"
   ]
  },
  {
   "cell_type": "code",
   "execution_count": null,
   "id": "0dbeaa7e-8bf2-494d-89aa-9dcc445f14a1",
   "metadata": {},
   "outputs": [],
   "source": [
    "# else if = elif :   ** 심문한다 생각하자.\n",
    "# else = else :\n",
    "\n",
    "# ex1 ) if 배고픈 사람 ?? \n",
    "#      else > 나머지\n",
    "\n",
    "# ex2) if 서있는 사람 ??  > elif 누워있는사람 ?? > elif ..\n",
    "#    **else : 그 외엔 다 나가 \n",
    "\n",
    "# ex3) if 일찍 갈 사람 :    / if 화장실 갈 사람 :   ; 전체 중에서\n",
    "#      elif ; 계속 파고 드는 질문 > 일찍 갈 사람? 그럼 남은 사람 중에 화장실 갈 사람? 그럼 ..."
   ]
  },
  {
   "cell_type": "code",
   "execution_count": 7,
   "id": "47e4acd9-9a85-417b-b570-406a48eb68c5",
   "metadata": {},
   "outputs": [
    {
     "name": "stdout",
     "output_type": "stream",
     "text": [
      "택시를\n",
      "타고\n",
      "가라\n"
     ]
    }
   ],
   "source": [
    "# 줄맞춤이 중요하다!  ** 콜론(:) 빼먹지 말 것 !!\n",
    "if True:\n",
    "    print(\"택시를\")\n",
    "    print(\"타고\")\n",
    "    print(\"가라\")"
   ]
  },
  {
   "cell_type": "code",
   "execution_count": 8,
   "id": "608e2279-4bc4-4f46-a539-c338f766af27",
   "metadata": {},
   "outputs": [
    {
     "ename": "IndentationError",
     "evalue": "unexpected indent (734307718.py, line 4)",
     "output_type": "error",
     "traceback": [
      "\u001b[1;36m  Cell \u001b[1;32mIn[8], line 4\u001b[1;36m\u001b[0m\n\u001b[1;33m    print(\"가라\")\u001b[0m\n\u001b[1;37m    ^\u001b[0m\n\u001b[1;31mIndentationError\u001b[0m\u001b[1;31m:\u001b[0m unexpected indent\n"
     ]
    }
   ],
   "source": [
    "if True:\n",
    "    print(\"택시를\")\n",
    "print(\"타고\")\n",
    "    print(\"가라\")\n",
    "# Shift + Tab 하면 문장을 앞으로 옮길 수 있음.    "
   ]
  },
  {
   "cell_type": "code",
   "execution_count": null,
   "id": "5a8d9fbc-f461-497a-9cd8-25d81cf2b2ec",
   "metadata": {},
   "outputs": [],
   "source": []
  },
  {
   "cell_type": "code",
   "execution_count": 9,
   "id": "6dd3f83d-1c0d-4ffc-b1de-d940a26102ac",
   "metadata": {},
   "outputs": [
    {
     "name": "stdout",
     "output_type": "stream",
     "text": [
      "가라\n"
     ]
    }
   ],
   "source": [
    "if False:\n",
    "    print(\"택시를\")\n",
    "    print(\"타고\")\n",
    "print(\"가라\")"
   ]
  },
  {
   "cell_type": "code",
   "execution_count": 10,
   "id": "125ddfd0-c46c-4333-890f-4efe849c52de",
   "metadata": {},
   "outputs": [
    {
     "ename": "IndentationError",
     "evalue": "unexpected indent (3158048646.py, line 3)",
     "output_type": "error",
     "traceback": [
      "\u001b[1;36m  Cell \u001b[1;32mIn[10], line 3\u001b[1;36m\u001b[0m\n\u001b[1;33m    print(\"타고\")\u001b[0m\n\u001b[1;37m    ^\u001b[0m\n\u001b[1;31mIndentationError\u001b[0m\u001b[1;31m:\u001b[0m unexpected indent\n"
     ]
    }
   ],
   "source": [
    "if False:\n",
    "    print(\"택시를\")\n",
    "        print(\"타고\")\n",
    "    print(\"가라\")"
   ]
  },
  {
   "cell_type": "code",
   "execution_count": 13,
   "id": "e4a243cc-d07a-47de-89aa-da2efeebe3ba",
   "metadata": {},
   "outputs": [
    {
     "name": "stdin",
     "output_type": "stream",
     "text": [
      "얼마 가지고 있습니까 ? 2800\n"
     ]
    },
    {
     "name": "stdout",
     "output_type": "stream",
     "text": [
      "걸어가세요.\n"
     ]
    }
   ],
   "source": [
    "mymoney = int(input('얼마 가지고 있습니까 ?'))   # input은 무조건 문자로 받으므로 숫자로 변환해줌 !\n",
    "if mymoney >= 3000 :\n",
    "    print('택시를 타고 가세요.')\n",
    "if mymoney < 3000 :\n",
    "    print('걸어가세요.')"
   ]
  },
  {
   "cell_type": "code",
   "execution_count": 16,
   "id": "f27dc850-6e99-4dd9-8bf7-5eb6c06b5eb8",
   "metadata": {},
   "outputs": [
    {
     "name": "stdin",
     "output_type": "stream",
     "text": [
      "얼마 가지고 있습니까 ? 5000\n"
     ]
    },
    {
     "name": "stdout",
     "output_type": "stream",
     "text": [
      "택시를 타고 가세요.\n"
     ]
    }
   ],
   "source": [
    "mymoney = int(input('얼마 가지고 있습니까 ?'))   # input은 무조건 문자로 받으므로 숫자로 변환해줌 !\n",
    "if mymoney >= 3000 :\n",
    "    print('택시를 타고 가세요.')\n",
    "else :\n",
    "    print('걸어가세요.')"
   ]
  },
  {
   "cell_type": "code",
   "execution_count": null,
   "id": "b7ab8f6d-4d2c-4eba-b561-d389e858ceb4",
   "metadata": {},
   "outputs": [],
   "source": []
  }
 ],
 "metadata": {
  "kernelspec": {
   "display_name": "Python 3 (ipykernel)",
   "language": "python",
   "name": "python3"
  },
  "language_info": {
   "codemirror_mode": {
    "name": "ipython",
    "version": 3
   },
   "file_extension": ".py",
   "mimetype": "text/x-python",
   "name": "python",
   "nbconvert_exporter": "python",
   "pygments_lexer": "ipython3",
   "version": "3.13.1"
  }
 },
 "nbformat": 4,
 "nbformat_minor": 5
}
