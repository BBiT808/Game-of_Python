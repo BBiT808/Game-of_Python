{
 "cells": [
  {
   "cell_type": "markdown",
   "id": "ec8df3f1-6f9e-4176-bfb1-ee5645890f91",
   "metadata": {},
   "source": [
    "# 자료형"
   ]
  },
  {
   "cell_type": "markdown",
   "id": "dd50e9d1-1fbe-4791-aec7-816305604079",
   "metadata": {},
   "source": [
    "## 리스트 자료형"
   ]
  },
  {
   "cell_type": "markdown",
   "id": "6a6749f2-bc25-4ded-bccb-9854666a7fcd",
   "metadata": {},
   "source": [
    "### 리스트의 인덱싱과 슬라이싱"
   ]
  },
  {
   "cell_type": "code",
   "execution_count": 1,
   "id": "65605b13-d222-4287-8861-96c10070d0e8",
   "metadata": {},
   "outputs": [],
   "source": [
    "# 인덱스는 순서를 뜻하고, 리스트(배열)은 인덱스가 중요하다.\n",
    " # 콤마(,)를 기준으로 여러 개가 들어간다."
   ]
  },
  {
   "cell_type": "code",
   "execution_count": 2,
   "id": "3d697262-f4f8-46fb-bfb3-3637375dc18e",
   "metadata": {},
   "outputs": [],
   "source": [
    "odd = [1,3,5,7,9]"
   ]
  },
  {
   "cell_type": "code",
   "execution_count": 3,
   "id": "e7f23457-1a38-4b6a-a6be-7382de2a2ae6",
   "metadata": {},
   "outputs": [
    {
     "name": "stdout",
     "output_type": "stream",
     "text": [
      "2\n",
      "['Life', 'is']\n",
      "Life\n",
      "is\n"
     ]
    }
   ],
   "source": [
    "a = []\n",
    "b = [1,2,3]\n",
    "c = ['Life', 'is', 'too', 'short']\n",
    "d = [1, 2, 'life', 'is']\n",
    "e = [1, 2, ['Life','is']]\n",
    "print(e[1])\n",
    "print(e[2])\n",
    "print(e[2][0])  # 2번 중의 첫번째\n",
    "print(e[2][1])  # 2번 중의 두번째"
   ]
  },
  {
   "cell_type": "code",
   "execution_count": 4,
   "id": "2f4fb08f-44f2-4686-b774-67d02efa814f",
   "metadata": {},
   "outputs": [
    {
     "name": "stdout",
     "output_type": "stream",
     "text": [
      "5\n",
      "Lifeshort\n",
      "LifeLifeLife\n"
     ]
    }
   ],
   "source": [
    "# 리스트의 인덱싱과 연산\n",
    "print(b[1] + b[2])\n",
    "print(c[0] + c[3])\n",
    "print(c[0] * b[2])"
   ]
  },
  {
   "cell_type": "code",
   "execution_count": 5,
   "id": "a874d4f0-1a9d-49ad-b236-2dfcdb4c2cf5",
   "metadata": {},
   "outputs": [],
   "source": [
    "# Shift + home or End : 글자 전체 드래그"
   ]
  },
  {
   "cell_type": "code",
   "execution_count": 6,
   "id": "c9190d10-a4ef-433d-8e3f-3a25d8fa9f1f",
   "metadata": {},
   "outputs": [
    {
     "data": {
      "text/plain": [
       "'short'"
      ]
     },
     "execution_count": 6,
     "metadata": {},
     "output_type": "execute_result"
    }
   ],
   "source": [
    "c[-1]"
   ]
  },
  {
   "cell_type": "code",
   "execution_count": 7,
   "id": "3d0c810a-d4a7-49f6-b8f2-027bd8613237",
   "metadata": {},
   "outputs": [
    {
     "name": "stdout",
     "output_type": "stream",
     "text": [
      "[11, 22, 33, 44, 55]\n",
      "[33, 44, 55]\n",
      "[11, 22]\n",
      "[44, 55]\n",
      "[11, 33, 55]\n",
      "[55, 44, 33, 22, 11]\n"
     ]
    }
   ],
   "source": [
    "# 리스트의 슬라이싱\n",
    "a = [11,22,33,44,55]\n",
    "print(a[:])\n",
    "print(a[2:])\n",
    "print(a[:-3])\n",
    "print(a[-2:])\n",
    "print(a[::2]) # 콜론 하나 더 넣어서 step 옵션 넣을 수 있다.\n",
    "print(a[::-1])"
   ]
  },
  {
   "cell_type": "code",
   "execution_count": 8,
   "id": "87c444ed-abe5-4ff9-9f38-1d1a765662ba",
   "metadata": {},
   "outputs": [
    {
     "name": "stdout",
     "output_type": "stream",
     "text": [
      "[2, 3]\n"
     ]
    }
   ],
   "source": [
    "# 예제\n",
    "a = [1,2,3,4,5]\n",
    "print(a[1:3])"
   ]
  },
  {
   "cell_type": "markdown",
   "id": "ec9e5133-7ccc-46be-8d84-81a7f1acb3bc",
   "metadata": {},
   "source": [
    "### 리스트 연산, 수정, 삭제하기"
   ]
  },
  {
   "cell_type": "code",
   "execution_count": 9,
   "id": "53e2ecce-764e-423a-bd0d-e012c611aea2",
   "metadata": {},
   "outputs": [
    {
     "name": "stdout",
     "output_type": "stream",
     "text": [
      "[11, 22, 33, 44, 55, 66]\n",
      "[11, 22, 33, 11, 22, 33, 11, 22, 33]\n"
     ]
    },
    {
     "data": {
      "text/plain": [
       "9"
      ]
     },
     "execution_count": 9,
     "metadata": {},
     "output_type": "execute_result"
    }
   ],
   "source": [
    "a = [11,22,33]\n",
    "b = [44,55,66]\n",
    "\n",
    "# 리스트 더하기\n",
    "print(a+b)\n",
    "# 리스트 반복하기\n",
    "c = a * 3\n",
    "print(c)\n",
    "len(c)"
   ]
  },
  {
   "cell_type": "code",
   "execution_count": 10,
   "id": "0105336e-5578-4b07-955d-b0476880ef07",
   "metadata": {
    "jp-MarkdownHeadingCollapsed": true
   },
   "outputs": [
    {
     "name": "stdout",
     "output_type": "stream",
     "text": [
      "[11, 22, 44]\n",
      "[11, 22, 44]\n",
      "[11, 44]\n"
     ]
    }
   ],
   "source": [
    "# 리스트 값 수정하기\n",
    "a = [11, 22, 33]\n",
    "a[2] = 44\n",
    "print(a)\n",
    "# a[3] = 55  # 없는 요소를 수정하는 것은 에러\n",
    "a[1]\n",
    "print(a)\n",
    "# a[1] = '' # 빈칸 수정 삽입\n",
    "# a[1] = 0 # 0으로 수정 삽입\n",
    "\n",
    "del a[1]\n",
    "print(a)"
   ]
  },
  {
   "cell_type": "code",
   "execution_count": 11,
   "id": "d2a3443d-869c-433b-8acb-c87c84827e32",
   "metadata": {},
   "outputs": [
    {
     "name": "stdout",
     "output_type": "stream",
     "text": [
      "[11, 22, 33, 11, 22, 33, 11, 22, 33]\n"
     ]
    }
   ],
   "source": [
    "# 리스트 값 슬라이싱으로 삭제\n",
    "print(c)\n",
    "del c[:4]"
   ]
  },
  {
   "cell_type": "code",
   "execution_count": 12,
   "id": "455feedc-8ca0-4e4d-a42d-dc6f0519b1f9",
   "metadata": {
    "scrolled": true
   },
   "outputs": [
    {
     "name": "stdout",
     "output_type": "stream",
     "text": [
      "[22, 33, 11, 22, 33]\n"
     ]
    }
   ],
   "source": [
    "print(c)"
   ]
  },
  {
   "cell_type": "markdown",
   "id": "8679f269-75a8-4970-8c31-cf5a6a428346",
   "metadata": {},
   "source": [
    "### 리스트 관련 함수"
   ]
  },
  {
   "cell_type": "code",
   "execution_count": null,
   "id": "6d9cd06b-7ef7-41e4-afa3-b6aa40e39abc",
   "metadata": {},
   "outputs": [],
   "source": [
    "dir(list)"
   ]
  },
  {
   "cell_type": "code",
   "execution_count": 14,
   "id": "f226ef16-7dc4-42dd-a7eb-a4eb12466e11",
   "metadata": {},
   "outputs": [
    {
     "name": "stdout",
     "output_type": "stream",
     "text": [
      "[]\n"
     ]
    }
   ],
   "source": [
    "# 리스트 요소 비우기 (초기화)\n",
    "c.clear()\n",
    "print(c)"
   ]
  },
  {
   "cell_type": "code",
   "execution_count": 15,
   "id": "356a66f3-cb03-48ca-997e-129da5ee76c5",
   "metadata": {},
   "outputs": [],
   "source": [
    "a=[] # 리스트 초기화"
   ]
  },
  {
   "cell_type": "code",
   "execution_count": 16,
   "id": "0851de8f-be5a-42f9-8547-b6d868f67b55",
   "metadata": {},
   "outputs": [
    {
     "name": "stdout",
     "output_type": "stream",
     "text": [
      "[4]\n",
      "[4, [11, 22]]\n"
     ]
    }
   ],
   "source": [
    "# 리스트에 요소 추가하기 - append\n",
    "a.append(4)\n",
    "print(a)\n",
    "a.append([11,22])\n",
    "print(a)"
   ]
  },
  {
   "cell_type": "code",
   "execution_count": 17,
   "id": "ea565069-918d-44a6-9487-1d2ce3f9aa06",
   "metadata": {},
   "outputs": [],
   "source": [
    "b = []   # 초기의 텅 빈 값\n",
    "num = 0  # 초기의 설정한 값"
   ]
  },
  {
   "cell_type": "code",
   "execution_count": 18,
   "id": "29560c4b-9e58-4413-84a9-e2e3cf8998b8",
   "metadata": {},
   "outputs": [
    {
     "name": "stdout",
     "output_type": "stream",
     "text": [
      "[1]\n"
     ]
    }
   ],
   "source": [
    "num += 1\n",
    "b.append(num)\n",
    "print(b)"
   ]
  },
  {
   "cell_type": "code",
   "execution_count": 19,
   "id": "e7513124-58f0-44e0-af9a-b6ad0ecf8bfd",
   "metadata": {},
   "outputs": [
    {
     "name": "stdout",
     "output_type": "stream",
     "text": [
      "[11, 22, 33, 44, 55]\n"
     ]
    }
   ],
   "source": [
    "# 리스트 정렬 - sort(오름차순)  ; 인덱싱 파괴에 주의 !\n",
    "a = [11,44,33,22,55]\n",
    "a.sort()\n",
    "print(a)"
   ]
  },
  {
   "cell_type": "code",
   "execution_count": 20,
   "id": "95ea05b8-1bcd-420d-988a-35a887a052b4",
   "metadata": {},
   "outputs": [
    {
     "name": "stdout",
     "output_type": "stream",
     "text": [
      "[55, 44, 33, 22, 11]\n"
     ]
    }
   ],
   "source": [
    "# 리스트 정렬 - sort(내림차순) \n",
    "a = [11,44,33,22,55]\n",
    "a.sort(reverse=True)\n",
    "print(a)"
   ]
  },
  {
   "cell_type": "code",
   "execution_count": 21,
   "id": "c9788aaf-3bdc-44d2-a0df-7aa916c70b18",
   "metadata": {},
   "outputs": [
    {
     "name": "stdout",
     "output_type": "stream",
     "text": [
      "[66, 77, 88, 99, 0]\n",
      "[0, 66, 77, 88, 99]\n",
      "[99, 88, 77, 66, 0]\n"
     ]
    }
   ],
   "source": [
    "# 리스트정렬 원본 유지하기\n",
    "aa = [66, 77, 88, 99, 0]\n",
    "bb = sorted(aa)\n",
    "cc = sorted(aa,reverse=True)\n",
    "print(aa)\n",
    "print(bb)\n",
    "print(cc)"
   ]
  },
  {
   "cell_type": "code",
   "execution_count": 22,
   "id": "d1440553-5c76-4be1-8ade-e94b2db599df",
   "metadata": {},
   "outputs": [
    {
     "name": "stdout",
     "output_type": "stream",
     "text": [
      "[55, 22, 33, 44, 11]\n"
     ]
    }
   ],
   "source": [
    "# 리스트 뒤집기 - reverse ; 리스트 정렬을 오름차순 한 후 뒤집으면 내림차순~\n",
    "a = [11,44,33,22,55]\n",
    "a.reverse()\n",
    "print(a)"
   ]
  },
  {
   "cell_type": "code",
   "execution_count": 23,
   "id": "3bdd1e72-f9a1-4cbb-86c8-cb2bc7248e17",
   "metadata": {},
   "outputs": [
    {
     "name": "stdout",
     "output_type": "stream",
     "text": [
      "['banana', 'kiwi', 'orange', 'melon', 'pear', 'apple', 'strawberry', 'blueberry']\n",
      "['kiwi', 'pear', 'melon', 'apple', 'banana', 'orange', 'blueberry', 'strawberry']\n",
      "['strawberry', 'blueberry', 'banana', 'orange', 'melon', 'apple', 'kiwi', 'pear']\n"
     ]
    }
   ],
   "source": [
    "# sorted 응용\n",
    "fruit = ['banana','kiwi','orange','melon','pear','apple','strawberry','blueberry']\n",
    "result = sorted(fruit,key=len)\n",
    "result2 = sorted(fruit,key=len,reverse=True)\n",
    "print(fruit)\n",
    "print(result)\n",
    "print(result2)"
   ]
  },
  {
   "cell_type": "code",
   "execution_count": 24,
   "id": "7d038cdc-5b95-4acd-9765-0b056c4b029c",
   "metadata": {},
   "outputs": [
    {
     "name": "stdout",
     "output_type": "stream",
     "text": [
      "과일을 먹어볼까 ? ㅇOㅇ\n",
      "kiwi 냠냠 맛있다 ~\n",
      "pear 냠냠 맛있다 ~\n",
      "melon 냠냠 맛있다 ~\n",
      "apple 냠냠 맛있다 ~\n",
      "banana 못 먹겠어 ! 웩 ! -ㅠ-\n",
      "banana 냠냠 맛있다 ~\n",
      "orange 냠냠 맛있다 ~\n",
      "blueberry 냠냠 맛있다 ~\n",
      "strawberry 냠냠 맛있다 ~\n",
      "와 ~ 다 먹었다 ! ^-^\n"
     ]
    }
   ],
   "source": [
    "print('과일을 먹어볼까 ? ㅇOㅇ')\n",
    "for r in result:\n",
    "    if r == 'banana':\n",
    "        print(r + ' 못 먹겠어 ! 웩 ! -ㅠ-')\n",
    "    print(r + ' 냠냠 맛있다 ~')\n",
    "print('와 ~ 다 먹었다 ! ^-^')"
   ]
  },
  {
   "cell_type": "code",
   "execution_count": 25,
   "id": "a7f1d4f8-d33d-4248-ba21-ccb08deb0f14",
   "metadata": {},
   "outputs": [
    {
     "data": {
      "text/plain": [
       "3"
      ]
     },
     "execution_count": 25,
     "metadata": {},
     "output_type": "execute_result"
    }
   ],
   "source": [
    "# 인덱스 반환 - index\n",
    "fruit = ['banana','kiwi','orange','melon','pear','apple','strawberry','blueberry']\n",
    "fruit.index('melon')\n",
    "# fruit.index('m')   : 틀리면 안 나옴.\n",
    "# fruit.find('melon')  : 없다."
   ]
  },
  {
   "cell_type": "code",
   "execution_count": 27,
   "id": "618eff75-bfc6-415b-877a-faf134953416",
   "metadata": {},
   "outputs": [
    {
     "name": "stdin",
     "output_type": "stream",
     "text": [
      "먹고 싶은 과일을 입력하세요 melon\n"
     ]
    },
    {
     "name": "stdout",
     "output_type": "stream",
     "text": [
      "melon를 좋아하시는 군요! 그것은 4번 째에 있습니다.\n"
     ]
    }
   ],
   "source": [
    "# 인덱스 응용\n",
    "fruit = ['banana','kiwi','orange','melon','pear','apple','strawberry','blueberry']\n",
    "want = input('먹고 싶은 과일을 입력하세요')\n",
    "Where = fruit.index(want)\n",
    "print(f'{want}를 좋아하시는 군요! 그것은 {Where + 1}번 째에 있습니다.')"
   ]
  },
  {
   "cell_type": "code",
   "execution_count": 39,
   "id": "fb20d7d8-1a3c-475e-beb6-267629752ace",
   "metadata": {},
   "outputs": [],
   "source": [
    "# cf)\n",
    "# inp = input('먹고 싶은 과일을 입력하세요')\n",
    "# fruit.index(inp)\n",
    "# fruit.index(input('먹고 싶은 과일을 입력하세요'))\n",
    "# print(inp + '를 좋아하시는 군요 !')"
   ]
  },
  {
   "cell_type": "code",
   "execution_count": 41,
   "id": "58b8606f-12ff-4f3c-9672-39cd13c232da",
   "metadata": {},
   "outputs": [
    {
     "name": "stdout",
     "output_type": "stream",
     "text": [
      "[11, 22, 33, 55, 66, 77, 88]\n",
      "[11, 22, 33, 44, 55, 66, 77, 88]\n"
     ]
    }
   ],
   "source": [
    "# 리스트에 요소 삽입 - insert\n",
    "num = [11,22,33,55,66,77,88]\n",
    "print(num)\n",
    "num.insert(3,44)   # 3번째에 44를 넣어라 (3은 인덱스 위치, 44는 원하는 값)\n",
    "print(num)"
   ]
  },
  {
   "cell_type": "code",
   "execution_count": 64,
   "id": "eea0bfbc-b202-4b75-9ba7-897242b57032",
   "metadata": {},
   "outputs": [],
   "source": [
    "ex = [] # 초기화 시키기 위함"
   ]
  },
  {
   "cell_type": "code",
   "execution_count": 65,
   "id": "e8172130-848c-4dea-9e4a-e038c67b59cf",
   "metadata": {},
   "outputs": [
    {
     "name": "stdout",
     "output_type": "stream",
     "text": [
      "['맨 앞']\n",
      "['-1인덱스', '맨 앞']\n",
      "['맨 앞', '-1인덱스', '맨 앞']\n",
      "['맨 앞', '-1인덱스', '맨 앞', '제일 끝']\n"
     ]
    }
   ],
   "source": [
    "ex.insert(0,'맨 앞')\n",
    "print(ex)\n",
    "ex.insert(-1,'-1인덱스')\n",
    "print(ex)\n",
    "ex.insert(0,'맨 앞')\n",
    "print(ex)\n",
    "ex.insert(len(ex),'제일 끝')  # len()함수를 이용해서 맨 뒤에 삽입할 수 있다.\n",
    "print(ex)"
   ]
  },
  {
   "cell_type": "code",
   "execution_count": 6,
   "id": "ceec0b78-7e99-4781-b633-61d312e38541",
   "metadata": {},
   "outputs": [],
   "source": [
    "# 20250205 세번째 수업!"
   ]
  },
  {
   "cell_type": "code",
   "execution_count": 5,
   "id": "82f923f1-3366-4a48-ac79-db1b3fa215d0",
   "metadata": {},
   "outputs": [
    {
     "name": "stdout",
     "output_type": "stream",
     "text": [
      "[1, 2, 1, 2, 3]\n"
     ]
    }
   ],
   "source": [
    "# 리스트 요소제거 - remove\n",
    "a = [1,2,3,1,2,3]\n",
    "a.remove(3)  # 처음 만나는 요소 제거\n",
    "print(a)"
   ]
  },
  {
   "cell_type": "code",
   "execution_count": 21,
   "id": "1045f869-1c4a-46e8-816a-b79ac319c94f",
   "metadata": {},
   "outputs": [
    {
     "name": "stdout",
     "output_type": "stream",
     "text": [
      "None\n"
     ]
    }
   ],
   "source": [
    "# 테스트 (remove)   - remove는 값을 return하지 않는다.\n",
    "a = [11,22,33,44,55,66]\n",
    "hands = a.remove(33)\n",
    "print(hands)"
   ]
  },
  {
   "cell_type": "code",
   "execution_count": 3,
   "id": "98c30863-3fe6-4dcf-96d9-830542b6e48f",
   "metadata": {},
   "outputs": [
    {
     "name": "stdout",
     "output_type": "stream",
     "text": [
      "33을(를) 제거 하였습니다.\n"
     ]
    }
   ],
   "source": [
    "# 테스트 (remove)   - remove는 값을 return하지 않는다.\n",
    "choice = 33\n",
    "a = [11,22,33,44,55,66]\n",
    "a.remove(choice)\n",
    "print(f'{choice}을(를) 제거 하였습니다.')"
   ]
  },
  {
   "cell_type": "code",
   "execution_count": null,
   "id": "f3a03769-6cdf-42c8-b46c-49292b592a4f",
   "metadata": {},
   "outputs": [],
   "source": [
    "# print와 return은 다르다 !"
   ]
  },
  {
   "cell_type": "code",
   "execution_count": 17,
   "id": "a069c034-f671-44a5-8187-140572abb215",
   "metadata": {},
   "outputs": [],
   "source": [
    "# 리스트 요소 끄집어 내기 - pop (return 된 것을 따로 받으면 사용할 수 있음)\n",
    "a = [1,2,3] # 요소가 다 나올 때까지 뒤에서 하나씩 꺼냄"
   ]
  },
  {
   "cell_type": "code",
   "execution_count": 18,
   "id": "bc16d025-c7b9-4f61-8a79-0c709ec19149",
   "metadata": {},
   "outputs": [
    {
     "name": "stdout",
     "output_type": "stream",
     "text": [
      "[1, 2]\n",
      "받은 거 3\n"
     ]
    }
   ],
   "source": [
    "hand = a.pop() # 리턴(return)값을 받음\n",
    "print(a)\n",
    "print(\"받은 거\", hand)"
   ]
  },
  {
   "cell_type": "code",
   "execution_count": null,
   "id": "f6440cb1-c961-45eb-9e53-b3a245902938",
   "metadata": {},
   "outputs": [],
   "source": [
    "# 선입선출 FIFO (First In First Out) / Queue : 처음 들어가면 처음 나옴\n",
    "# 후입선출 LIFO (Last In First Out) / Stack :  마지막에 들어가면 처음 나옴 ; 홈페이지 cf) 뒤로가기"
   ]
  },
  {
   "cell_type": "code",
   "execution_count": 20,
   "id": "5c5ab572-024d-4816-9856-aed74d442d2c",
   "metadata": {},
   "outputs": [
    {
     "name": "stdout",
     "output_type": "stream",
     "text": [
      "[1, 3]\n",
      "리턴 값 2\n"
     ]
    }
   ],
   "source": [
    "a = [1,2,3]\n",
    "hand = a.pop(1) # 리스트 중 받는 값의 순서를 설정할 수도 있음\n",
    "print(a)\n",
    "print(\"리턴 값\", hand)"
   ]
  },
  {
   "cell_type": "code",
   "execution_count": 22,
   "id": "3a4abffc-c944-446d-bf2a-f833b6c1658d",
   "metadata": {},
   "outputs": [
    {
     "name": "stdout",
     "output_type": "stream",
     "text": [
      "2\n",
      "8\n"
     ]
    }
   ],
   "source": [
    "# 리스트에 포함된 요소 x의 개수 세기 - Count\n",
    "st = \"안녕하세요 반가워요\"\n",
    "print(st.count(\"요\"))\n",
    "a = [1,2,3,4,5,1,1,1,2,3,4,1,1,1,1,]\n",
    "print(a.count(1))"
   ]
  },
  {
   "cell_type": "code",
   "execution_count": 27,
   "id": "6c04c0b5-547b-4075-9923-002e9f080260",
   "metadata": {},
   "outputs": [
    {
     "name": "stdout",
     "output_type": "stream",
     "text": [
      "[1, 2, 3, 4, 5]\n",
      "[11, 22, 33, 44, 55, 66]\n"
     ]
    }
   ],
   "source": [
    "# 리스트 확장   ; 원본 변경\n",
    "a = [1,2,3]\n",
    "a.extend([4,5])\n",
    "print(a)\n",
    "\n",
    "b = [11,22,33]\n",
    "c = [44,55,66]\n",
    "print(b+c)"
   ]
  },
  {
   "cell_type": "code",
   "execution_count": null,
   "id": "ef1ab688-44bf-4770-8a6a-14945328ca86",
   "metadata": {},
   "outputs": [],
   "source": [
    "# 데이터의 핵심은 C(Create) R(Read) U(Update) D(Delete)"
   ]
  },
  {
   "cell_type": "code",
   "execution_count": 9,
   "id": "a6124536-a8b8-4db9-9159-aad3424bc116",
   "metadata": {},
   "outputs": [],
   "source": [
    "# 장바구니\n",
    "bag = []"
   ]
  },
  {
   "cell_type": "code",
   "execution_count": 14,
   "id": "f4b71462-1192-4478-b3e3-fb9572a5fc52",
   "metadata": {},
   "outputs": [
    {
     "name": "stdin",
     "output_type": "stream",
     "text": [
      "필요한 항목을 넣어주세요. 카레\n"
     ]
    },
    {
     "name": "stdout",
     "output_type": "stream",
     "text": [
      "장바구니에는 ['호박', '감자', '위스키', '맥주', '카레']들이 있습니다.\n"
     ]
    }
   ],
   "source": [
    "# Create 생성\n",
    "inp = input('필요한 항목을 넣어주세요.')\n",
    "bag.append(inp)\n",
    "print(f'장바구니에는 {bag}들이 있습니다.')"
   ]
  },
  {
   "cell_type": "code",
   "execution_count": 15,
   "id": "4b58c36a-9212-40d0-aa0b-57ee7d39fcdc",
   "metadata": {},
   "outputs": [
    {
     "name": "stdout",
     "output_type": "stream",
     "text": [
      "호박을 꺼내서 장바구니에 ['감자', '위스키', '맥주', '카레']가 남았습니다.\n"
     ]
    }
   ],
   "source": [
    "# FIFO 출력(큐(Queue) 출력)\n",
    "hand = bag.pop(0)\n",
    "print(f'{hand}을 꺼내서 장바구니에 {bag}가 남았습니다.')"
   ]
  },
  {
   "cell_type": "code",
   "execution_count": 20,
   "id": "e81fbffe-6a62-4e16-ad81-70de533fe874",
   "metadata": {},
   "outputs": [
    {
     "name": "stdin",
     "output_type": "stream",
     "text": [
      "꺼내고 싶은 물품을 입력하세요. 맥주\n"
     ]
    },
    {
     "name": "stdout",
     "output_type": "stream",
     "text": [
      "2\n"
     ]
    }
   ],
   "source": [
    "# 선택 출력\n",
    "bring = input('꺼내고 싶은 물품을 입력하세요.')  # 변수를 설정할 때는 컴퓨터언어와 유사한 것은 피하기\n",
    "print(bag.index(bring))"
   ]
  },
  {
   "cell_type": "code",
   "execution_count": 26,
   "id": "92ce4ff4-4043-4516-9577-91eb9d675845",
   "metadata": {},
   "outputs": [
    {
     "name": "stdout",
     "output_type": "stream",
     "text": [
      "바구니에 ['호박', '감자', '소주', '맥주', '피자'] 물품이 있습니다.\n"
     ]
    },
    {
     "name": "stdin",
     "output_type": "stream",
     "text": [
      "꺼내고 싶은 물품을 입력하세요. 소주\n"
     ]
    },
    {
     "name": "stdout",
     "output_type": "stream",
     "text": [
      "바구니에서 소주 꺼내어 ['호박', '감자', '맥주', '피자']이 남았습니다.\n"
     ]
    }
   ],
   "source": [
    "bag = ['호박', '감자', '소주', '맥주', '피자']\n",
    "print(f'바구니에 {bag} 물품이 있습니다.')\n",
    "bring = input('꺼내고 싶은 물품을 입력하세요.')\n",
    "hand2 = bag.pop(bag.index(bring))\n",
    "print(f\"바구니에서 {hand2} 꺼내어 {bag}이 남았습니다.\")"
   ]
  },
  {
   "cell_type": "code",
   "execution_count": 23,
   "id": "a8942b0f-0a6e-41a1-ba35-cff21816aac7",
   "metadata": {},
   "outputs": [
    {
     "name": "stdin",
     "output_type": "stream",
     "text": [
      "추가할 물건 이름을 적어주세요. 위스키\n",
      "어느 물품의 뒤에 넣어둘까요? 소주\n"
     ]
    },
    {
     "name": "stdout",
     "output_type": "stream",
     "text": [
      "['호박', '감자', '소주', '위스키', '맥주', '피자']\n"
     ]
    }
   ],
   "source": [
    "# 실습\n",
    "bag = ['호박', '감자', '소주', '맥주', '피자']\n",
    "# 물품 하나를 추가하기. 단, 지정한 물품 바로 뒤에 추가하기.\n",
    "\n",
    "#내 답\n",
    "test1 = input('추가할 물건 이름을 적어주세요.')\n",
    "test2 = input('어느 물품의 뒤에 넣어둘까요?')\n",
    "a = bag.index(test2)\n",
    "bag.insert(a+1,test1)\n",
    "print(bag)"
   ]
  },
  {
   "cell_type": "code",
   "execution_count": 24,
   "id": "ba362bee-2901-4402-80b0-12db5fd326ff",
   "metadata": {},
   "outputs": [
    {
     "name": "stdin",
     "output_type": "stream",
     "text": [
      "추가할 물건 이름을 적어주세요 치즈\n",
      "어느 물품의 뒤에 넣어둘까요? 맥주\n"
     ]
    },
    {
     "name": "stdout",
     "output_type": "stream",
     "text": [
      "['호박', '감자', '소주', '맥주', '치즈', '피자']\n"
     ]
    }
   ],
   "source": [
    "# 풀이\n",
    "bag = ['호박', '감자', '소주', '맥주', '피자']\n",
    "thing = input('추가할 물건 이름을 적어주세요')\n",
    "where = input('어느 물품의 뒤에 넣어둘까요?')\n",
    "위치 = bag.index(where) + 1\n",
    "bag.insert(위치,thing)\n",
    "print(bag)"
   ]
  },
  {
   "cell_type": "code",
   "execution_count": 31,
   "id": "483f079e-3884-4c73-ae31-aaf05c729de3",
   "metadata": {},
   "outputs": [
    {
     "name": "stdin",
     "output_type": "stream",
     "text": [
      "내가 누구게? 숫자를 입력하세요. 777\n"
     ]
    },
    {
     "name": "stdout",
     "output_type": "stream",
     "text": [
      "781 <class 'int'>\n"
     ]
    }
   ],
   "source": [
    "# 테스트\n",
    "num = int(input('내가 누구게? 숫자를 입력하세요.'))\n",
    "print(int(num) + 4, type(num))"
   ]
  },
  {
   "cell_type": "code",
   "execution_count": null,
   "id": "c286d4d5-487e-469c-ad81-c801c46bcbc7",
   "metadata": {},
   "outputs": [],
   "source": [
    "# 환율 계산기 만들기\n",
    "\n",
    "test1 = input(\"원화로 계산할 달러를 입력하세요.\")"
   ]
  },
  {
   "cell_type": "code",
   "execution_count": null,
   "id": "7250ae0c-f9a6-48cf-b1ab-69fbf11f5920",
   "metadata": {},
   "outputs": [],
   "source": []
  }
 ],
 "metadata": {
  "kernelspec": {
   "display_name": "Python 3 (ipykernel)",
   "language": "python",
   "name": "python3"
  },
  "language_info": {
   "codemirror_mode": {
    "name": "ipython",
    "version": 3
   },
   "file_extension": ".py",
   "mimetype": "text/x-python",
   "name": "python",
   "nbconvert_exporter": "python",
   "pygments_lexer": "ipython3",
   "version": "3.13.1"
  }
 },
 "nbformat": 4,
 "nbformat_minor": 5
}
